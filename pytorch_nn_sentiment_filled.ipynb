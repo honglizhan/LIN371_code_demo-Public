{
 "cells": [
  {
   "cell_type": "code",
   "execution_count": 1,
   "metadata": {
    "colab": {
     "base_uri": "https://localhost:8080/",
     "height": 304
    },
    "id": "tu2vFBdErUkT",
    "outputId": "8e5366dc-dc89-4aa6-aeee-5f8bde51a1bf"
   },
   "outputs": [],
   "source": [
    "#from google.colab import drive\n",
    "#drive.mount('/content/drive')"
   ]
  },
  {
   "cell_type": "code",
   "execution_count": 2,
   "metadata": {
    "id": "yz44egbQrXor"
   },
   "outputs": [
    {
     "name": "stdout",
     "output_type": "stream",
     "text": [
      "                                            sentence  label source\n",
      "0                           Wow... Loved this place.      1   yelp\n",
      "1                                 Crust is not good.      0   yelp\n",
      "2          Not tasty and the texture was just nasty.      0   yelp\n",
      "3  Stopped by during the late May bank holiday of...      1   yelp\n",
      "4  The selection on the menu was great and so wer...      1   yelp\n"
     ]
    }
   ],
   "source": [
    "import pandas as pd\n",
    "\n",
    "filepath_dict = {'yelp':   'sentiment-labelled-sentences/yelp_labelled.txt',\n",
    "                 'amazon': 'sentiment-labelled-sentences/amazon_cells_labelled.txt',\n",
    "                 'imdb':   'sentiment-labelled-sentences/imdb_labelled.txt'}\n",
    "\n",
    "df_list = []\n",
    "for source, filepath in filepath_dict.items():\n",
    "    df = pd.read_csv(filepath, names=['sentence', 'label'], sep='\\t')\n",
    "    df['source'] = source  # Add another column filled with the source name\n",
    "    df_list.append(df)\n",
    "\n",
    "df = pd.concat(df_list)\n",
    "print(df.head())"
   ]
  },
  {
   "cell_type": "code",
   "execution_count": 3,
   "metadata": {
    "id": "OLxoQbpmrrkv"
   },
   "outputs": [
    {
     "name": "stdout",
     "output_type": "stream",
     "text": [
      "(2198,)\n",
      "(275,)\n",
      "(275,)\n"
     ]
    }
   ],
   "source": [
    "from sklearn.model_selection import train_test_split\n",
    "\n",
    "sentences = df['sentence'].values\n",
    "y = df['label'].values\n",
    "# First split 20% of the data into testing and validation\n",
    "sentences_train, sentences_test_val, y_train, y_test_val = train_test_split(sentences, y, test_size=0.2, random_state=1000)\n",
    "# Then split 50% of the test+val data as validation\n",
    "sentences_test, sentences_val, y_test, y_val = train_test_split(sentences_test_val, y_test_val, test_size=0.5, random_state=1000)\n",
    "\n",
    "print(y_train.shape)\n",
    "print(y_val.shape)\n",
    "print(y_test.shape)"
   ]
  },
  {
   "cell_type": "markdown",
   "metadata": {
    "id": "ool1_JdirwGx"
   },
   "source": [
    "## Transform our sentences into one-hot representations using CountVectorizer"
   ]
  },
  {
   "cell_type": "code",
   "execution_count": 4,
   "metadata": {
    "id": "m_nx8OLzrtil"
   },
   "outputs": [],
   "source": [
    "from sklearn.feature_extraction.text import CountVectorizer\n",
    "\n",
    "vectorizer = CountVectorizer()\n",
    "vectorizer.fit(sentences_train)\n",
    "X_train = vectorizer.transform(sentences_train)\n",
    "X_test  = vectorizer.transform(sentences_test)\n",
    "X_val = vectorizer.transform(sentences_val)"
   ]
  },
  {
   "cell_type": "markdown",
   "metadata": {
    "id": "sWp-8Vnor7iv"
   },
   "source": [
    "## Building a logistic regression benchmark"
   ]
  },
  {
   "cell_type": "code",
   "execution_count": 5,
   "metadata": {
    "id": "Aa-W5bMKr8K8"
   },
   "outputs": [
    {
     "name": "stdout",
     "output_type": "stream",
     "text": [
      "Accuracy: 0.8472727272727273\n"
     ]
    }
   ],
   "source": [
    "from sklearn.linear_model import LogisticRegression\n",
    "\n",
    "classifier = LogisticRegression()\n",
    "classifier.fit(X_train, y_train)\n",
    "score = classifier.score(X_test, y_test)\n",
    "print(\"Accuracy:\", score)"
   ]
  },
  {
   "cell_type": "markdown",
   "metadata": {
    "id": "WFLUSFUTsKSU"
   },
   "source": [
    "## Pytorch basics"
   ]
  },
  {
   "cell_type": "code",
   "execution_count": 6,
   "metadata": {
    "id": "gARdwBxIs0kO"
   },
   "outputs": [
    {
     "name": "stdout",
     "output_type": "stream",
     "text": [
      "4642\n"
     ]
    }
   ],
   "source": [
    "input_dim = X_train.shape[1]\n",
    "print (input_dim)"
   ]
  },
  {
   "cell_type": "code",
   "execution_count": 7,
   "metadata": {
    "id": "ltmXvufFtBss"
   },
   "outputs": [
    {
     "name": "stdout",
     "output_type": "stream",
     "text": [
      "feedforward_nn(\n",
      "  (fc1): Linear(in_features=4642, out_features=10, bias=True)\n",
      "  (fc2): Linear(in_features=10, out_features=1, bias=True)\n",
      "  (relu): ReLU()\n",
      "  (sigmoid): Sigmoid()\n",
      ")\n"
     ]
    }
   ],
   "source": [
    "import torch\n",
    "import torch.nn as nn\n",
    "\n",
    "class feedforward_nn(nn.Module):\n",
    "    def __init__(self, input_dim):\n",
    "        super(feedforward_nn, self).__init__()\n",
    "        self.fc1 = nn.Linear(input_dim, 10)\n",
    "        self.fc2 = nn.Linear(10, 1)\n",
    "        self.relu = nn.ReLU()\n",
    "        self.sigmoid = nn.Sigmoid()\n",
    "\n",
    "    def forward(self, x):\n",
    "        x = self.relu(self.fc1(x))\n",
    "        x = self.sigmoid(self.fc2(x))\n",
    "        return x\n",
    "\n",
    "model = feedforward_nn(input_dim)\n",
    "# Print model summary\n",
    "print (model)"
   ]
  },
  {
   "cell_type": "code",
   "execution_count": 8,
   "metadata": {},
   "outputs": [],
   "source": [
    "import numpy as np\n",
    "import random\n",
    "\n",
    "def set_seed(seed):\n",
    "    torch.backends.cudnn.deterministic = True\n",
    "    torch.backends.cudnn.benchmark = False\n",
    "    torch.manual_seed(seed)\n",
    "    torch.cuda.manual_seed_all(seed)\n",
    "    np.random.seed(seed)\n",
    "    random.seed(seed)"
   ]
  },
  {
   "cell_type": "code",
   "execution_count": 9,
   "metadata": {
    "id": "a0gprK1itwsK"
   },
   "outputs": [
    {
     "name": "stdout",
     "output_type": "stream",
     "text": [
      "Epoch 1/10, Loss: 0.644, Val Loss: 0.656, Val Accuracy: 0.676\n",
      "Epoch 2/10, Loss: 0.551, Val Loss: 0.584, Val Accuracy: 0.796\n",
      "Epoch 3/10, Loss: 0.384, Val Loss: 0.508, Val Accuracy: 0.825\n",
      "Epoch 4/10, Loss: 0.440, Val Loss: 0.463, Val Accuracy: 0.804\n",
      "Epoch 5/10, Loss: 0.223, Val Loss: 0.436, Val Accuracy: 0.811\n",
      "Epoch 6/10, Loss: 0.094, Val Loss: 0.426, Val Accuracy: 0.822\n",
      "Epoch 7/10, Loss: 0.090, Val Loss: 0.420, Val Accuracy: 0.818\n",
      "Epoch 8/10, Loss: 0.091, Val Loss: 0.423, Val Accuracy: 0.818\n",
      "Epoch 9/10, Loss: 0.045, Val Loss: 0.425, Val Accuracy: 0.815\n",
      "Epoch 10/10, Loss: 0.064, Val Loss: 0.430, Val Accuracy: 0.815\n"
     ]
    }
   ],
   "source": [
    "set_seed(3)\n",
    "\n",
    "import torch.optim as optim\n",
    "import torch.nn.functional as F\n",
    "from torch.utils.data import DataLoader, TensorDataset\n",
    "\n",
    "criterion = nn.BCELoss()\n",
    "optimizer = optim.Adam(model.parameters(), lr=0.001)\n",
    "\n",
    "# Convert numpy arrays to PyTorch tensors\n",
    "X_train_tensor = torch.tensor(X_train.toarray(), dtype=torch.float32)\n",
    "y_train_tensor = torch.tensor(y_train, dtype=torch.float32)\n",
    "\n",
    "X_val_tensor = torch.tensor(X_val.toarray(), dtype=torch.float32)\n",
    "y_val_tensor = torch.tensor(y_val, dtype=torch.float32)\n",
    "\n",
    "# Create a PyTorch dataset\n",
    "train_dataset = TensorDataset(X_train_tensor, y_train_tensor)\n",
    "val_dataset = TensorDataset(X_val_tensor, y_val_tensor)\n",
    "\n",
    "# Define batch size\n",
    "batch_size = 20\n",
    "epochs = 10\n",
    "\n",
    "# Create DataLoader\n",
    "train_loader = DataLoader(train_dataset, batch_size=batch_size, shuffle=True)\n",
    "val_loader = DataLoader(val_dataset, batch_size=batch_size)\n",
    "\n",
    "# Training loop\n",
    "for epoch in range(epochs):\n",
    "    model.train()  # Set the model to training mode\n",
    "    for inputs, labels in train_loader:\n",
    "        # Zero the gradients\n",
    "        optimizer.zero_grad()\n",
    "\n",
    "        # Forward pass\n",
    "        outputs = model(inputs)\n",
    "\n",
    "        # Squeeze the output tensor to match the shape of labels\n",
    "        outputs = torch.squeeze(outputs, dim=1)\n",
    "\n",
    "        # Compute the loss\n",
    "        loss = criterion(outputs, labels)\n",
    "\n",
    "        # Backward pass\n",
    "        loss.backward()\n",
    "\n",
    "        # Update the parameters\n",
    "        optimizer.step()\n",
    "\n",
    "    # Validation\n",
    "    model.eval()  # Set the model to evaluation mode\n",
    "    with torch.no_grad():\n",
    "        val_loss = 0.0\n",
    "        correct = 0\n",
    "        total = 0\n",
    "        for inputs, labels in val_loader:\n",
    "            outputs = model(inputs)\n",
    "            outputs = torch.squeeze(outputs, dim=1)  # Squeeze the output tensor\n",
    "            val_loss += criterion(outputs, labels).item()\n",
    "            predicted = (outputs > 0.5).float()\n",
    "            total += labels.size(0)\n",
    "            correct += (predicted == labels).sum().item()\n",
    "\n",
    "        val_loss /= len(val_loader)\n",
    "        val_accuracy = correct / total\n",
    "\n",
    "    # Print the loss and accuracy\n",
    "    print(f'Epoch {epoch+1}/{epochs}, Loss: {loss.item():.3f}, Val Loss: {val_loss:.3f}, Val Accuracy: {val_accuracy:.3f}')"
   ]
  },
  {
   "cell_type": "code",
   "execution_count": 10,
   "metadata": {
    "id": "ahMlbtK6vzTA"
   },
   "outputs": [
    {
     "name": "stdout",
     "output_type": "stream",
     "text": [
      "Testing Accuracy: 0.8436\n"
     ]
    }
   ],
   "source": [
    "set_seed(3)\n",
    "\n",
    "X_test_tensor = torch.tensor(X_test.toarray(), dtype=torch.float32)\n",
    "y_test_tensor = torch.tensor(y_test, dtype=torch.float32)\n",
    "\n",
    "# Create a PyTorch dataset for test data\n",
    "test_dataset = TensorDataset(X_test_tensor, y_test_tensor)\n",
    "\n",
    "# Define batch size for test data\n",
    "test_batch_size = 20\n",
    "\n",
    "# Create DataLoader for test data\n",
    "test_loader = DataLoader(test_dataset, batch_size=test_batch_size)\n",
    "\n",
    "model.eval()  # Set the model to evaluation mode\n",
    "test_loss = 0.0\n",
    "correct = 0\n",
    "total = 0\n",
    "with torch.no_grad():\n",
    "    for inputs, labels in test_loader:\n",
    "        outputs = model(inputs)\n",
    "        outputs = torch.squeeze(outputs, dim=1)  # Squeeze the output tensor\n",
    "        test_loss += criterion(outputs, labels).item()\n",
    "        predicted = (outputs > 0.5).float()\n",
    "        total += labels.size(0)\n",
    "        correct += (predicted == labels).sum().item()\n",
    "\n",
    "test_loss /= len(test_loader)\n",
    "test_accuracy = correct / total\n",
    "\n",
    "# Print the testing accuracy\n",
    "print(\"Testing Accuracy: {:.4f}\".format(test_accuracy))"
   ]
  },
  {
   "cell_type": "markdown",
   "metadata": {
    "id": "8u-Gtcr9wbp1"
   },
   "source": [
    "## Using word embeddings"
   ]
  },
  {
   "cell_type": "code",
   "execution_count": 11,
   "metadata": {
    "id": "3R0XhjTm31dJ"
   },
   "outputs": [
    {
     "name": "stderr",
     "output_type": "stream",
     "text": [
      "[nltk_data] Downloading package punkt to C:\\Users\\Hongli\n",
      "[nltk_data]     Zhan\\AppData\\Roaming\\nltk_data...\n",
      "[nltk_data]   Package punkt is already up-to-date!\n"
     ]
    },
    {
     "data": {
      "text/plain": [
       "True"
      ]
     },
     "execution_count": 11,
     "metadata": {},
     "output_type": "execute_result"
    }
   ],
   "source": [
    "import nltk\n",
    "nltk.download('punkt')"
   ]
  },
  {
   "cell_type": "code",
   "execution_count": 12,
   "metadata": {
    "id": "Hc1ctGA0wbH7"
   },
   "outputs": [
    {
     "name": "stdout",
     "output_type": "stream",
     "text": [
      "{'After': 0, 'watching': 1, 'this': 2, 'film': 3, ',': 4, 'I': 5, 'wanted': 6, 'to': 7, 'learn': 8, 'more': 9, 'about': 10, 'the': 11, 'works': 12, 'of': 13, 'artist': 14, '.': 15, 'understand': 16, 'that': 17, 'it': 18, \"'s\": 19, 'supposed': 20, 'be': 21, 'a': 22, 'cheap': 23, 'popcorn': 24, 'comedy': 25, 'but': 26, 'does': 27, \"n't\": 28, 'mean': 29, 'has': 30, 'completely': 31, 'insult': 32, 'our': 33, 'intelligence': 34, 'and': 35, 'have': 36, 'writing': 37, 'so': 38, 'incredibly': 39, 'hackneyed': 40, 'borders': 41, 'on': 42, 'offensive': 43, 'As': 44, 'an': 45, 'earlier': 46, 'review': 47, 'noted': 48, 'plug': 49, 'in': 50, 'charger': 51, 'nothing': 52, 'happens': 53, 'went': 54, 'Motorola': 55, 'website': 56, 'followed': 57, 'all': 58, 'directions': 59, 'could': 60, 'not': 61, 'get': 62, 'pair': 63, 'again': 64, 'All': 65, 'tapas': 66, 'dishes': 67, 'were': 68, 'delicious': 69, '!': 70, 'My': 71, 'Sanyo': 72, 'survived': 73, 'dozens': 74, 'drops': 75, 'blacktop': 76, 'without': 77, 'ill': 78, 'effect': 79, 'One': 80, 'most': 81, 'boring': 82, 'pointless': 83, 'movies': 84, 'ever': 85, 'seen': 86, \"'m\": 87, 'sure': 88, 'how': 89, 'long': 90, 'we': 91, 'stood': 92, 'there': 93, 'was': 94, 'enough': 95, 'for': 96, 'me': 97, 'begin': 98, 'feel': 99, 'awkwardly': 100, 'out': 101, 'place': 102, 'Poor': 103, 'sound': 104, 'quality': 105, 'The': 106, 'shipping': 107, 'time': 108, 'also': 109, 'very': 110, 'quick': 111, 'Just': 112, 'what': 113, 'Join': 114, 'club': 115, 'awesome': 116, 'offers': 117, 'via': 118, 'email': 119, 'wont': 120, 'work': 121, 'right': 122, 'or': 123, 'atleast': 124, 'Razr': 125, 'Battery': 126, '-': 127, 'Good': 128, 'buy': 129, 'consider': 130, 'theft': 131, 'We': 132, 'enjoy': 133, 'their': 134, 'pizza': 135, 'brunch': 136, 'But': 137, 'premise': 138, 'ridiculous': 139, ':': 140, 'President': 141, 'U.S': 142, 'clipping': 143, 'your': 144, 'belt': 145, 'will': 146, 'deffinitely': 147, 'make': 148, 'you': 149, 'like': 150, '50': 151, 'cent': 152, 'up-and-coming': 153, 'never': 154, 'had': 155, 'such': 156, 'bland': 157, 'food': 158, 'which': 159, 'surprised': 160, 'considering': 161, 'article': 162, 'read': 163, 'focused': 164, 'much': 165, 'spices': 166, 'flavor': 167, 'first': 168, 'came': 169, 'here': 170, 'amazing': 171, 'experience': 172, 'still': 173, 'tell': 174, 'people': 175, 'duck': 176, 'It': 177, 'is': 178, 'even': 179, 'achievement': 180, 'as': 181, '``': 182, \"so-bad-it's-good\": 183, \"''\": 184, \"so-bad-it's-memorable\": 185, 'movie': 186, 'There': 187, 'NOTHING': 188, 'believable': 189, 'at': 190, 'WELL': 191, 'IM': 192, 'SATISFIED': 193, 'just': 194, 'sort': 195, 'pap': 196, 'screened': 197, 'afternoon': 198, 'punish': 199, 'unemployed': 200, 'having': 201, 'jobs': 202, 'everything': 203, 'need': 204, 'ask': 205, 'love': 206, 'cable': 207, 'allows': 208, 'connect': 209, 'any': 210, 'mini-USB': 211, 'device': 212, 'my': 213, 'PC': 214, 'Excellent': 215, 'wallet': 216, 'type': 217, 'phone': 218, 'case': 219, 'do': 220, 'think': 221, \"'ll\": 222, 'going': 223, 'back': 224, 'anytime': 225, 'soon': 226, 'This': 227, 'hands-down': 228, 'one': 229, 'best': 230, 'places': 231, 'eat': 232, 'Phoenix': 233, 'metro': 234, 'area': 235, 'Terrible': 236, 'service': 237, 'product': 238, 'That': 239, '....': 240, 'red': 241, 'velvet': 242, 'cake': 243, '.....': 244, 'ohhh': 245, 'stuff': 246, 'good': 247, 'Easily': 248, 'none': 249, 'other': 250, 'cartoon': 251, 'made': 252, 'laugh': 253, 'tender': 254, 'way': 255, '(': 256, 'before': 257, 'getting': 258, 'into': 259, 'dark': 260, 'sitcoms': 261, 'oriented': 262, 'teenagers': 263, ')': 264, 'They': 265, 'golden-crispy': 266, 'He': 267, 'surely': 268, 'know': 269, 'coherent': 270, 'action': 271, 'from': 272, 'screenwriter': 273, 'Air': 274, 'Force': 275, 'who': 276, 'only': 277, 'obliged': 278, 'write': 279, 'script': 280, 'big': 281, 'sum': 282, 'money': 283, 'Angus': 284, 'Scrimm': 285, 'turns': 286, 'performance': 287, 'somewhat': 288, 'brief': 289, 'memorable': 290, 'role': 291, 'gently': 292, 'menacing': 293, 'violin-playing': 294, 'anatomist': 295, 'Doctor': 296, 'Quinn': 297, 'atmosphere': 298, 'fun': 299, 'tried': 300, 'these': 301, 'cables': 302, 'with': 303, 'computer': 304, 'iPod': 305, 'fine': 306, 'left': 307, 'stomach': 308, 'ache': 309, 'felt': 310, 'sick': 311, 'rest': 312, 'day': 313, 'Food': 314, 'would': 315, 'definitely': 316, 'recommend': 317, 'Jabra': 318, 'BT250v': 319, 'those': 320, 'are': 321, 'looking': 322, 'comfort': 323, 'clarity': 324, 'great': 325, 'price': 326, 'mediocre': 327, 'miserable': 328, 'hollow': 329, 'laughable': 330, 'predictable': 331, 'piece': 332, 'garbage': 333, 'Also': 334, 'difficult': 335, 'put': 336, 'on.I': 337, \"'d\": 338, 'avoiding': 339, 'Extremely': 340, 'Tasty': 341, 'Everyone': 342, 'attentive': 343, 'providing': 344, 'excellent': 345, 'customer': 346, 'fried': 347, 'rice': 348, 'dry': 349, 'well': 350, 'Watching': 351, 'washing': 352, 'machine': 353, 'twirling': 354, 'around': 355, 'hurt': 356, 'eyes': 357, 'show': 358, 'Do': 359, 'same': 360, 'mistake': 361, 'did': 362, 'please': 363, 'An': 364, 'instant': 365, 'classic': 366, 'soundtrack': 367, 'catchy': 368, 'song': 369, 'during': 370, 'ending': 371, 'credits': 372, 'Maybe': 373, 'Vegetarian': 374, 'fare': 375, \"'ve\": 376, 'been': 377, 'twice': 378, 'thought': 379, 'average': 380, 'functionality': 381, 'condescends': 382, 'characters': 383, 'genuine': 384, 'hearts': 385, 'problems': 386, 'find': 387, 'inexcusable': 388, 'probably': 389, 'returning': 390, 'perhaps': 391, 'changing': 392, 'carriers': 393, 'pure': 394, 'disaster': 395, 'story': 396, 'stupid': 397, 'editing': 398, 'worst': 399, 'confuses': 400, 'perfect': 401, \"'Titta\": 402, 'Di': 403, 'Girolamo': 404, \"'\": 405, 'stay': 406, 'after': 407, 'vision': 408, 'VERY': 409, 'DISAPPOINTING': 410, 'thing': 411, 'NO': 412, 'SPEAKERPHONE': 413, 'almost': 414, 'unbearable': 415, 'watch': 416, 'screen': 417, 'he': 418, 'little': 419, 'no': 420, 'charisma': 421, 'terrible': 422, 'comedic': 423, 'timing': 424, 'acting': 425, 'involved': 426, 'includes': 427, 'Shatner': 428, 'Nimoy': 429, 'bad': 430, 'washed': 431, 'making': 432, 'them': 433, 'seem': 434, 'old': 435, 'they': 436, 'look': 437, 'real': 438, 'life': 439, 'special': 440, 'effects': 441, 'tacky': 442, 'when': 443, 'Spock': 444, 'rescue': 445, 'Kirk': 446, 'jet': 447, 'pack': 448, 'falls': 449, 'down': 450, 'mountain': 451, 'So': 452, 'performed': 453, 'item': 454, 'low': 455, 'Loved': 456, '...': 457, 'friendly': 458, 'servers': 459, 'wonderful': 460, 'imaginative': 461, 'menu': 462, 'ambience': 463, 'music': 464, 'playing': 465, 'unbelievable': 466, 'BARGAIN': 467, 'Now': 468, 'itself': 469, 'peanut': 470, 'sauce': 471, 'tasty': 472, 'camera': 473, 'really': 474, 'likes': 475, 'her': 476, 'Simply': 477, 'beautiful': 478, 'waste': 479, '680': 480, 'Paolo': 481, 'Sorrentino': 482, 'written': 483, 'loneliness': 484, 'Tony': 485, 'built': 486, 'unforgettable': 487, 'recent': 488, 'years': 489, 'Does': 490, 'hold': 491, 'charge': 492, 'Plus': 493, 'seriously': 494, 'believe': 495, 'worth': 496, 'its': 497, 'steep': 498, 'point': 499, 'equally': 500, 'awful': 501, 'However': 502, 'decent': 503, 'location': 504, 'balance': 505, 'things': 506, 'up': 507, 'Jamaican': 508, 'mojitos': 509, 'plugged': 510, 'darn': 511, 'worked': 512, 'From': 513, 'dinner': 514, 'companions': 515, 'told': 516, 'fresh': 517, 'nice': 518, 'texture': 519, 'taste': 520, 'Characters': 521, 'one-dimensional': 522, 'guys': 523, 'especially': 524, 'Lobster': 525, 'Bisque': 526, 'Bussell': 527, 'Sprouts': 528, 'Risotto': 529, 'Filet': 530, 'ALL': 531, 'needed': 532, 'salt': 533, 'pepper': 534, '..': 535, 'course': 536, 'tables': 537, 'Thank': 538, 'sangria': 539, 'half': 540, 'glass': 541, 'wine': 542, 'full': 543, '$': 544, '12': 545, 'If': 546, 'Headset': 547, 'keep': 548, 'Great': 549, 'software': 550, 'Motorolas': 551, 'Horrible': 552, 'horrible': 553, 'protector': 554, 'reasonable': 555, 'fourth': 556, 'bluetooth': 557, 'headset': 558, 'while': 559, 'comfortable': 560, 'than': 561, 'last': 562, 'HATED': 563, 'problem': 564, 'order': 565, 'if': 566, 'trying': 567, 'over': 568, 'Will': 569, 'impressed': 570, 'Strip': 571, 'Steak': 572, 'can': 573, 'assure': 574, 'wo': 575, 'disappointed': 576, 'many': 577, 'delights': 578, 'surprises': 579, 'actors': 580, 'agreed': 581, 'scallop': 582, 'dish': 583, 'quite': 584, 'appalling': 585, 'value': 586, 'visual': 587, 'AWFUL': 588, 'knew': 589, 'saw': 590, 'come': 591, 'gifted': 592, 'actor': 593, 'disgrace': 594, 'disappointment': 595, 'Every': 596, 'single': 597, 'character': 598, 'hilarious': 599, 'deserved': 600, 'called': 601, 'lead': 602, 'In': 603, 'word': 604, 'embarrassing': 605, 'am': 606, 'fan': 607, 'his': 608, 'sucked': 609, 'BT': 610, 'headsets': 611, 'currently': 612, 'games': 613, 'first-person': 614, 'shooters': 615, 'since': 616, 'audio': 617, 'delay': 618, 'messes': 619, 'Fantastic': 620, 'whatever': 621, 'next': 622, 'sister': 623, 'she': 624, 'loves': 625, 'Nice': 626, 'solid': 627, 'keyboard': 628, 'deserves': 629, 'star': 630, '90': 631, '%': 632, 'disappointing': 633, 'elsewhere': 634, 'dessert': 635, 'makes': 636, 'lot': 637, 'serious': 638, 'mistakes': 639, 'serivce': 640, 'purchase': 641, 'different': 642, 'i': 643, 'decide': 644, 'three': 645, 'broke': 646, 'within': 647, 'two': 648, 'months': 649, 'use': 650, 'Very': 651, 'Hated': 652, 'features': 653, 'want': 654, 'ear': 655, 'buds': 656, 'play': 657, 'Regardless': 658, 'fails': 659, 'levels': 660, 'ordered': 661, 'motorola': 662, 'data': 663, 'got': 664, 'finished': 665, 'working': 666, 'Interesting': 667, 'decor': 668, 'group': 669, '70+': 670, 'claimed': 671, '40': 672, 'handled': 673, 'us': 674, 'beautifully': 675, 'Its': 676, 'user': 677, 'reading': 678, 'go': 679, 'sad': 680, 'Reversible': 681, 'convoluted': 682, 'plot': 683, 'convince': 684, 'watched': 685, 'weird': 686, 'questioning': 687, 'glance': 688, 'Overall': 689, 'new': 690, 'Walkman': 691, 'year': 692, 'however': 693, 'reminded': 694, 'Huston': 695, 'top': 696, 'game': 697, 'evinced': 698, 'by': 699, 'faithful': 700, 'adaptation': 701, 'James': 702, 'Joyce': 703, 'acclaimed': 704, 'novella': 705, 'Dead': 706, 'Bland': 707, 'flavorless': 708, 'describing': 709, 'barely': 710, 'tepid': 711, 'meat': 712, 'presents': 713, 'idyllic': 714, 'yet': 715, 'portrayal': 716, 'ups': 717, 'downs': 718, 'lives': 719, 'beyond': 720, 'Another': 721, 'note': 722, 'appearance': 723, 'looks': 724, 'rather': 725, 'black': 726, 'model': 727, 'On': 728, 'side': 729, 'staff': 730, 'genuinely': 731, 'pleasant': 732, 'enthusiastic': 733, 'treat': 734, 'petty': 735, 'fast': 736, 'stars': 737, 'true': 738, 'airline': 739, 'warm': 740, 'feeling': 741, 'guest': 742, 'earphones': 743, 'started': 744, 'tuna': 745, 'sashimi': 746, 'brownish': 747, 'color': 748, 'obviously': 749, 'Highly': 750, 'recommended': 751, 'A+': 752, 'EarGels': 753, 'fit': 754, 'ears': 755, 'You': 756, 'forget': 757, 'Rating': 758, '0/10': 759, 'Grade': 760, 'Z': 761, 'Note': 762, 'Show': 763, 'Is': 764, 'Bad': 765, 'Even': 766, 'Mother': 767, 'Of': 768, 'Cast': 769, 'Pull': 770, 'Her': 771, 'Daughter': 772, 'Out': 773, 'A': 774, 'lady': 775, 'table': 776, 'found': 777, 'live': 778, 'green': 779, 'caterpillar': 780, 'salad': 781, 'Similarly': 782, 'delivery': 783, 'man': 784, 'say': 785, 'apology': 786, '45': 787, 'minutes': 788, 'late': 789, 'simple': 790, 'breakage': 791, 'unacceptible': 792, 'Five': 793, 'plus': 794, 'specs': 795, 'alone': 796, 'WOW': 797, 'gave': 798, '5': 799, 'because': 800, 'im': 801, 'car': 802, 'reviews': 803, 'whole': 804, 'underwhelming': 805, 'Ninja': 806, 'Sushi': 807, 'hour': 808, 'following': 809, 'bunch': 810, 'pretty': 811, 'high': 812, 'schoolers': 813, 'whine': 814, 'cry': 815, 'disapoinment': 816, 'To': 817, 'intelligent': 818, 'masterful': 819, 'imagination': 820, 'used': 821, 'try': 822, 'some': 823, 'sense': 824, 'pitiful': 825, 'attempt': 826, 'human': 827, 'nature': 828, 'battery': 829, 'above': 830, 'exquisite': 831, 'composition': 832, 'each': 833, 'moment': 834, 'inventive': 835, 'elegant': 836, 'close-up': 837, 'angle': 838, 'lighting': 839, 'including': 840, 'pointillistic': 841, 'faux': 842, 'home': 843, 'footage': 844, 'wonder': 845, 'joy': 846, 'behold': 847, 'advise': 848, 'picture': 849, 'resolution': 850, 'far': 851, 'below': 852, 'comparably-priced': 853, 'phones': 854, 'offering': 855, 'today': 856, 'hopes': 857, 'burgers': 858, 'cooked': 859, 'charcoal': 860, 'grill': 861, 'unfortunately': 862, 'fell': 863, 'flat': 864, 'hate': 865, 'disagree': 866, 'fellow': 867, 'Yelpers': 868, 'husband': 869, '#': 870, '1': 871, 'Works': 872, '2': 873, 'Comfortable': 874, 'absolutely': 875, 'reception': 876, 'apartment': 877, 'where': 878, 'Seller': 879, 'shipped': 880, 'quickly': 881, 'cheaper': 882, 'competitors': 883, 'example': 884, 'dumb': 885, 'established': 886, 'turn': 887, 'zombie-students': 888, 'humans': 889, 'removing': 890, 'necklace': 891, 'containing': 892, 'meteorite': 893, 'Ca': 894, 'store': 895, 'anything': 896, 'numbers': 897, 'SIM': 898, 'idea': 899, 'possible': 900, 'give': 901, 'zero': 902, '7': 903, 'Not': 904, 'hoped': 905, 'result': 906, 'slow': 907, 'served': 908, '3': 909, 'coming': 910, 'pace': 911, 'received': 912, 'WHITE': 913, 'colored': 914, 'goes': 915, 'DEAD': 916, 'couple': 917, 'hoursTHe': 918, 'original': 919, 'week': 920, 'lasts': 921, 'longer': 922, 'thereplacement': 923, 'Lot': 924, 'holes': 925, 'became': 926, 'emperor': 927, ';': 928, 'spend': 929, '20': 930, 'between': 931, 'childhood': 932, 'mature': 933, 'age': 934, 'Nothing': 935, 'honest': 936, 'rough': 937, 'draft': 938, 'shooting': 939, 'began': 940, 'completed': 941, 'spot': 942, 'tool': 943, 'paired': 944, 'auto-answer': 945, 'gets': 946, '10': 947, 'simply': 948, 'lower': 949, 'hello': 950, 'entertained': 951, 'few': 952, 'under': 953, 'circumstances': 954, 'return': 955, 'tops': 956, 'list': 957, 'mention': 958, 'combination': 959, 'pears': 960, 'almonds': 961, 'bacon': 962, 'winner': 963, 'Really': 964, 'Cooked': 965, 'perfection': 966, 'impeccable': 967, 'Some': 968, 'may': 969, 'buffet': 970, 'pricey': 971, 'pay': 972, 'slow-moving': 973, 'aimless': 974, 'distressed': 975, 'drifting': 976, 'young': 977, 'strange': 978, 'ticking': 979, 'noises': 980, 'ends': 981, 'call': 982, 'Vegas': 983, 'dining': 984, 'menus': 985, 'handed': 986, 'ladies': 987, 'prices': 988, 'listed': 989, 'given': 990, 'godfathers': 991, 'continuously': 992, 'Bertolucci': 993, 'relationships': 994, 'convincing': 995, 'narrative': 996, 'engaging': 997, 'master': 998, 'Hopefully': 999, 'bodes': 1000, 'business': 1001, 'someone': 1002, 'cook': 1003, 'huge': 1004, 'design': 1005, 'flaw': 1006, 'unless': 1007, 'using': 1008, 'correctly': 1009, 'RUDE': 1010, '&': 1011, 'INCONSIDERATE': 1012, 'MANAGEMENT': 1013, 'witty': 1014, 'delightful': 1015, 'Dr': 1016, 'Seuss': 1017, 'book': 1018, 'brilliantly': 1019, 'animated': 1020, 'UPA': 1021, 'finest': 1022, 'thoroughly': 1023, 'deserving': 1024, 'Academy': 1025, 'Award': 1026, 'Their': 1027, 'frozen': 1028, 'margaritas': 1029, 'WAY': 1030, 'too': 1031, 'sugary': 1032, 'rate': 1033, '9/10': 1034, 'waiter': 1035, 'helpful': 1036, 'rarely': 1037, 'checked': 1038, 'Ordered': 1039, 'double': 1040, 'cheeseburger': 1041, 'patty': 1042, 'falling': 1043, 'apart': 1044, 'uploaded': 1045, 'Yeah': 1046, 'sucks': 1047, 'highly': 1048, 'everyone': 1049, 'Ambience': 1050, 'well-paced': 1051, 'suited': 1052, 'relatively': 1053, 'short': 1054, 'run': 1055, 'rare': 1056, 'film-maker': 1057, 'takes': 1058, 'worthy': 1059, 'moral': 1060, 'tale': 1061, 'care': 1062, 'fall': 1063, 'trap': 1064, 'being': 1065, 'overly': 1066, 'syrupy': 1067, 'indulgent': 1068, 'stretch': 1069, 'allowing': 1070, 'poor': 1071, 'production': 1072, 'values': 1073, '1971': 1074, 'format': 1075, 'kind': 1076, 'mini-series': 1077, 'baaaaaad': 1078, 'transformed': 1079, 'organizational': 1080, 'capability': 1081, 'easier': 1082, 'crawfish': 1083, 'mic': 1084, 'deal': 1085, 'always': 1086, 'honor': 1087, 'Pizza': 1088, 'Hut': 1089, 'coupons': 1090, 'paced': 1091, 'understated': 1092, 'courtroom': 1093, 'documentaries': 1094, 'says': 1095, 'negatively': 1096, 'bluetoooth': 1097, 'now': 1098, 'fits': 1099, 'Americans': 1100, 'hatred': 1101, 'clichés': 1102, 'admitted': 1103, 'bug': 1104, 'showed': 1105, '4': 1106, 'wall': 1107, 'climbing': 1108, 'kitchen': 1109, 'Foreigner': 1110, 'second': 1111, 'tries': 1112, 'hard': 1113, 'ability': 1114, 'Tonight': 1115, 'Elk': 1116, 'John': 1117, 'Garfield': 1118, 'Ann': 1119, 'revere': 1120, 'Lilli': 1121, 'Plmer': 1122, 'William': 1123, 'Conrad': 1124, 'Canada': 1125, 'Lee': 1126, 'filmed': 1127, 'greatest': 1128, 'cinematographers': 1129, 'grace': 1130, 'Wong': 1131, 'Howe': 1132, 'owner': 1133, 'must': 1134, 'brought': 1135, 'batch': 1136, 'fries': 1137, 'thinking': 1138, 'yay': 1139, 'something': 1140, 'warmth': 1141, 'generates': 1142, 'contrast': 1143, 'austere': 1144, 'backdrop': 1145, 'cant': 1146, 'wrong': 1147, 'cat': 1148, 'attacked': 1149, 'scratched': 1150, 'protective': 1151, 'strip': 1152, 'instead': 1153, 'destroying': 1154, 'everywhere': 1155, 'feature': 1156, 'fixes': 1157, 'mother': 1158, 'brother': 1159, 'When': 1160, 'Robert': 1161, 'Ryan': 1162, 'portraying': 1163, 'imitation': 1164, 'individual': 1165, 'lacks': 1166, 'art': 1167, 'charm': 1168, 'meaning': 1169, 'emptiness': 1170, 'guess': 1171, 'empty': 1172, 'pasta': 1173, 'homemade': 1174, '/hand': 1175, 'pastas': 1176, 'thin': 1177, 'pizzas': 1178, 'pleased': 1179, 'notable': 1180, 'Bailey': 1181, 'crisp': 1182, 'cinematography': 1183, 'costumes': 1184, 'Eiko': 1185, 'Ishioka': 1186, 'Coppola': 1187, 'Dracula': 1188, 'Oscar': 1189, 'absolutley': 1190, 'fantastic': 1191, 'sat': 1192, 'another': 1193, 'ten': 1194, 'finally': 1195, 'Furthermore': 1196, 'ca': 1197, 'hours': 1198, 'operation': 1199, 'fully': 1200, 'charged': 1201, 'bed': 1202, 'turned': 1203, 'off': 1204, 'blue': 1205, 'tooth': 1206, 'wi-fi': 1207, 'noticed': 1208, 'morning': 1209, 'cow': 1210, 'tongue': 1211, 'cheek': 1212, 'tacos': 1213, 'less': 1214, 'interior': 1215, 'Fits': 1216, 'comfortably': 1217, 'sizes': 1218, 'earbud': 1219, 'tips': 1220, 'plays': 1221, 'Angela': 1222, 'Bennett': 1223, 'expert': 1224, 'installed': 1225, 'let': 1226, 'overnite': 1227, 'every': 1228, 'Love': 1229, 'Speaking': 1230, 'unbearably': 1231, 'predictably': 1232, 'kitchy': 1233, 'Generous': 1234, 'portions': 1235, 'light': 1236, 'healthy': 1237, 'summer': 1238, 'Lane': 1239, 'lousy': 1240, 'At': 1241, 'seems': 1242, 'animation': 1243, 'dominated': 1244, 'Disney/Pixar': 1245, 'CGI': 1246, 'masterpieces': 1247, 'both': 1248, 'refreshing': 1249, 'comforting': 1250, 'Miyazaki': 1251, 'relying': 1252, 'traditional': 1253, 'hand-drawn': 1254, 'charming': 1255, 'enchanting': 1256, 'stories': 1257, 'extended': 1258, 'Verizon': 1259, 'cingulair': 1260, 'nicer': 1261, 'cell': 1262, 'liked': 1263, 'Dustin': 1264, 'Hoffman': 1265, 'ready': 1266, 'son': 1267, 'chemistry': 1268, 'Ben': 1269, 'Affleck': 1270, 'Sandra': 1271, 'Bullock': 1272, 'why': 1273, 'leaving': 1274, 'wife-to-be': 1275, 'chick': 1276, 'supposedly': 1277, 'knocked': 1278, 'guy': 1279, 'said': 1280, 'better': 1281, 'dialogue': 1282, 'potted': 1283, 'plants': 1284, 'Crust': 1285, 'heard': 1286, 'exceeding': 1287, 'hope': 1288, 'dreamed': 1289, 'regret': 1290, 'These': 1291, 'headphones': 1292, 'several': 1293, 'And': 1294, 'expensive': 1295, 'Best': 1296, 'Hawaiian': 1297, 'Breeze': 1298, 'Mango': 1299, 'Magic': 1300, 'Pineapple': 1301, 'Delight': 1302, 'smoothies': 1303, \"'re\": 1304, 'company': 1305, 'Spend': 1306, 'else': 1307, 'Chinese': 1308, 'calligraphy': 1309, 'paper': 1310, 'shower': 1311, 'outside': 1312, 'rinse': 1313, 'take': 1314, 'mind': 1315, 'nude': 1316, 'see': 1317, 'tolerance': 1318, 'rude': 1319, 'job': 1320, 'polite': 1321, 'wash': 1322, 'otherwise': 1323, 'O': 1324, 'gosh': 1325, 'particularly': 1326, 'remember': 1327, 'senses': 1328, 'assaulted': 1329, 'strident': 1330, 'cords': 1331, 'blare': 1332, 'warning': 1333, 'own': 1334, 'cases': 1335, 'Go': 1336, 'Place': 1337, 'Gyros': 1338, 'Nevertheless': 1339, 'stable': 1340, 'director': 1341, 'either': 1342, 'clear': 1343, 'loud': 1344, 'days': 1345, '-Drinks': 1346, 'took': 1347, 'close': 1348, '30': 1349, 'busy': 1350, 'building': 1351, 'FREEZING': 1352, 'cold': 1353, 'reflected': 1354, 'cast': 1355, 'below-par': 1356, 'borrowed': 1357, \"ya'all\": 1358, 'dropped': 1359, 'stream': 1360, 'submerged': 1361, '15': 1362, 'seconds': 1363, 'Stay': 1364, 'Away': 1365, 'Q': 1366, 'Greek': 1367, 'dressing': 1368, 'creamy': 1369, 'flavorful': 1370, 'happy': 1371, 'Comfort': 1372, 'family': 1373, 'broken': 1374, 'smoking': 1375, 'joke': 1376, 'Phone': 1377, 'sturdy': 1378, 'nokia': 1379, 'bar': 1380, 'moments': 1381, 'excruciatingly': 1382, 'moving': 1383, 'chefs': 1384, 'min': 1385, 'milkshake': 1386, 'chocolate': 1387, 'milk': 1388, 'later': 1389, 'activated': 1390, 'suddenly': 1391, 'died': 1392, 'Could': 1393, 'figure': 1394, 'usable': 1395, 'actually': 1396, 'PDA': 1397, 'real-world': 1398, 'useful': 1399, 'neat': 1400, 'gadget': 1401, 'shrimp': 1402, 'moist': 1403, 'latest': 1404, 'OS': 1405, 'v1.15g': 1406, 'crawl': 1407, 'lock': 1408, 'once': 1409, 'check': 1410, 'regularly': 1411, 'women': 1412, 'sign': 1413, 'improvement': 1414, 'expected': 1415, 'happen': 1416, 'might': 1417, 'asleep': 1418, 'Attempting': 1419, 'artiness': 1420, 'white': 1421, 'clever': 1422, 'angles': 1423, 'lines': 1424, 'non-existent': 1425, 'frog': 1426, 'adorable': 1427, 'eye': 1428, 'catching': 1429, 'joint': 1430, 'clean': 1431, 'Everything': 1432, 'plastic': 1433, 'breaks': 1434, 'easy': 1435, 'clip': 1436, 'absolute': 1437, 'visit': 1438, 'Our': 1439, 'server': 1440, 'super': 1441, 'times': 1442, 'then': 1443, 'stopped': 1444, 'charging': 1445, 'buying': 1446, 'Service': 1447, 'securly': 1448, 'recognizes': 1449, 'storage': 1450, 'Today': 1451, 'lunch': 1452, 'Bar': 1453, 'Edinburgh': 1454, 'establishment': 1455, 'revisiting': 1456, 'mine': 1457, 'Christmas': 1458, 'bought': 1459, 'Point': 1460, 'finger': 1461, 'Worst': 1462, 'self': 1463, 'portraits': 1464, 'exterior': 1465, 'display': 1466, 'cool': 1467, 'parts': 1468, 'literally': 1469, 'excerpts': 1470, 'kids': 1471, 'annoying': 1472, 'Third': 1473, 'cheese': 1474, 'friend': 1475, 'burger': 1476, 'Pita': 1477, 'thumbs': 1478, 'lived': 1479, '1979': 1480, 'stepped': 1481, 'foot': 1482, 'biggest': 1483, 'complaint': 1484, 'drains': 1485, 'superfast': 1486, 'blah': 1487, 'Avoid': 1488, 'costs': 1489, 'Obviously': 1490, 'adhesive': 1491, 'share': 1492, 'General': 1493, 'Loewenhielm': 1494, 'partaking': 1495, 'Cailles': 1496, 'en': 1497, 'Sarcophage': 1498, 'though': 1499, 'wish': 1500, 'small': 1501, 'sample': 1502, 'savor': 1503, 'ambiance': 1504, 'Be': 1505, 'to-go': 1506, 'tiramisu': 1507, 'cannoli': 1508, 'die': 1509, 'Case': 1510, 'extra': 1511, 'originally': 1512, 'discarded': 1513, 'Simple': 1514, 'lightweight': 1515, 'sometimes': 1516, 'away': 1517, 'soggy': 1518, 'tasteless': 1519, 'pleather': 1520, 'possibility': 1521, 'booking': 1522, 'date': 1523, 'regular': 1524, 'toasted': 1525, 'bread': 1526, 'satisfying': 1527, 'occasional': 1528, 'pats': 1529, 'butter': 1530, 'Mmmm': 1531, 'Saw': 1532, 'effort': 1533, 'messages': 1534, 'Aside': 1535, 'loads': 1536, 'debits': 1537, 'Awesome': 1538, 'selection': 1539, 'beer': 1540, 'restaurant': 1541, 'experienced': 1542, 'Frenchman': 1543, 'No': 1544, 'allergy': 1545, 'warnings': 1546, 'waitress': 1547, 'clue': 1548, 'meals': 1549, 'contain': 1550, 'peanuts': 1551, 'dine': 1552, 'outdoor': 1553, 'patio': 1554, 'Maria': 1555, 'wise': 1556, 'decision': 1557, 'Boy': 1558, 'sucker': 1559, 'Truly': 1560, 'dozen': 1561, 'hundred': 1562, 'contacts': 1563, 'imagine': 1564, 'sending': 1565, 'soap': 1566, 'operas': 1567, 'consumer': 1568, 'miss': 1569, 'GO': 1570, 'AND': 1571, 'SEE': 1572, 'IT': 1573, 'Nokia': 1574, 'weeks': 1575, 'ago': 1576, 'nightmare': 1577, 'hits': 1578, 'lacking': 1579, 'quantity': 1580, 'atmosphere.1': 1581, 'fish': 1582, 'prepared': 1583, 'describe': 1584, 'Amazon': 1585, 'nearly': 1586, 'secure': 1587, 'holding': 1588, 'keeping': 1589, 'iPhone': 1590, 'inside': 1591, 'wind': 1592, 'useless': 1593, 'Needless': 1594, 'surprising': 1595, '1949': 1596, 'Hollywood': 1597, 'generally': 1598, 'collective': 1599, 'heads': 1600, 'sand': 1601, 'concerning': 1602, 'issues': 1603, 'stinks': 1604, 'unit': 1605, 'comes': 1606, 'earpad': 1607, 'only.I': 1608, 'anyone': 1609, 'wouldnt': 1610, 'free': 1611, 'scare': 1612, 'rent': 1613, 'perfectly': 1614, 'Things': 1615, 'personalities': 1616, 'change': 1617, 'twists': 1618, 'occur': 1619, 'reason': 1620, 'calls': 1621, 'range': 1622, 'pull': 1623, 'part': 1624, '.-': 1625, 'fond': 1626, 'magnetic': 1627, 'strap': 1628, 'sexy': 1629, 'party': 1630, 'mouth': 1631, 'outrageously': 1632, 'flirting': 1633, 'hottest': 1634, 'person': 1635, 'Echo': 1636, 'Problem': 1637, 'unsatisfactory': 1638, 'High-quality': 1639, 'chicken': 1640, 'Caesar': 1641, 'saved': 1642, 'alot': 1643, 'asked': 1644, 'totally': 1645, 'wholesome': 1646, 'exactly': 1647, 'doughy': 1648, 'informative': 1649, 'steve': 1650, 'martin': 1651, 'delivers': 1652, 'funny': 1653, 'middle-aged': 1654, 'upper': 1655, 'class': 1656, 'uptight': 1657, 'Perfect': 1658, 'ice': 1659, 'colder': 1660, 'definately': 1661, 'enjoyed': 1662, 'ourselves': 1663, 'starter': 1664, 'wireless': 1665, 'basic': 1666, 'wasted': 1667, 'sidelined': 1668, 'inexplicable': 1669, 'focus': 1670, 'documentary': 1671, 'crew': 1672, 'slow-motion': 1673, 'needlessly': 1674, 'repeats': 1675, 'throughout': 1676, 'backed': 1677, 'continuity': 1678, 'scenes': 1679, 'thrown': 1680, 'whatsoever': 1681, 'vehicles': 1682, 'looked': 1683, 'Corn': 1684, 'Flakes': 1685, 'box': 1686, 'directorial': 1687, 'style': 1688, 'bordered': 1689, 'stupidity': 1690, 'doubt': 1691, 'trash': 1692, 'Achille': 1693, 'Philippa': 1694, 'sing': 1695, 'duet': 1696, 'Don': 1697, 'Giovanni': 1698, 'describes': 1699, 'situation': 1700, 'appreciate': 1701, 'subtle': 1702, 'layers': 1703, 'Uncomfortable': 1704, 'Ear': 1705, 'LG': 1706, 'VX9900': 1707, 'EnV': 1708, 'psyched': 1709, 'appointments': 1710, 'hospitality': 1711, 'industry': 1712, 'Paradise': 1713, 'Valley': 1714, 'refrained': 1715, 'recommending': 1716, 'Cibo': 1717, 'Unfortunately': 1718, 'accidentally': 1719, 'activate': 1720, 'gentle-touch': 1721, 'buttons': 1722, 'touch': 1723, 'face': 1724, 'listening': 1725, 'Anyway': 1726, 'FS': 1727, 'breakfast/lunch': 1728, 'salmon': 1729, 'room': 1730, 'college': 1731, 'cooking': 1732, 'reccomendation': 1733, 'relative': 1734, 'glad': 1735, 'turkey': 1736, 'roast': 1737, 'beef': 1738, 'Worth': 1739, 'penny': 1740, 'explain': 1741, 'romantic': 1742, 'adorable.The': 1743, 'junkyard': 1744, 'dogs': 1745, 'special.Too': 1746, 'laughed': 1747, 'LOVE': 1748, 'it.Buy': 1749, 'bougth': 1750, 'L7c': 1751, 'hit': 1752, 'bakery': 1753, 'leftover': 1754, 'STALE': 1755, 'Eew': 1756, 'needs': 1757, 'complete': 1758, 'overhaul': 1759, 'Both': 1760, 'films': 1761, 'credit': 1762, '1986': 1763, 'version': 1764, 'watchable': 1765, 'Treo': 1766, 'T-Mobile': 1767, 'refused': 1768, 'replace': 1769, 'forced': 1770, 'upgrade': 1771, 'discount': 1772, 'lame': 1773, 'shifting': 1774, 'bubbling': 1775, 'peeling': 1776, 'scratch': 1777, 'happier': 1778, 'Droid': 1779, 'spicy': 1780, 'gloriously': 1781, 'fairly': 1782, 'accurate': 1783, 'night': 1784, 'raver': 1785, 'scenery': 1786, 'daughters': 1787, 'paint': 1788, 'photograph': 1789, 'nonsense': 1790, 'foolish': 1791, 'management': 1792, 'OMG': 1793, 'eaten': 1794, 'Thai': 1795, 'until': 1796, 'Albondigas': 1797, 'soup': 1798, 'tasted': 1799, 'tomato': 1800, 'meatballs': 1801, 'gives': 1802, 'phrase': 1803, 'Never': 1804, 'history': 1805, 'conflict': 1806, 'owed': 1807, 'slackers': 1808, 'excuses': 1809, 'actions': 1810, '11.99': 1811, 'sandwich': 1812, 'bigger': 1813, 'Subway': 1814, 'sub': 1815, 'amount': 1816, 'vegetables': 1817, 'Considering': 1818, 'relations': 1819, 'Taylor': 1820, 'Stanwyck': 1821, 'Chipotle': 1822, 'BETTER': 1823, 'Using': 1824, 'earpieces': 1825, 'Tom': 1826, 'Wilkinson': 1827, 'ordeal': 1828, 'matter': 1829, 'hand': 1830, 'progresses': 1831, 'anguish': 1832, 'suffering': 1833, 'Last': 1834, 'bars': 1835, 'recall': 1836, 'tap': 1837, 'water': 1838, 'Ians': 1839, 'drive': 1840, 'thru': 1841, 'means': 1842, 'wait': 1843, 'somehow': 1844, 'end': 1845, 'extraordinary': 1846, 'hands': 1847, 'driest': 1848, 'damn': 1849, 'wings': 1850, 'particular': 1851, 'hear': 1852, 'clearly': 1853, 'terribly': 1854, 'receive': 1855, 'awards': 1856, 'accolades': 1857, 'Because': 1858, 'occupied': 1859, 'background': 1860, 'distracting': 1861, 'fill': 1862, 'binge': 1863, 'drinking': 1864, 'carbs': 1865, 'wasting': 1866, 'memory': 1867, 'card': 1868, 'LOVED': 1869, 'earpiece': 1870, 'searched': 1871, 'Internet': 1872, 'potato': 1873, 'chip': 1874, 'count': 1875, 'chips': 1876, 'Cinematography': 1877, 'shot': 1878, 'interesting': 1879, 'entertaining': 1880, 'Items': 1881, 'stated': 1882, 'included': 1883, 'description': 1884, 'ARE': 1885, 'NOT': 1886, 'INCLUDED': 1887, 'What': 1888, 'bother': 1889, 'authentic': 1890, 'Mexican': 1891, 'meats': 1892, 'choose': 1893, 'attractive': 1894, 'set': 1895, 'eye-pleasing': 1896, 'gem': 1897, 'While': 1898, 'Mickey': 1899, 'speak': 1900, 'tons': 1901, '--': 1902, 'granted': 1903, 'crowd': 1904, 'pleaser': 1905, '1928': 1906, 'Bela': 1907, 'Lugosi': 1908, 'extraneous': 1909, 'intoning': 1910, 'odd': 1911, 'form': 1912, 'factor': 1913, 'Service-check': 1914, 'receiving': 1915, 'important': 1916, 'respect': 1917, 'operates': 1918, 'weak': 1919, 'network': 1920, 'nicest': 1921, 'owners': 1922, 'across': 1923, 'prime': 1924, 'worthless': 1925, 'Waited': 1926, 'Give': 1927, 'Lewis': 1928, 'Black': 1929, 'considerable': 1930, 'talent': 1931, 'incendiary': 1932, 'unrestrained': 1933, 'PG-13': 1934, 'rating': 1935, 'certainly': 1936, 'allow': 1937, 'Vivian': 1938, 'Schilling': 1939, 'iGo': 1940, 'chargers': 1941, 'drink': 1942, 'arepas': 1943, 'Each': 1944, 'track': 1945, 'commands': 1946, 'sentiment': 1947, 'contributing': 1948, 'Exceptionally': 1949, 'orders': 1950, 'timeframe': 1951, 'overall': 1952, 'excited': 1953, 'source': 1954, 'personally': 1955, 'hummus': 1956, 'pita': 1957, 'baklava': 1958, 'falafels': 1959, 'Baba': 1960, 'Ganoush': 1961, 'eggplant': 1962, 'breakfast': 1963, 'perpared': 1964, 'presentation': 1965, 'giant': 1966, 'slices': 1967, 'Toast': 1968, 'lightly': 1969, 'dusted': 1970, 'powdered': 1971, 'sugar': 1972, 'dustpan': 1973, 'indoors': 1974, 'disposable': 1975, 'insulted': 1976, 'truly': 1977, 'FOREVER': 1978, 'Buldogis': 1979, 'Gourmet': 1980, 'Hot': 1981, 'Dog': 1982, 'house': 1983, 'quit': 1984, '18': 1985, 'purchased': 1986, 'owned': 1987, 'Later': 1988, 'myself': 1989, 'lost': 1990, 'power': 1991, 'deliciously': 1992, 'seasoned': 1993, 'fry': 1994, 'Rip': 1995, 'Over': 1996, 'neither': 1997, 'EXCELLENT': 1998, 'SERVICE': 1999, 'Im': 2000, 'RPG': 2001, 'self-respecting': 2002, 'RPGer': 2003, 'loved': 2004, 'wrapped': 2005, 'dates': 2006, 'accountant': 2007, 'screwed': 2008, 'outlandish': 2009, 'array': 2010, 'psychotic': 2011, 'lovable': 2012, 'nuts': 2013, 'Shrimp-': 2014, 'unwrapped': 2015, '1/2': 2016, 'mile': 2017, 'Brushfire': 2018, 'Constantine': 2019, 'intensity': 2020, 'understanding': 2021, 'underlying': 2022, 'psychological': 2023, 'motivations': 2024, 'Han': 2025, 'Nan': 2026, 'Chicken': 2027, 'cradles': 2028, 'kits': 2029, 'slowly': 2030, 'breaking': 2031, 'despite': 2032, 'Easy': 2033, 'span': 2034, 'exclaim': 2035, 'Whoa': 2036, 'TV': 2037, '?': 2038, 'extremely': 2039, 'crumby': 2040, 'excuse': 2041, 'poorly': 2042, 'done': 2043, 'Damian': 2044, 'talented': 2045, 'versatile': 2046, 'ways': 2047, 'yourself': 2048, 'favor': 2049, 'state': 2050, 'usage': 2051, 'driving': 2052, 'serves': 2053, 'egg': 2054, '4.00': 2055, 'disgusting': 2056, 'Makes': 2057, 'wearing': 2058, 'stunning': 2059, 'incredible': 2060, 'shameful': 2061, 'managed': 2062, 'bend': 2063, 'leaf': 2064, 'spring': 2065, 'metal': 2066, 'stress': 2067, 'break': 2068, 'drop': 2069, 'Please': 2070, 'dont': 2071, 'About': 2072, 'thoughts': 2073, 'elaborately': 2074, 'aesthetically': 2075, 'sculpture': 2076, 'starts': 2077, 'beeping': 2078, 'letting': 2079, 'dieing': 2080, 'voice': 2081, 'Pretty': 2082, 'overdue': 2083, 'Tale': 2084, 'Two': 2085, 'Sisters': 2086, 'brick': 2087, 'oven': 2088, 'app': 2089, 'sushi': 2090, 'besides': 2091, 'Costco': 2092, 'transfers': 2093, 'suffers': 2094, 'astronaut': 2095, 'doctor': 2096, 'beginning': 2097, 'exchange': 2098, 'considers': 2099, 'Cold': 2100, 'War': 2101, 'fear': 2102, 'crashed': 2103, 'USSR': 2104, 'treated': 2105, 'packed': 2106, 'anywhere': 2107, 'amazed': 2108, 'arrival': 2109, 'lg': 2110, 'batteries': 2111, 'fraction': 2112, 'purcashed': 2113, 'massive': 2114, 'meatloaf': 2115, 'crispy': 2116, 'wrap': 2117, 'delish': 2118, 'melt': 2119, 'unhappy': 2120, 'Probably': 2121, 'hurry': 2122, 'Better': 2123, 'Pho': 2124, 'rolls': 2125, 'oh': 2126, 'yummy': 2127, 'Ms': 2128, 'angry': 2129, 'pho': 2130, 'Your': 2131, 'suck': 2132, 'correction': 2133, 'Heimer': 2134, 'suspense': 2135, 'drama': 2136, 'confusing': 2137, 'subplots': 2138, 'native': 2139, 'americans': 2140, 'brain': 2141, 'eating': 2142, 'be-all': 2143, 'end-all': 2144, 'brainsucking': 2145, 'further': 2146, 'earbugs': 2147, 'avoid': 2148, 'sitting': 2149, 'ended': 2150, 'waiting': 2151, 'arrived': 2152, 'bargain': 2153, 'shame': 2154, 'Thomerson': 2155, 'living': 2156, 'mess': 2157, 'Gold': 2158, 'Standard': 2159, '17': 2160, 'Would': 2161, 'others': 2162, 'motor': 2163, 'control': 2164, 'center': 2165, 'voltage': 2166, 'humming': 2167, 'equipment': 2168, 'together': 2169, 'exceeds': 2170, 'feet': 2171, 'line': 2172, 'sight': 2173, 'dialogs': 2174, 'shallow': 2175, 'insincere': 2176, 'Judith': 2177, 'Light': 2178, 'favorite': 2179, 'actresses': 2180, 'superb': 2181, '10+': 2182, 'Same': 2183, 'mentioned': 2184, 'Crisp': 2185, 'Clear': 2186, 'God': 2187, 'Filmiing': 2188, 'expansive': 2189, 'errors': 2190, 'commented': 2191, 'cars': 2192, 'garage': 2193, 'Joe': 2194, 'glasses': 2195, 'fact': 2196, 'facial': 2197, 'hair': 2198, 'configuration': 2199, 'seemed': 2200, 'scene': 2201, 'ugly': 2202, 'crafted': 2203, 'Paul': 2204, 'Haggis': 2205, 'handle': 2206, 'bold': 2207, 'strokes': 2208, 'storytelling': 2209, 'painted': 2210, 'crayons': 2211, 'walked': 2212, 'stuffed': 2213, 'Buffet': 2214, 'Bellagio': 2215, 'anticipated': 2216, 'steaks': 2217, 'steak': 2218, 'loving': 2219, 'Talk': 2220, 'USELESS': 2221, 'arts': 2222, 'prettier': 2223, 'graphics': 2224, 'sharp': 2225, 'For': 2226, 'expect': 2227, 'replacement': 2228, 'StarTac': 2229, 'regretted': 2230, 'mail': 2231, 'keypad': 2232, 'backlight': 2233, 'message': 2234, 'Disapointing': 2235, 'Results': 2236, 'tolerate': 2237, 'political': 2238, 'incorrectness': 2239, 'artistic': 2240, 'freedom': 2241, 'suspension': 2242, 'disbelief': 2243, 'Slavic': 2244, 'female': 2245, 'results': 2246, 'stuck': 2247, 'max': 2248, 'volume': 2249, 'mute': 2250, 'Small': 2251, 'sleek': 2252, 'impressive': 2253, 'practical': 2254, 'setup': 2255, 'ample': 2256, 'revealing': 2257, 'Editing': 2258, 'phenomenal': 2259, 'opinion': 2260, 'renowned': 2261, 'silent': 2262, 'Frances': 2263, 'Marion': 2264, 'missed': 2265, 'step': 2266, 'Star': 2267, 'Trek': 2268, 'V': 2269, 'final': 2270, 'Frontier': 2271, 'series': 2272, 'struggle': 2273, 'father': 2274, 'V265': 2275, 'dying': 2276, 'promptly': 2277, 'greeted': 2278, 'seated': 2279, 'His': 2280, 'alongside': 2281, 'Olivia': 2282, 'De': 2283, 'Havilland': 2284, 'brilliant': 2285, 'Unreliable': 2286, 'giving': 2287, 'martini': 2288, 'bit': 2289, 'gooodd': 2290, 'priced': 2291, 'Cant': 2292, 'Work': 2293, 'First': 2294, 'wear': 2295, 'Too': 2296, 'politically': 2297, 'correct': 2298, 'main': 2299, 'budget': 2300, 'Come': 2301, 'hungry': 2302, 'leave': 2303, 'offered': 2304, 'BLAND': 2305, 'filmmaker': 2306, 'nor': 2307, 'hide': 2308, 'head': 2309, 'spent': 2310, 'fat': 2311, 'geek': 2312, 'bible': 2313, 'thumper': 2314, 'bad-ass': 2315, 'girl': 2316, 'Product': 2317, 'None': 2318, 'NOBODY': 2319, 'identifies': 2320, 'cardboard': 2321, 'cutouts': 2322, 'stereotypes': 2323, 'reverse-stereotypes': 2324, 'emotions': 2325, 'plenty': 2326, 'humorous': 2327, 'Sunday': 2328, 'ultra-cheap': 2329, 'IMDB': 2330, 'ratings': 2331, 'negative': 2332, 'Definitely': 2333, 'restaurants': 2334, 'Reception': 2335, 'static': 2336, 'choked': 2337, 'vomit': 2338, 'bored': 2339, 'death': 2340, 'fleshed': 2341, 'surprisingly': 2342, 'Grimes': 2343, 'Blake': 2344, 'deliver': 2345, 'sharply': 2346, 'scripted': 2347, 'deadpan': 2348, 'realistic': 2349, 'Body': 2350, 'Soul': 2351, '1947': 2352, 'masterpiece': 2353, 'attitudes': 2354, 'towards': 2355, 'customers': 2356, 'talk': 2357, 'Angel': 2358, 'Scamp': 2359, 'yelps': 2360, 'hes': 2361, 'scared': 2362, 'funniest': 2363, 'caught': 2364, 'curtain': 2365, 'singing': 2366, \"'Ive\": 2367, 'Had': 2368, 'Feeling': 2369, \"Before'.I\": 2370, 'edition': 2371, 'June': 2372, '20.The': 2373, 'cover': 2374, 'scamp': 2375, 'underneath': 2376, 'lid': 2377, 'waitresses': 2378, 'file': 2379, 'browser': 2380, 'options': 2381, 'needs.Handsfree': 2382, 'friends': 2383, 'Think': 2384, 'plan': 2385, 'MOTO': 2386, 'How': 2387, 'able': 2388, 'dialing': 2389, 'flawed': 2390, 'bathrooms': 2391, 'dirty-': 2392, 'Seat': 2393, 'covers': 2394, 'replenished': 2395, 'plain': 2396, 'yucky': 2397, 'handles': 2398, 'tough': 2399, 'dignity': 2400, 'shocking': 2401, 'spoiler': 2402, 'taped': 2403, 'episodes': 2404, 'flip': 2405, 'bells': 2406, 'whistles': 2407, 'venture': 2408, 'summary': 2409, 'largely': 2410, 'Frankly': 2411, 'Cotton': 2412, 'Unfaithful': 2413, 'Gere': 2414, 'BAD': 2415, 'accept': 2416, 'except': 2417, 'CBR': 2418, 'mp3s': 2419, 'preferably': 2420, 'ripped': 2421, 'Windows': 2422, 'Media': 2423, 'Player': 2424, 'Wow': 2425, 'wind-resistant': 2426, 'pretext': 2427, 'Enough': 2428, 'remarkable': 2429, 'Oh': 2430, 'beauty': 2431, 'conclusion': 2432, 'volcano': 2433, 'Los': 2434, 'Angeles': 2435, 'wontons': 2436, 'thick': 2437, 'chewy': 2438, 'move': 2439, 'enjoyable': 2440, 'uplifting': 2441, 'disrespected': 2442, 'study': 2443, 'interested': 2444, 'sins': 2445, 'industrial': 2446, 'Only': 2447, 'Pros': 2448, 'Large': 2449, 'seating': 2450, 'area/': 2451, 'menu/': 2452, 'BEST': 2453, 'dough': 2454, 'Awful': 2455, 'world': 2456, '95': 2457, 'theatres': 2458, 'Host': 2459, 'lack': 2460, 'BITCHES': 2461, 'ate': 2462, 'moods': 2463, 'forgetting': 2464, 'Have': 2465, '2007': 2466, 'meal': 2467, 'cost': 2468, 'Painful': 2469, 'drag': 2470, 'grtting': 2471, '7.44': 2472, 'V3c': 2473, 'stop': 2474, 'belly': 2475, 'hankering': 2476, 'Much': 2477, 'unneeded': 2478, 'controversy': 2479, 'qualified': 2480, 'foods': 2481, 'Sounds': 2482, 'reasonably': 2483, 'effective': 2484, 'piano': 2485, 'Thus': 2486, 'visited': 2487, 'bathroom': 2488, 'trippy': 2489, 'possesed': 2490, 'junk': 2491, 'chipolte': 2492, 'ranch': 2493, 'dipping': 2494, 'sause': 2495, 'watered': 2496, 'heat': 2497, 'inspiration': 2498, 'overcome': 2499, 'rejection': 2500, 'dirty': 2501, 'workers': 2502, 'beat': 2503, 'finds': 2504, 'enter': 2505, 'Emilio': 2506, 'Estevez': 2507, 'debut': 2508, 'pacing': 2509, 'interplay': 2510, 'development': 2511, 'surrounding': 2512, 'suggest': 2513, 'natural': 2514, 'Kids': 2515, 'lots': 2516, 'kiddos': 2517, 'purchase-': 2518, 'Hard': 2519, 'judge': 2520, 'whether': 2521, 'sides': 2522, 'grossed': 2523, 'melted': 2524, 'styrofoam': 2525, 'jabra': 2526, 'gels': 2527, 'R': 2528, 'seeing': 2529, 'thought-provoking': 2530, 'Instead': 2531, 'bore': 2532, 'fest': 2533, 'whiny': 2534, 'spoiled': 2535, 'brat': 2536, 'babysitting': 2537, 'size': 2538, 'key': 2539, 'pad': 2540, 'lit': 2541, 'cut': 2542, 's': 2543, 'flavored': 2544, 'film-making': 2545, 'themes': 2546, 'simmering': 2547, 'occasionally': 2548, 'boiling': 2549, 'warts': 2550, 'poet': 2551, 'bohemian': 2552, 'self-indulgent': 2553, 'wartime': 2554, 'aerial': 2555, 'bombardments': 2556, 'London': 2557, 'outward': 2558, 'tranquillity': 2559, 'Welsh': 2560, 'coastal': 2561, 'retreat': 2562, 'borderlines': 2563, 'friendship': 2564, 'lust': 2565, 'dedication': 2566, 'versus': 2567, 'concerns': 2568, 'jealousy': 2569, 'rivalry': 2570, 'cowardice': 2571, 'egotism': 2572, 'heroism': 2573, 'self-sacrifice': 2574, 'warranty': 2575, 'reoccure.Bottom': 2576, 'somewhere': 2577, 'Cingular': 2578, 'support': 2579, 'Cole': 2580, 'Defective': 2581, 'crap': 2582, 'Nine': 2583, 'lovely': 2584, 'Quality': 2585, 'modest': 2586, 'running': 2587, 'Lange': 2588, 'become': 2589, 'actress': 2590, 'Then': 2591, 'continue': 2592, 'pairing': 2593, 'periodically': 2594, 'kept': 2595, 'dropping': 2596, 'paid': 2597, 'Non-linear': 2598, 'narration': 2599, 'thus': 2600, 'flashbacks': 2601, 'articulated': 2602, 'complain': 2603, 'element': 2604, 'excessively': 2605, 'phony': 2606, 'contrived': 2607, 'painful': 2608, 'sit': 2609, 'through': 2610, 'camp': 2611, 'Total': 2612, 'fail': 2613, 'Prices': 2614, 'Utterly': 2615, 'merit': 2616, 'level': 2617, 'akin': 2618, 'torture': 2619, 'child': 2620, '1973': 2621, 'Stranger': 2622, '8': 2623, 'bucks': 2624, 'mouthful': 2625, 'relaxed': 2626, 'venue': 2627, 'couples': 2628, 'groups': 2629, 'etc': 2630, 'wants': 2631, 'surf': 2632, 'wave': 2633, 'space': 2634, '1998': 2635, 'Deep': 2636, 'Impact': 2637, 'Armageddon': 2638, 'ringer': 2639, 'REAL': 2640, 'choices': 2641, 'Tasted': 2642, 'dirt': 2643, 'switch': 2644, 'rocketed': 2645, 'destination': 2646, 'unknown': 2647, 'accident': 2648, 'Top': 2649, 'Cox': 2650, 'length': 2651, 'win': 2652, 'employee': 2653, 'OK': 2654, 'refill': 2655, 'dancing': 2656, 'hence': 2657, 'title': 2658, 'boyfriend': 2659, 'trip': 2660, 'grilled': 2661, 'yellow': 2662, 'saffron': 2663, 'seasoning': 2664, 'Awsome': 2665, 'Device': 2666, 'Gets': 2667, 'signal': 2668, 'By': 2669, 'flimsy': 2670, 'front': 2671, 'protection': 2672, 'FANTASTIC': 2673, 'mood': 2674, 'Kris': 2675, 'Kristoffersen': 2676, 'difference': 2677, 'seasonal': 2678, 'fruit': 2679, 'peach': 2680, 'puree': 2681, 'jewel': 2682, 'Las': 2683, 'hoping': 2684, 'rated': 2685, 'feel-good': 2686, 'cinema': 2687, 'SHOULD': 2688, 'Eve': 2689, 'entire': 2690, 'flaws': 2691, 'exceptional': 2692, 'additional': 2693, 'owning': 2694, 'official': 2695, 'OEM': 2696, 'suffered': 2697, 'provided': 2698, 'instructions': 2699, 'least': 2700, 'Still': 2701, 'Waiting': 2702, '......': 2703, 'recieve': 2704, 'row': 2705, 'entirely': 2706, 'unmoving': 2707, 'hypocrisy': 2708, 'buildings': 2709, 'locations': 2710, 'MAYBE': 2711, 'hummh': 2712, 'maintain': 2713, 'connection': 2714, 'lap': 2715, 'words': 2716, 'IQ': 2717, 'mollusk': 2718, 'SETS': 2719, 'oy-vey': 2720, 'scale': 2721, 'girlfriend': 2722, 'hated': 2723, 'pink': 2724, 'char': 2725, 'behing': 2726, '5020': 2727, 'comfortible': 2728, '24': 2729, 'pain': 2730, 'loop': 2731, 'tiny': 2732, 'vomited': 2733, 'mid': 2734, 'applause': 2735, 'should': 2736, 'prelude': 2737, 'samsung': 2738, 'crappy': 2739, 'Samsung': 2740, 'E715': 2741, 'seeen': 2742, 'Made': 2743, 'reccommend': 2744, 'Essentially': 2745, 'Microsoft': 2746, 'tech': 2747, 'pathetic': 2748, 'attempts': 2749, 'depth': 2750, 'tones': 2751, 'acceptable': 2752, 'Due': 2753, 'happening': 2754, 'chef': 2755, 'captures': 2756, 'essence': 2757, 'skilled': 2758, 'internet': 2759, 'access': 2760, 'instance': 2761, 'bose': 2762, 'noise': 2763, 'cancelling': 2764, 'NYC': 2765, 'commuter': 2766, 'Helen': 2767, 'Baxendale': 2768, 'credible': 2769, 'Macbeth': 2770, 'cheerfull': 2771, 'naughty': 2772, 'deadly': 2773, 'blood': 2774, 'evil': 2775, 'wired': 2776, 'clicks': 2777, 'mechanism': 2778, 'checking': 2779, 'NOKIA': 2780, 'appears': 2781, '1.': 2782, 'lasting': 2783, 'recharge': 2784, 'frequentyly': 2785, 'microphone': 2786, 'jack': 2787, 'Nobu': 2788, 'similar': 2789, 'Server': 2790, 'handling': 2791, 'large': 2792, 'rowdy': 2793, 'Wirefly': 2794, 'star.I': 2795, 'contact': 2796, 'Cingular/AT': 2797, 'T': 2798, 'inform': 2799, 'practice': 2800, 'Jason': 2801, 'Connery': 2802, 'moved': 2803, 'tears': 2804, 'monolog': 2805, 'candle': 2806, 'sphere': 2807, 'decay': 2808, 'forces': 2809, 'modern': 2810, 'hip': 2811, 'maintaining': 2812, 'coziness': 2813, 'forgot': 2814, 'Casting': 2815, 'Trond': 2816, 'Fausa': 2817, 'Aurvåg': 2818, 'Bothersome': 2819, 'Man': 2820, 'doing': 2821, 'sergeant': 2822, 'auju': 2823, 'Sprint': 2824, 'starring': 2825, 'Jaclyn': 2826, 'Smith': 2827, 'god': 2828, 'uncomfortable': 2829, 'compared': 2830, 'previous': 2831, 'proven': 2832, 'dead': 2833, 'suggestions': 2834, 'rocked': 2835, 'social': 2836, 'physical': 2837, 'outlets': 2838, 'Construction': 2839, 'entrees': 2840, 'GC': 2841, 'privileged': 2842, 'working/eating': 2843, 'numerous': 2844, 'expert/connisseur': 2845, 'topic': 2846, 'fo': 2847, 'coupon': 2848, 'gotten': 2849, 'defect': 2850, 'risk': 2851, 'puff': 2852, 'smoke': 2853, 'everyday': 2854, 'holds': 2855, 'EVERYONE': 2856, 'DO': 2857, 'BE': 2858, 'FOOLED': 2859, 'jiggle': 2860, 'slim': 2861, 'Kabuki': 2862, 'over-priced': 2863, 'over-hip': 2864, 'under-services': 2865, 'joins': 2866, 'Revenge': 2867, 'Boogeyman': 2868, 'Zombiez': 2869, 'hellish': 2870, 'trinity': 2871, 'horror': 2872, 'AccessoryOne': 2873, 'frustration': 2874, 'retarded': 2875, 'girls': 2876, '0': 2877, 'ones': 2878, 'Wayne': 2879, 'presence': 2880, 'shined': 2881, 'senior': 2882, 'him': 2883, 'older': 2884, 'showcasing': 2885, 'noteworthy': 2886, 'punched': 2887, 'gallon': 2888, 'spew': 2889, 'forth': 2890, 'Jamie': 2891, 'Foxx': 2892, 'IS': 2893, 'Ray': 2894, 'Charles': 2895, 'genius': 2896, 'owns': 2897, 'Spacek': 2898, 'Coal': 2899, 'Miner': 2900, 'Quaid': 2901, 'Balls': 2902, 'Fire': 2903, 'purchases': 2904, 'gross': 2905, 'overpriced': 2906, 'Lovely': 2907, 'thriller': 2908, 'Hitchcock': 2909, 'shenanigans': 2910, 'murdered': 2911, 'spy': 2912, 'kidnapped': 2913, 'nasty': 2914, 'church': 2915, 'foreign': 2916, 'random': 2917, 'taxidermists': 2918, 'Audio': 2919, 'string': 2920, 'cashier': 2921, 'wayyy': 2922, 'Mouse': 2923, 'PLANE': 2924, 'CRAZY': 2925, 'famous': 2926, 'mostly': 2927, 'ground-breaking': 2928, 'month': 2929, 'flawlessly': 2930, 'She': 2931, 'although': 2932, 'blame': 2933, 'placed': 2934, 'door': 2935, 'Carly': 2936, \"'Cover\": 2937, 'Girl': 2938, 'exploit': 2939, 'financial': 2940, 'gain': 2941, 'mode': 2942, 'button': 2943, 'indescribably': 2944, 'idiotic': 2945, 'Looks': 2946, 'strong': 2947, 'BUY': 2948, 'BUYIT': 2949, 'SUCKS': 2950, 'Setup': 2951, 'smoothly': 2952, 'hot': 2953, 'Absolutel': 2954, 'maybe': 2955, 'disgraceful': 2956, 'Tucson': 2957, 'BMW': 2958, 'quiet': 2959, 'trouble': 2960, 'hearing': 2961, 'saying': 2962, 'UNfunny': 2963, 'unrealistic': 2964, 'utter': 2965, '70000': 2966, 'cheated': 2967, 'opportunity': 2968, 'Rice': 2969, 'Company': 2970, 'bring': 2971, 'boys': 2972, 'baby': 2973, 'vehicle': 2974, 'cradle': 2975, 'build': 2976, 'unlike': 2977, '*': 2978, 'Cape': 2979, 'Cod': 2980, 'ravoli': 2981, 'cranberry': 2982, 'mmmm': 2983, 'peaking': 2984, 'happened': 2985, 'Columbo': 2986, 'loops': 2987, 'material': 2988, 'easily': 2989, 'slide': 2990, 'grip': 2991, 'prevents': 2992, 'slipping': 2993, 'usually': 2994, 'headbands': 2995, 'mortified': 2996, 'Punishment': 2997, 'Park': 2998, 'batter': 2999, 'ratio': 3000, 'tenders': 3001, 'unsatisfying': 3002, 'Has': 3003, 'worse': 3004, 'Ticker': 3005, 'purchasing': 3006, 'JX-10': 3007, 'Moto': 3008, 'theater': 3009, 'lilt': 3010, 'heart': 3011, 'race': 3012, 'Although': 3013, 'actual': 3014, 'constantly': 3015, '510': 3016, 'complaints': 3017, 'regarding': 3018, 'movie-making': 3019, 'crazy': 3020, 'guacamole': 3021, 'puréed': 3022, 'gyros': 3023, 'missing': 3024, 'aspect': 3025, 'becomes': 3026, 'dull': 3027, 'uninteresting': 3028, 'forgettable': 3029, 'keypads': 3030, 'tinny': 3031, 'reach': 3032, 'passed': 3033, 'mark': 3034, 'shows': 3035, 'signs': 3036, '100': 3037, 'functional': 3038, 'Virgin': 3039, 'Wireless': 3040, 'rocks': 3041, 'drawback': 3042, 'MP3': 3043, 'player': 3044, 'pause': 3045, 'skip': 3046, 'songs': 3047, 'folks': 3048, 'Otto': 3049, 'welcome': 3050, 'Why': 3051, 'horrendous': 3052, 'forever': 3053, 'replace.Easy': 3054, 'operate': 3055, 'structure': 3056, 'tightly': 3057, 'constructed': 3058, 'vitally': 3059, 'occurs': 3060, 'minute': 3061, 'content': 3062, 'highest': 3063, 'superlative': 3064, 'imaginable': 3065, 'Yes': 3066, 'require': 3067, 'significant': 3068, 'puzzle-solving': 3069, 'pieces': 3070, 'create': 3071, 'pulls': 3072, 'punches': 3073, 'Graphics': 3074, 'number': 3075, 'TH': 3076, 'insane': 3077, 'unlockable': 3078, 'Waste': 3079, 'properly': 3080, 'Actually': 3081, 'aye': 3082, 'Buy': 3083, 'PURE': 3084, 'BRILLIANCE': 3085, 'flick': 3086, 'doomed': 3087, 'conception': 3088, 'minor': 3089, 'non-sequel': 3090, 'tone': 3091, 'PG-rated': 3092, 'confirm': 3093, 'unfunny': 3094, 'generic': 3095, 'ENTIRE': 3096, 'exaggerating': 3097, 'trailer': 3098, 'Carrell': 3099, 'save': 3100, 'co-stars': 3101, 'Morgan': 3102, 'Freeman': 3103, 'Jonah': 3104, 'Hill': 3105, 'Ed': 3106, 'Helms': 3107, 'lazy': 3108, 'animals': 3109, 'integration': 3110, 'obvious': 3111, 'blue/green-screen': 3112, 'translate': 3113, 'succeeds': 3114, 'meagre': 3115, 'choice': 3116, 'lesser': 3117, 'addition': 3118, 'French': 3119, 'Cancan': 3120, 'boasts': 3121, 'cutest': 3122, 'leading': 3123, 'head-over-heels': 3124, 'insipid': 3125, 'cause': 3126, 'Long': 3127, 'future': 3128, 'efforts': 3129, 'performances': 3130, 'Totally': 3131, 'Anne': 3132, 'Heche': 3133, 'utterly': 3134, 'Sam': 3135, 'Shepard': 3136, 'gung': 3137, 'ho': 3138, 'Marine': 3139, 'sobering': 3140, 'riveted': 3141, 'resounding': 3142, '9': 3143, 'Hanks': 3144, 'children': 3145, 'fingernails': 3146, 'chalkboard': 3147, 'unnecessary': 3148, 'train/roller': 3149, 'coaster': 3150, 'grates': 3151, 'nerves': 3152, 'improved': 3153, 'improvisation': 3154, 'worry': 3155, 'delivering': 3156, 'honestly': 3157, 'often': 3158, 'Often': 3159, 'follow': 3160, 'surroundings': 3161, 'crackles': 3162, 'unpredictable': 3163, 'youthful': 3164, 'energy': 3165, 'concentrate': 3166, 'meanders': 3167, 'badly': 3168, 'builders': 3169, 'cross': 3170, 'G': 3171, 'PG': 3172, 'non-cliche': 3173, 'parents': 3174, 'predict': 3175, 'dialog': 3176, 'verbatim': 3177, 'selections': 3178, 'chills': 3179, 'Alexander': 3180, 'Nevsky': 3181, 'whoever': 3182, 'pretentious': 3183, 'planned': 3184, 'Dodge': 3185, 'stratus': 3186, 'Big': 3187, 'Shots': 3188, 'gon': 3189, 'na': 3190, 'help': 3191, 'makers': 3192, 'restrained': 3193, 'Québec': 3194, 'satisifed': 3195, 'Choice': 3196, 'Portable': 3197, 'Mediterranean': 3198, 'Salad': 3199, 'Google': 3200, 'Smashburger': 3201, 'pop': 3202, 'Thoroughly': 3203, 'bill': 3204, 'faster': 3205, 'WORST': 3206, 'PHONE': 3207, 'EVER': 3208, 'linking': 3209, '8530': 3210, 'Blackberry': 3211, 'Curve': 3212, 'hereas': 3213, 'tribute': 3214, 'event': 3215, 'held': 3216, '1/10': 3217, 'setting': 3218, 'Dissapointing': 3219, 'Performance': 3220, 'Provides': 3221, 'classy': 3222, 'Any': 3223, 'ring': 3224, 'beware': 3225, 'inexpensive': 3226, 'boot': 3227, 'i.e': 3228, 'hat': 3229, 'sunglasses': 3230, 'Save': 3231, '11': 3232, 'vibe': 3233, 'Peter': 3234, 'Watkins': 3235, 'accessible': 3236, 'waaay': 3237, 'sounded': 3238, 'wife': 3239, 'unintelligible': 3240, 'town': 3241, 'contacted': 3242, 'produce': 3243, 'receipt': 3244, 'luck': 3245, 'beans': 3246, 'Juano': 3247, 'Hernandez': 3248, 'played': 3249, 'supporting': 3250, 'roles': 3251, 'era': 3252, 'proud': 3253, 'accused': 3254, 'murdering': 3255, 'South': 3256, 'services': 3257, 'Disappointment': 3258, 'Once': 3259, 'journey': 3260, 'touches': 3261, 'member': 3262, '2-3': 3263, 'Plantronics': 3264, 'carry': 3265, 'waterproof': 3266, 'convenient': 3267, 'staying': 3268, 'MGM': 3269, '1.3': 3270, 'megapixels': 3271, 'renders': 3272, 'images': 3273, 'expectations': 3274, 'lacked': 3275, 'excellently': 3276, 'produced': 3277, 'typical': 3278, 'sci': 3279, 'fi': 3280, 'Weird': 3281, 'vegetarian': 3282, 'wide': 3283, 'debated': 3284, 'sack': 3285, 'trumpeter': 3286, 'falsely': 3287, 'murder': 3288, 'handy': 3289, 'peachy-keen': 3290, 'Eclectic': 3291, 'legit': 3292, 'Italian': 3293, 'usual': 3294, 'central': 3295, 'ineptly': 3296, 'stereotypically': 3297, 'Steer': 3298, 'Palm': 3299, 'replacementr': 3300, 'pens': 3301, 'three-pack': 3302, 'monumental': 3303, 'Europe': 3304, 'Asia': 3305, 'WRITTEN': 3306, 'fifteen': 3307, 'um': 3308, 'convention': 3309, 'past': 3310, 'aluminum': 3311, 'VX': 3312, 'protected': 3313, 'handheld': 3314, 'smart': 3315, 'par': 3316, 'helps': 3317, 'along': 3318, 'idiot-savant': 3319, 'feels': 3320, 'North': 3321, 'Scottsdale': 3322, 'commentary': 3323, 'undoubtedly': 3324, 'refried': 3325, 'dried': 3326, 'crusty': 3327, 'mouths': 3328, 'bellies': 3329, 'buyers': 3330, 'remorse': 3331, 'Clever': 3332, 'crowd-pleaser': 3333, 'ranks': 3334, 'among': 3335, '80': 3336, 'disappoint': 3337, 'shut-down': 3338, 'primal': 3339, 'impulse': 3340, 'self-preservation': 3341, 'child-like': 3342, 'compromise': 3343, 'QWERTY': 3344, 'lovers': 3345, 'Yama': 3346, 'fucking': 3347, 'mixed': 3348, 'mushrooms': 3349, 'yukon': 3350, 'gold': 3351, 'corn': 3352, 'beateous': 3353, 'alarm': 3354, 'clock': 3355, 'docking': 3356, 'station': 3357, 'Recommend': 3358, 'confidence': 3359, 'infuriating': 3360, 'Brilliant': 3361, 'opened': 3362, 'Pulling': 3363, 'mercy': 3364, 'killing': 3365, 'Almost': 3366, 'school': 3367, 'pile': 3368, 'round': 3369, 'infatuated': 3370, 'People': 3371, 'European': 3372, 'CG': 3373, 'opening': 3374, 'sequence': 3375, 'created': 3376, 'Slideshow': 3377, 'sake': 3378, 'encourage': 3379, 'Veggitarian': 3380, 'platter': 3381, 'Ireland': 3382, 'electronics': 3383, 'available': 3384, 'FM': 3385, 'Transmitters': 3386, 'adventure': 3387, 'sibling': 3388, 'bond': 3389, 'third': 3390, 'Palms': 3391, 'B-list': 3392, 'horror/suspense': 3393, 'waited': 3394, 'football': 3395, 'perplexing': 3396, 'decided': 3397, 'send': 3398, 'verge': 3399, 'attack': 3400, 'smudged': 3401, 'Africa': 3402, 'attempted': 3403, 'Truth': 3404, 'Reconciliation': 3405, 'process': 3406, 'smelled': 3407, 'grease': 3408, 'throwback': 3409, 'student': 3410, '1980': 3411, 'experiences': 3412, 'abroad': 3413, 'interacting': 3414, 'nationalities': 3415, 'slightly': 3416, 'kudos': 3417, 'taking': 3418, 'stand': 3419, 'lesser-known': 3420, 'super-intelligent': 3421, 'audience': 3422, 'racism': 3423, 'tracfonewebsite': 3424, 'toactivate': 3425, 'Worked': 3426, 'writer': 3427, 'Gorman': 3428, 'Bechard': 3429, 'homework': 3430, 'references': 3431, 'character-age': 3432, 'appropriate': 3433, 'Reasonably': 3434, 'SO': 3435, 'shed': 3436, 'tear': 3437, 'thrilled': 3438, 'cult': 3439, 'CLASSIC': 3440, 'Which': 3441, 'Malta': 3442, 'settings': 3443, 'barren': 3444, 'hockey': 3445, 'defensemen': 3446, 'goalies': 3447, 'diving': 3448, 'shots': 3449, 'net': 3450, 'Started': 3451, 'relationship': 3452, 'assistant': 3453, 'superficial': 3454, \"'stagey\": 3455, 'storyline': 3456, 'stage': 3457, 'farce': 3458, 'pyromaniac': 3459, 'waylaid': 3460, 'switched': 3461, 'Glad': 3462, 'Did': 3463, 'smile': 3464, 'yawn': 3465, 'educational': 3466, 'Barney': 3467, 'DE': 3468, 'duper': 3469, 'Babie': 3470, 'Bop': 3471, 'cute': 3472, 'Storm': 3473, 'Trooper': 3474, 'wonderfully': 3475, 'contained': 3476, 'all-star': 3477, 'precisely': 3478, 'success': 3479, 'depends': 3480, 'casting': 3481, 'Sydney': 3482, 'Greenstreet': 3483, 'Yardley': 3484, 'bitpim': 3485, 'program': 3486, 'transfer': 3487, 'phone.The': 3488, 'promised': 3489, 'Always': 3490, 'Dos': 3491, 'Gringos': 3492, 'Artless': 3493, 'camera-work': 3494, 'endlessly': 3495, 'ugliest': 3496, 'THERE': 3497, 'PLOT': 3498, 'OR': 3499, 'STORYLINE': 3500, 'Firehouse': 3501, 'customize': 3502, 'Eggplant': 3503, 'Green': 3504, 'Bean': 3505, 'stir': 3506, 'Bluetooth': 3507, 'locks': 3508, 'screens': 3509, 'flash': 3510, 'randomly': 3511, 'pocket': 3512, 'locked': 3513, 'connoisseur': 3514, 'reminds': 3515, 'mom': 3516, 'shops': 3517, 'San': 3518, 'Francisco': 3519, 'Bay': 3520, 'Area': 3521, 'smartphone': 3522, 'hamburger': 3523, 'Again': 3524, 'well-balanced': 3525, 'NASTY': 3526, 'whenever': 3527, 'already': 3528, 'memorized': 3529, 'Jawbone': 3530, 'Era': 3531, 'Reliability': 3532, 'GREAT': 3533, 'dual-purpose': 3534, 'Dont': 3535, 'holster': 3536, 'match': 3537, 'photo': 3538, 'ad': 3539, 'hardest': 3540, 'Honestly': 3541, 'M': 3542, 'campy': 3543, 'yeah': 3544, 'Ha': 3545, 'flop': 3546, 'marred': 3547, 'constant': 3548, 'studio': 3549, 'sets': 3550, 'indoor': 3551, 'exteriors': 3552, 'redeemed': 3553, 'MST3K': 3554, 'fodder': 3555, 'Hackneyed': 3556, 'directing': 3557, 'Customer': 3558, 'equivalent': 3559, 'Dickens': 3560, 'Carol': 3561, 'sensibility': 3562, 'loud.Glad': 3563, 'maintains': 3564, 'flawless': 3565, 'normal': 3566, 'Razor': 3567, 'V3i': 3568, 'Crowe': 3569, 'sub-par': 3570, 'composed': 3571, '\\x96': 3572, 'rotating': 3573, 'Someone': 3574, 'shouldve': 3575, 'invented': 3576, 'sooner': 3577, 'word-of-mouth': 3578, 'promote': 3579, 'outta': 3580, 'stops': 3581, 'ringing': 3582, 'intermittently': 3583, 'Are': 3584, 'helped': 3585, 'inconspicuous': 3586, 'blandest': 3587, 'preparing': 3588, 'Indian': 3589, 'cuisine': 3590, 'lukewarm': 3591, 'redeeming': 3592, 'Personally': 3593, 'involving': 3594, 'issue': 3595, 'edible': 3596, 'colors': 3597, 'overwhelmed': 3598, 'stayed': 3599, 'professional': 3600, 'AN': 3601, 'HOUR': 3602, 'nano': 3603, 'it.My': 3604, 'dissapointed': 3605, 'Nicest': 3606, 'situations': 3607, 'coach': 3608, 'fascinating': 3609, 'drain': 3610, 'potentially': 3611, 'coverage': 3612, 'Perabo': 3613, 'Seafood': 3614, 'limited': 3615, 'boiled': 3616, 'crab': 3617, 'legs': 3618, 'due': 3619, 'acknowledged': 3620, '35': 3621, 'corded': 3622, 'shelf': 3623, 'failed': 3624, 'convey': 3625, 'broad': 3626, 'sweep': 3627, 'landscapes': 3628, 'details': 3629, 'dysfunction': 3630, 'carries': 3631, 'identify': 3632, 'Fridays': 3633, 'blows': 3634, 'desserts': 3635, 'evening': 3636, 'drastically': 3637, 'expecting': 3638, 'nutshell': 3639, 'restaraunt': 3640, 'smells': 3641, 'market': 3642, 'sewer': 3643, 'seafood': 3644, 'generous': 3645, 'portion': 3646, 'Bachi': 3647, 'Burger': 3648, 'recommendation': 3649, 'hype': 3650, 'assumed': 3651, 'littered': 3652, 'overt': 3653, 'racial': 3654, 'slurs': 3655, 'members': 3656, 'whites': 3657, 'depicted': 3658, 'morons': 3659, 'boobs': 3660, 'Waitress': 3661, 'Integrated': 3662, 'seamlessly': 3663, 'RAZR': 3664, 'elderly': 3665, 'babbling': 3666, 'overwrought': 3667, 'pseudo-Satanic': 3668, 'gibberish': 3669, 'corny': 3670, 'teen': 3671, 'Goth': 3672, 'blush': 3673, 'Olde': 3674, 'English': 3675, 'Latin': 3676, 'Macarons': 3677, 'insanely': 3678, 'empowerment': 3679, 'AYCE': 3680, 'investment': 3681, 'Sundays': 3682, 'March': 3683, '20th': 3684, '2005': 3685, 'hosting': 3686, 'voice-overs': 3687, 'monotonous': 3688, 'guests': 3689, 'PURCHASE': 3690, 'THIS': 3691, 'creaks': 3692, 'wooden': 3693, 'floor': 3694, 'Mark': 3695, 'Evil': 3696, 'Phantasm': 3697, 'discovering': 3698, 'upstairs': 3699, 'basement': 3700, 'cafe': 3701, 'Plug': 3702, 'AVOID': 3703, 'ESTABLISHMENT': 3704, 'twist': 3705, 'charges': 3706, 'loosely': 3707, 'movie-going': 3708, 'public': 3709, 'tremendously': 3710, 'agree': 3711, 'Jessica': 3712, 'procedures': 3713, 're-set': 3714, 'wiping': 3715, 'immediately': 3716, 'gone': 3717, 'toro': 3718, 'tartare': 3719, 'cavier': 3720, 'thinly': 3721, 'sliced': 3722, 'wagyu': 3723, 'truffle': 3724, 'decidely': 3725, 'period': 3726, 'Universal': 3727, 'B': 3728, 'Sadly': 3729, 'Gordon': 3730, 'Ramsey': 3731, 'shall': 3732, 'DISAPPOINTED': 3733, '-My': 3734, 'Earset': 3735, 'outgoing': 3736, 'Jimmy': 3737, 'science': 3738, 'teacher': 3739, 'multiple': 3740, 'ignored': 3741, 'hostess': 3742, 'magnificent': 3743, 'photography/cinematography': 3744, 'long-wearing': 3745, 'conditions': 3746, 'tremendous': 3747, 'Item': 3748, 'Metro': 3749, 'PCS': 3750, 'SCH-r450': 3751, 'slider': 3752, 'Sony': 3753, 'Premium': 3754, 'Sound': 3755, 'plugs': 3756, 'total': 3757, 'package': 3758, 'loudest': 3759, 'unacceptable': 3760, 'Display': 3761, 'overcooked': 3762, 'distinction': 3763, 'cutting': 3764, 'edge': 3765, 'six': 3766, 'inch': 3767, 'wire': 3768, 'salsa': 3769, 'Monica': 3770, 'Bellucci': 3771, 'Blue': 3772, 'Ant': 3773, 'Buyer': 3774, 'Beware': 3775, 'flush': 3776, 'toilet': 3777, '8/10': 3778, 'score': 3779, 'nachos': 3780, 'Gerardo': 3781, 'keeps': 3782, 'writers': 3783, 'smack': 3784, 'bonus': 3785, 'show.These': 3786, 'screen.This': 3787, 'interface': 3788, 'decade': 3789, 'compete': 3790, 'designs': 3791, 'Voice': 3792, 'Signal': 3793, 'Strength': 3794, 'Dropped': 3795, 'Calls': 3796, 'Logitech': 3797, 'unique': 3798, '325': 3799, 'cellphone': 3800, 'worn-out': 3801, 'DVD': 3802, 'halfway': 3803, 'embarrassed': 3804, 'Howell': 3805, 'ringtones': 3806, 'upbeat': 3807, 'Yet': 3808, 'Plantronincs': 3809, 'continues': 3810, 'explanation': 3811, 'atrocity': 3812, 'Was': 3813, 'Hoping': 3814, 'More': 3815, 'idiot': 3816, 'season': 3817, 'inviting': 3818, 'cingular': 3819, '8125': 3820, 'Snow': 3821, 'possibly': 3822, 'seller': 3823, 'concrete': 3824, 'knock': 3825, 'wood': 3826, 'terrific': 3827, 'irritating': 3828, 'advertised': 3829, 'Saggy': 3830, 'floppy': 3831, 'anti-glare': 3832, 'cheesecurds': 3833, 'craving': 3834, 'Awkward': 3835, 'unreliable': 3836, 'sliding': 3837, 'pants': 3838, 'pockets': 3839, '5-year': 3840, '2160': 3841, 'Tracfone': 3842, 'outstanding': 3843, 'Widmark': 3844, 'unintentionally': 3845, 'comical': 3846, 'overnight': 3847, 'AZ': 3848, 'bagels': 3849, 'grocery': 3850, 'cocktails': 3851, 'handmade': 3852, 'accommodations': 3853, 'daughter': 3854, 'Disappointed': 3855, 'exchanged': 3856, 'Otherwise': 3857, 'install': 3858, 'Plan': 3859, 'ordering': 3860, 'low-key': 3861, 'non-fancy': 3862, 'affordable': 3863, 'manager': 3864, 'Protects': 3865, 'armband': 3866, 'interest': 3867, 'slightest': 3868, 'uniqueness': 3869, 'amp': 3870, 'Let': 3871, 'start': 3872, 'problems\\x97the': 3873, 'professor': 3874, 'Crema': 3875, 'Café': 3876, 'expanded': 3877, 'olives': 3878, 'Plater': 3879, 'starving': 3880, 'weekend': 3881, 'pictures': 3882, 'lense': 3883, 'covered': 3884, 'Here': 3885, 'Wind': 3886, 'Lion': 3887, 'rendering': 3888, 'America': 3889, 'Imperial': 3890, 'Matrix': 3891, 'sequels': 3892, 'provoking': 3893, 'mindblowing': 3894, 'Experience': 3895, 'chow': 3896, 'mein': 3897, 'existing': 3898, 'CDs': 3899, 'proclaimed': 3900, 'coffee': 3901, 'wildly': 3902, 'weaker': 3903, 'episode': 3904, 'restocking': 3905, 'fee': 3906, 'refund': 3907, 'crowds': 3908, 'downtown': 3909, 'juries': 3910, 'lawyers': 3911, 'court': 3912, 'reservation': 3913, 'recognition': 3914, 'handset': 3915, 'PIECE': 3916, 'OF': 3917, 'CRAP': 3918, 'Ever': 3919, 'blow': 3920, 'Omelets': 3921, 'positive': 3922, 'Mic': 3923, 'suggests': 3924, 'brings': 3925, 'dramatic': 3926, 'tensions': 3927, 'inappropriate': 3928, 'smiling': 3929, 'Keira': 3930, 'Knightley': 3931, 'prone': 3932, 'direction': 3933, 'themselves': 3934, 'youtube': 3935, 'reheated': 3936, 'ok': 3937, 'wedges': 3938, 'Mobile': 3939, 'Tools': 3940, 'Denny': 3941, 'greasy': 3942, 'unhealthy': 3943, 'accessing': 3944, 'downloading': 3945, 'performing': 3946, 'functions': 3947, 'downside': 3948, 'courteous': 3949, 'iPODs': 3950, 'donut': 3951, 'recently': 3952, 'Caballero': 3953, 'D807': 3954, 'wrongly': 3955, 'New': 3956, 'Look': 3957, 'Fall': 3958, '2000': 3959, 'daily': 3960, 'specials': 3961, 'wit': 3962, 'cheapy': 3963, 'Lots': 3964, 'compelling': 3965, 'indictment': 3966, 'American': 3967, 'justice': 3968, 'system': 3969, 'frightening': 3970, 'replaced': 3971, 'rolled': 3972, 'whom': 3973, 'scares': 3974, 'tension': 3975, 'medical': 3976, 'terminology': 3977, 'iffy': 3978, 'insulin': 3979, 'dependant': 3980, 'diabetic': 3981, 'nobody': 3982, 'aired': 3983, 'dribble': 3984, 'putting': 3985, 'added': 3986, 'bonuses': 3987, 'dressed': 3988, 'rudely': 3989, 'goes.The': 3990, 'practically': 3991, 'sea': 3992, 'me.The': 3993, 'commercials': 3994, 'misleading': 3995, 'killer': 3996, 'Stopped': 3997, 'Madison': 3998, 'Ironman': 3999, 'posted': 4000, 'detailed': 4001, 'comments': 4002, 'grey': 4003, 'Red': 4004, 'REALLY': 4005, 'UGLY': 4006, 'depicts': 4007, 'vessel': 4008, 'taken': 4009, 'mighty': 4010, 'frost': 4011, 'WORTHWHILE': 4012, 'painfully': 4013, 'dreary': 4014, 'time-waster': 4015, 'venturing': 4016, 'pork': 4017, 'Than': 4018, 'contacting': 4019, 'dollar': 4020, 'learned': 4021, 'lesson': 4022, 'online': 4023, 'anyway': 4024, 'Used': 4025, 'afraid': 4026, 'subtitles': 4027, '........': 4028, 'aversion': 4029, 'therapy': 4030, '10/10': 4031, 'cheerless': 4032, 'heist': 4033, 'characterisation': 4034, 'underbite': 4035, 'stoic': 4036, 'emoting': 4037, 'Chow': 4038, 'Yun': 4039, 'Fat': 4040, 'Tomorrow': 4041, 'cheesy': 4042, 'abandoned': 4043, 'factory': 4044, 'executed': 4045, 'flying': 4046, 'judo': 4047, 'la': 4048, 'Woo': 4049, 'Worse': 4050, 'humiliated': 4051, 'worker': 4052, 'Bunch': 4053, 'name': 4054, 'callings': 4055, 'Groove': 4056, 'antithesis': 4057, 'Human': 4058, 'Traffic': 4059, 'Lemon': 4060, 'raspberry': 4061, 'cocktail': 4062, 'Lucy': 4063, 'Bell': 4064, 'higher': 4065, 'sink': 4066, 'depressing': 4067, 'dealing': 4068, 'worst/annoying': 4069, 'drunk': 4070, 'Funny': 4071, 'Pray': 4072, 'Hype': 4073, 'apologize': 4074, 'Sooooo': 4075, 'Honeslty': 4076, 'THAT': 4077, 'Purchase': 4078, 'jawbone': 4079, 'AGGRAVATING': 4080, 'Arrived': 4081, 'sold': 4082, 'secondary': 4083, 'incomprehensible': 4084, 'relation': 4085, 'primary': 4086, 'mystifying': 4087, 'basically': 4088, 'threw': 4089, 'window': 4090, 'amazon': 4091, 'poured': 4092, 'wound': 4093, 'drawing': 4094, 'simplifying': 4095, 'brevity': 4096, 'core': 4097, 'fulfilling': 4098, 'Excelent': 4099, 'hi': 4100, 'Anthony': 4101, 'Crazy': 4102, 'Horse': 4103, 'With': 4104, 'Call': 4105, 'nut': 4106, 'Telly': 4107, 'Savalas': 4108, 'Boyle': 4109, '54': 4110, 'sheer': 4111, 'tedium': 4112, 'melodrama': 4113, 'sinking': 4114, 'GOOD': 4115, 'LORD': 4116, 'WHAT': 4117, 'WERE': 4118, 'THEY': 4119, 'THINKING': 4120, 'decisions': 4121, 'atrocious': 4122, 'abysmal': 4123, 'Trouble': 4124, 'impossible': 4125, 'establish': 4126, 'theme': 4127, 'sub-plot': 4128, 'follows': 4129, 'band': 4130, 'latter-day': 4131, 'Mansonites': 4132, 'reporter': 4133, 'anniversary': 4134, 'killings': 4135, 'spoil': 4136, 'indication': 4137, 'meld': 4138, 'volatile': 4139, 'temperaments': 4140, 'seamless': 4141, 'union': 4142, 'creativity': 4143, 'powerhouse': 4144, 'timely': 4145, 'culture': 4146, 'disturbing': 4147, 'fascination': 4148, 'celebrity': 4149, 'distorted': 4150, 'interpretations': 4151, 'fame': 4152, 'forgotten': 4153, 'Kevin': 4154, 'Spacey': 4155, 'verbal': 4156, 'tsunami': 4157, 'Buddy': 4158, 'Ackerman': 4159, 'scripting': 4160, 'unmatched': 4161, 'ages': 4162, 'younger': 4163, 'galley': 4164, 'pm': 4165, '8pm': 4166, '8.15pm': 4167, 'forwarded': 4168, 'remaining': 4169, 'Either': 4170, 'horrendously': 4171, 'build-up': 4172, 'Captain': 4173, 'Howdy': 4174, 'hell': 4175, 'semi': 4176, 'truck': 4177, 'Linda': 4178, 'Cardellini': 4179, 'poised': 4180, 'Dee': 4181, 'Snider': 4182, 'act': 4183, 'scary': 4184, 'villains': 4185, 'sleep': 4186, 'FX': 4187, 'sophisticated': 4188, 'thriller/horror': 4189, 'miserably': 4190, 'unoriginal': 4191, 'cinematic': 4192, 'captured': 4193, 'celluloid': 4194, 'Fulci': 4195, 'giallo': 4196, 'supernatural': 4197, 'zombie': 4198, 'Season': 4199, 'consistent': 4200, 'thread': 4201, 'Leni': 4202, 'Parker': 4203, 'Anita': 4204, 'LaSelva': 4205, 'Taelons': 4206, 'idealogical': 4207, 'dislike': 4208, 'Horror': 4209, 'mainly': 4210, 'centers': 4211, 'puppets': 4212, 'Puppet': 4213, 'Master': 4214, 'flicks': 4215, 'NEVER': 4216, 'explains': 4217, 'sinister': 4218, 'origins': 4219, 'f/x': 4220, 'insomniacs': 4221, 'heartwarming': 4222, 'chasing': 4223, 'dreams': 4224, 'Nurse': 4225, 'Betty': 4226, 'unpredictability': 4227, 'Friend': 4228, 'touched': 4229, 'faceplates': 4230, 'Hunan': 4231, 'Tungsten': 4232, 'E2': 4233, 'popular': 4234, 'reactions': 4235, 'laughs': 4236, 'well-done': 4237, 'realized': 4238, 'closed': 4239, 'brilliance': 4240, 'vanilla': 4241, 'cream': 4242, 'smooth': 4243, 'profiterole': 4244, 'choux': 4245, 'pastry': 4246, 'brand': 4247, 'phones/mp3': 4248, 'players': 4249, 'pan': 4250, 'cakes': 4251, 'raving': 4252, 'tailored': 4253, 'palate': 4254, 'relate': 4255, 'bruschetta': 4256, 'devine': 4257, 'thrillers': 4258, 'early': 4259, '70': 4260, 'controls': 4261, 'accessable': 4262, 'Match': 4263, 'Picture': 4264, 'spoilers': 4265, 'routine': 4266, 'fact-based': 4267, 'boost': 4268, 'Rita': 4269, 'Hayworth': 4270, 'pedestal': 4271, 'mind-bendingly': 4272, 'Lousy': 4273, 'poetry': 4274, 'politics': 4275, 'Japanese': 4276, 'wake': 4277, 'hopeless': 4278, 'overacting': 4279, 'duo': 4280, 'violinists': 4281, 'requested': 4282, 'casted': 4283, 'seperated': 4284, 'mere': 4285, '5+': 4286, 'ft': 4287, 'notice': 4288, 'excessive': 4289, 'garbled': 4290, 'cuts': 4291, 'beep': 4292, 'sole': 4293, 'bright': 4294, 'unrecognizable': 4295, 'fans': 4296, 'Superbad': 4297, 'weight': 4298, 'interim': 4299, 'shattered': 4300, \"'film\": 4301, 'recover': 4302, 'humor': 4303, 'dose': 4304, 'bear': 4305, 'involves': 4306, 'Vulcan': 4307, 'stealing': 4308, 'Enterprise': 4309, 'Uhura': 4310, 'dance': 4311, 'distract': 4312, 'male': 4313, 'guards': 4314, 'rib': 4315, 'section': 4316, 'BlueAnt': 4317, 'Supertooth': 4318, 'hands-free': 4319, 'speaker': 4320, 'AWESOME': 4321, 'fair': 4322, 'plantains': 4323, 'flowed': 4324, 'male-bonding': 4325, 'hoot': 4326, 'chosen': 4327, 'tortured': 4328, 'blatant': 4329, 'propaganda': 4330, 'tying': 4331, 'loose': 4332, 'ball': 4333, 'Mandalay': 4334, 'receives': 4335, 'APPETIZERS': 4336, 'bartender': 4337, 'roam': 4338, 'reception/sound': 4339, 'videos': 4340, 'sony': 4341, 'ericson': 4342, 'z500a': 4343, 'Appears': 4344, 'outperform': 4345, 'China': 4346, 'V325i': 4347, 'Finally': 4348, 'four': 4349, 'latch': 4350, 'visor': 4351, 'Went': 4352, 'wines': 4353, 'tracking': 4354, 'realised': 4355, 'Nargile': 4356, '375': 4357, 'apparently': 4358, 'deaf': 4359, 'non-customer': 4360, 'elegantly': 4361, 'decorated': 4362, 'bottowm': 4363, 'gimmick': 4364, 'Noca': 4365, 'Based': 4366, 'gratitude': 4367, 'causing': 4368, 'discomfort': 4369, 'television': 4370, 'fliptop': 4371, 'wobbly': 4372, 'eventually': 4373, 'transmission': 4374, '1-10': 4375, 'answer': 4376, 'Ericsson': 4377, 'W810i': 4378, 'thats': 4379, 'figured': 4380, 'publicly': 4381, 'loudly': 4382, 'known': 4383, 'hang': 4384, 'PS': 4385, 'blown': 4386, 'extensive': 4387, 'provides': 4388, 'Muddy': 4389, 'casing': 4390, 'insert': 4391, 'glued': 4392, 'slid': 4393, 'sturdiness': 4394, 'Car': 4395, 'AC': 4396, 'juice.Highy': 4397, 'Counterfeit': 4398, 'jokes': 4399, 'offend': 4400, 'specially': 4401, 'diverse': 4402, 'current': 4403, 'cellphones': 4404, 'planning': 4405, 'iced': 4406, 'tea': 4407, 'veteran': 4408, 'nostalgia': 4409, 'tater': 4410, 'tots': 4411, 'southwest': 4412, 'relaxing': 4413, 'viewing': 4414, '4s': 4415, 'connecting': 4416, 'sources': 4417, 'iMac': 4418, 'external': 4419, 'outlet': 4420, 'timers': 4421, 'Unless': 4422, 'visually': 4423, 'collect': 4424, 'extant': 4425, 'Austen': 4426, 'Garbo': 4427, 'bat': 4428, 'talents': 4429, 'Netflix': 4430, 'stocking': 4431, 'rests': 4432, 'against': 4433, 'chains': 4434, 'Poorly': 4435, 'contstruct': 4436, 'hinge': 4437, 'Jennifer': 4438, 'Rubin': 4439, 'Harris': 4440, 'changes': 4441, 'nervous': 4442, 'starlet': 4443, 'events': 4444, 'Took': 4445, 'Luke': 4446, 'sever': 4447, 'war': 4448, 'screamy': 4449, 'masculine': 4450, 'Hands': 4451, 'Damn': 4452, 'bipolarity': 4453, 'ruthless': 4454, 'thug': 4455, 'Luv': 4456, 'diaper': 4457, 'commercial': 4458, 'unconvincing': 4459, 'Exactly': 4460, 'oh-so-mature': 4461, 'neighbour-girl': 4462, 'misplace': 4463, 'Kind': 4464, 'flops': 4465, 'refuse': 4466, '2MP': 4467, 'pics': 4468, 'downright': 4469, 'grandmother': 4470, 'roasted': 4471, 'blew': 4472, 'Okay': 4473, 'critic': 4474, 'creature': 4475, 'aspects': 4476, 'gore': 4477, 'THE': 4478, 'OWNERS': 4479, 'soooooo': 4480, 'freaking': 4481, 'papers': 4482, 'Elias': 4483, 'Koteas': 4484, 'Jack': 4485, 'Palance': 4486, 'Angelina': 4487, 'naked.Billy': 4488, 'Drago': 4489, '+': 4490, 'cameo': 4491, 'Sven': 4492, 'ole': 4493, 'Thorsen': 4494, 'Those': 4495, 'bite': 4496, 'hooked': 4497, 'Who': 4498, 'Thanks': 4499, 'dripping': 4500, 'sudden': 4501, 'Other': 4502, 'leather': 4503, 'soft': 4504, 'tight': 4505, 'shape': 4506, 'weekly': 4507, 'haunt': 4508, 'Buttons': 4509, '6': 4510, 'pillow': 4511, 'girlfriend/boyfriend': 4512, 'Cumbersome': 4513, 'pancakes': 4514, 'eggs': 4515, 'unbelievably': 4516, 'buzzing': 4517, 'override': 4518, 'conversations': 4519, 'accomodate': 4520, 'vegan/veggie': 4521, 'contract': 4522, 'scripts': 4523, 'Fox': 4524, 'Movie': 4525, 'Channel': 4526, 'Rock': 4527, 'Casino': 4528, 'WILL': 4529, 'STEP': 4530, 'FORWARD': 4531, 'IN': 4532, 'AGAIN': 4533, 'Ample': 4534, 'stereo': 4535, 'gyro': 4536, 'lettuce': 4537, 'Con': 4538, 'spotty': 4539, 'DELICIOUS': 4540, 'Final': 4541, 'Word': 4542, 'S710a': 4543, 'highlights': 4544, 'fundamental': 4545, 'legal': 4546, 'guilt': 4547, 'innocence': 4548, 'Pocket': 4549, '/': 4550, 'Trumbull': 4551, 'LUCY': 4552, 'Iam': 4553, 'calendar': 4554, 'sync': 4555, 'handsfree': 4556, 'gadgets': 4557, 'fiancé': 4558, 'middle': 4559, 'patient': 4560, 'trimmed': 4561, 'sincere': 4562, 'unacceptable.Unless': 4563, 'satisfied': 4564, 'Price': 4565, 'restart': 4566, 'serve': 4567, 'vinaigrette': 4568, 'sweet': 4569, 'sublime': 4570, 'tickets': 4571, 'five': 4572, 'dollars': 4573, 'mad': 4574, '7.50': 4575, 'leaves': 4576, 'desired': 4577, 'trunk': 4578, 'carried': 4579, 'conversation': 4580, 'hitch': 4581, 'packaged': 4582, 'pleasure': 4583, 'good.4': 4584, 'pissd': 4585, 'Lately': 4586, 'smallest': 4587, 'stays': 4588, 'law': 4589, 'mall': 4590, 'remotely': 4591, 'text': 4592, 'messaging': 4593, 'tricky': 4594, 'swung': 4595, 'deeply': 4596, 'strings': 4597, 'bottom': 4598, 'Meredith': 4599, 'must-stop': 4600, 'unpleasant': 4601, 'jerky': 4602, 'movements': 4603, 'inexperience': 4604, 'meant': 4605, 'US': 4606, 'converter': 4607, 'derivative': 4608, 'caring': 4609, 'teamwork': 4610, 'degree': 4611, 'Cell': 4612, 'riot': 4613, 'Hugo': 4614, 'Weaving': 4615, 'sex-obsessed': 4616, 'gay': 4617, 'estate': 4618, 'salesman': 4619, 'uses': 4620, 'clients': 4621, 'houses': 4622, 'trysts': 4623, 'flaming': 4624, 'Darren': 4625, 'Hollander': 4626, 'Sorry': 4627, 'JUNK': 4628, 'BROKE': 4629, 'AFTER': 4630, 'BEING': 4631, 'ON': 4632, 'MY': 4633, 'FOR': 4634, 'DAYS': 4635, 'AMAZON': 4636, 'summarize': 4637, 'nay': 4638, 'transcendant': 4639, 'pneumatic': 4640, 'condiment': 4641, 'dispenser': 4642, 'Wasted': 4643, 'Owner': 4644, 'defeats': 4645, 'purpose': 4646, 'shell': 4647, 'Victor': 4648, 'McLaglen': 4649, 'Brian': 4650, 'DonLevy': 4651, 'Maine': 4652, 'Roll': 4653, 'transmit': 4654, 'tired': 4655, 'Being': 4656, 'proudly': 4657, 'classical': 4658, 'WB': 4659, 'cartoons': 4660, 'comprehensible': 4661, 'strangers': 4662, 'dit': 4663, '5320': 4664, 'originality': 4665, 'freshness': 4666, 'remake': 4667, 'offer': 4668, 'Despite': 4669, 'pans': 4670, 'reviewers': 4671, 'sorry': 4672, 'Four': 4673, 'shirt': 4674, 'Favorite': 4675, 'shawarrrrrrma': 4676, 'Scream': 4677, 'Keep': 4678, 'wanting': 4679, 'DELETE': 4680, 'Mediocre': 4681, 'Soyo': 4682, 'technology': 4683, 'Burrittos': 4684, 'Blah': 4685, 'FLY': 4686, 'apple': 4687, 'juice': 4688, 'SWEETEST': 4689, 'curry': 4690, 'bamboo': 4691, 'shoots': 4692, 'instruction': 4693, 'manual': 4694, 'zillion': 4695, 'reality': 4696, 'BACK': 4697, 'HAVE': 4698, 'TOLD': 4699, 'MANY': 4700, 'PEOPLE': 4701, 'HAD': 4702, 'HAPPENED': 4703, 'hole': 4704, 'street': 4705, 'witnessed': 4706, 'Low': 4707, 'reviewer': 4708, 'steakhouse': 4709, 'fulfills': 4710, 'requirements': 4711, 'majority': 4712, 'Disappointing': 4713, 'trust': 4714, 'sloppy': 4715, 'potatoes': 4716, 'biscuit': 4717, 'letdown': 4718, 'Camelback': 4719, 'Flower': 4720, 'Shop': 4721, 'Cartel': 4722, 'Coffee': 4723, 'Returned': 4724, 'S11': 4725, 'RI': 4726, 'calamari': 4727, 'heroes': 4728, 'Though': 4729, 'Sean': 4730, 'noble': 4731, 'brigand': 4732, 'Candace': 4733, 'Bergen': 4734, 'feisty': 4735, 'heroine': 4736, 'wily': 4737, 'Hay': 4738, 'Steve': 4739, 'Kanaly': 4740, 'spiffy': 4741, 'radiant': 4742, 'can-do': 4743, 'lieutenant': 4744, 'Roosevelt': 4745, 'Stick': 4746, 'nonetheless': 4747, 'units': 4748, 'creative': 4749, 'Actors': 4750, 'bluetooths': 4751, 'listener': 4752, 'ease': 4753, 'caused': 4754, 'lose': 4755, 'hardly': 4756, 'Krussel': 4757, 'vinegrette': 4758, 'greens': 4759, 'creates': 4760, 'universe': 4761, 'Kathy': 4762, 'Bates': 4763, 'desperation': 4764, 'escapism': 4765, 'variation': 4766, 'Play': 4767, 'Fields': 4768, 'Lord': 4769, 'voyage': 4770, 'self-discovery': 4771, 'touching': 4772, 'evaluate': 4773, 'ride': 4774, 'smoother': 4775, 'greater': 4776, 'food/service': 4777, 'Far': 4778, 'Warning': 4779, 'definitly': 4780, 'talking': 4781, 'shouting': 4782, 'telephone': 4783, 'unexperienced': 4784, 'employees': 4785, 'chickens': 4786, 'Basically': 4787, 'tragedy': 4788, 'struck': 4789, 'devices': 4790, 'Adapter': 4791, 'provide': 4792, 'Sending': 4793, 'faultless': 4794, 'photography': 4795, 'underappreciated': 4796, 'Keith': 4797, 'bully': 4798, 'Teddy': 4799, 'vivid': 4800, 'Delicious': 4801, 'web': 4802, 'browsing': 4803, 'significantly': 4804, 'inches': 4805, 'counter': 4806, 'cracked.I': 4807, 'laughing': 4808, 'undercooked': 4809, 'Level': 4810, 'spice': 4811, 'over-whelm': 4812, '13': 4813, 'Conclusion': 4814, 'Julian': 4815, 'Fellowes': 4816, 'triumphed': 4817, 'PERFECT': 4818, 'sit-down': 4819, 'ventilation': 4820, 'upgrading': 4821, 'sals': 4822, 'shocked': 4823, 'indicate': 4824, 'cash': 4825, 'Mom': 4826, 'multi-grain': 4827, 'pumpkin': 4828, 'pecan': 4829, 'fluffy': 4830, 'evidently': 4831, 'construction': 4832, 'unfolds': 4833, '18th': 4834, 'century': 4835, 'Jutland': 4836, 'instruments': 4837, 'Special': 4838, 'integral': 4839, 'helping': 4840, 'Leopard': 4841, 'Print': 4842, 'wild': 4843, 'Heart': 4844, 'Attack': 4845, 'Grill': 4846, 'flat-lined': 4847, 'connected': 4848, 'HS850': 4849, 'Cute': 4850, 'quaint': 4851, 'Comes': 4852, 'SOS': 4853, 'signals': 4854, 'prompt': 4855, 'auto': 4856, 'reverse': 4857, 'tape': 4858, 'Value': 4859, 'brisket': 4860, 'pulled': 4861, 'drinks': 4862, 'WEAK': 4863, 'tick': 4864, 'Lastly': 4865, 'mozzarella': 4866, 'sticks': 4867, 'Happy': 4868, 'mac': 4869, 'veal': 4870, 'Duris': 4871, 'Joey': 4872, 'voted': 4873, 'dog': 4874, 'readers': 4875, 'Magazine': 4876, 'WARNING': 4877, 'Lordy': 4878, 'Khao': 4879, 'Soi': 4880, 'virtue': 4881, 'regrettable': 4882, 'Coming': 4883, 'experiencing': 4884, 'parties': 4885, '350': 4886, 'Jabra350': 4887, 'fav': 4888, 'spinach': 4889, 'avocado': 4890, 'ingredients': 4891, 'inflate': 4892, 'smaller': 4893, 'grow': 4894, 'rapidly': 4895, 'looses': 4896, 'beats': 4897, 'fingers': 4898, 'monster': 4899, 'Soggy': 4900, 'Initially': 4901, 'local': 4902, 'sites': 4903, 'Buffalo': 4904, 'intrigued': 4905, 'upload': 4906, 'sounds': 4907, 'sketchy': 4908, 'well.Well': 4909, 'ass': 4910, 'ed': 4911, 'uncalled': 4912, 'Dwight': 4913, 'Schultz': 4914, 'Seriously': 4915, 'Superb': 4916, 'Network': 4917, 'geeky': 4918, 'sex': 4919, 'toast': 4920, 'oozes': 4921, 'embedded': 4922, 'stylish': 4923, 'serving': 4924, 'owner/chef': 4925, 'dude': 4926, 'meet': 4927, 'Penne': 4928, 'vodka': 4929, 'thanks': 4930, 'Dylan': 4931, 'T.': 4932, 'tummy': 4933, 'Aailiyah': 4934, 'Akasha': 4935, 'entrance': 4936, 'mini': 4937, 'according': 4938, 'applifies': 4939, 'attention': 4940, 'ignore': 4941, 'neighborhood': 4942, 'travled': 4943, 'swivel': 4944, 'spicier': 4945, 'prefer': 4946, 'banana': 4947, 'petrified': 4948, 'fabulous': 4949, 'Main': 4950, '30s': 4951, 'dinners': 4952, 'Shot': 4953, 'Southern': 4954, 'California': 4955, 'desert': 4956, 'patent': 4957, 'Restored': 4958, 'unprofessional': 4959, 'loyal': 4960, 'patron': 4961, '3o': 4962, 'phone.My': 4963, 'fishnet': 4964, 'stockings': 4965, 'astonishingly': 4966, 'ham': 4967, 'fisted': 4968, 'national': 4969, 'treasure': 4970, 'Lasted': 4971, 'fireball': 4972, 'behind': 4973, 'Absolutely': 4974, 'flipphones': 4975, 'bites': 4976, 'anymore': 4977, 'shelves': 4978, 'pushed': 4979, 'function': 4980, \"'S\": 4981, 'EASY': 4982, 'accompanied': 4983, 'rave': 4984, 'Update': 4985, 'Improper': 4986, 'Jim': 4987, \"O'Connor\": 4988, 'energetic': 4989, 'George': 4990, 'ground': 4991, 'smeared': 4992, 'been-stepped-in-and-tracked-everywhere': 4993, 'bird': 4994, 'poop': 4995, 'adapters': 4996, 'buffets': 4997, 'walk': 4998, 'theatre': 4999, 'relief': 5000, 'amusing': 5001, 'sound-wise': 5002, 'Raw': 5003, 'sublimely': 5004, 'promise': 5005, 'Back': 5006, 'BBQ': 5007, 'lighter': 5008, 'pricing': 5009, 'acted': 5010, 'himself': 5011, 'legendary': 5012, 'biographical': 5013, 'musician': 5014, 'Ironically': 5015, 'Secondly': 5016, 'perfected': 5017, 'chase': 5018, 'pandering': 5019, 'sabotages': 5020, 'Hence': 5021, 'certain': 5022, 'rumbles': 5023, 'desperately': 5024, 'depending': 5025, 'logic': 5026, 'Mishima': 5027, 'chilly': 5028, 'unremarkable': 5029, 'author': 5030, 'living/working': 5031, 'abstruse': 5032, 'reenactments': 5033, 'emotionally': 5034, 'adrift': 5035, 'stagy': 5036, 'sits': 5037, 'soldiers': 5038, 'masculinity': 5039, 'pledge': 5040, 'hairsplitting': 5041, 'purity': 5042, 'admiration': 5043, 'swords': 5044, 'kill': 5045, 'momentum': 5046, 'quicker': 5047, 'Schrader': 5048, 'resume': 5049, 'amateurish': 5050, '80s': 5051, 'fascinated': 5052, 'inconsistencies': 5053, 'frankly': 5054, 'horrid': 5055, 'ballet': 5056, 'repertory': 5057, 'developments': 5058, 'Woa': 5059, 'sappiest': 5060, 'unwatchable': 5061, 'filmography': 5062, 'site': 5063, 'chance': 5064, 'intentions': 5065, 'would-be': 5066, 'undertone': 5067, 'fifties': 5068, 'existential': 5069, 'world-weariness': 5070, 'ought': 5071, 'Regrettably': 5072, 'expression': 5073, 'celebration': 5074, 'patriotism': 5075, 'underlines': 5076, 'Allison': 5077, 'cinematography-if': 5078, 'that-sucked': 5079, 'concert': 5080, 'sequences': 5081, 'ridiculousness': 5082, 'SPOILERS': 5083, 'Whatever': 5084, 'SURFACE': 5085, 'superbly': 5086, 'fx': 5087, 'state-of-the-art': 5088, 'Conceptually': 5089, 'everything-': 5090, 'everybody': 5091, 'fantasy': 5092, 'and/or': 5093, 'sour': 5094, 'acting-wise': 5095, 'considered': 5096, 'released': 5097, 'mexican': 5098, 'understood': 5099, 'identified': 5100, 'noir-crime-drama': 5101, 'Belmondo': 5102, 'Lino': 5103, 'Ventura': 5104, 'complex': 5105, 'portrayals': 5106, 'detailing': 5107, 'loyalty': 5108, 'treachery': 5109, 'Up': 5110, 'Melville': 5111, 'soul': 5112, 'BLACK': 5113, 'WATER': 5114, 'manages': 5115, 'transcend': 5116, 'limitations': 5117, 'indie': 5118, 'continually': 5119, 'subverting': 5120, 'emerge': 5121, 'intense': 5122, 'gripping': 5123, 'crocdodile': 5124, 'indeed': 5125, 'Water': 5126, 'believed': 5127, 'crocs': 5128, 'swamp': 5129, 'Christopher': 5130, 'Eccleston': 5131, 'TARDIS': 5132, 'continuation': 5133, 'memories': 5134, 'succeeded': 5135, 'pi': 5136, 'camerawork': 5137, 'Summary': 5138, 'witticisms': 5139, 'Billy': 5140, 'Bob': 5141, 'rise': 5142, 'Camerawork': 5143, 'AMAZING': 5144, 'finale': 5145, 'trilogy': 5146, 'Kieslowski': 5147, 'ceases': 5148, 'amaze': 5149, 'favourite': 5150, 'directors': 5151, 'colours': 5152, 'flag': 5153, 'Three': 5154, 'appealing': 5155, 'connections': 5156, 'SPOILER': 5157, 'survivors': 5158, 'ferry': 5159, 'Valentine': 5160, 'solidifying': 5161, 'happiness': 5162, 'dealt': 5163, 'Art': 5164, 'roth': 5165, 'pearls': 5166, 'awarded': 5167, 'eloquently': 5168, 'Francis': 5169, 'ford': 5170, '25': 5171, 'gradually': 5172, 'develop': 5173, 'lies': 5174, 'directed': 5175, 'Nicola': 5176, 'roeg': 5177, 'wih': 5178, 'translating': 5179, 'strives': 5180, 'greatness': 5181, 'muddled': 5182, 'disparate': 5183, 'accurately': 5184, 'defined': 5185, 'greedy': 5186, 'corporation': 5187, 'dime': 5188, 'Anyways': 5189, 'filling': 5190, 'worthwhile': 5191, 'businesses': 5192, 'appetizer': 5193, 'sporting': 5194, 'walls': 5195, 'squibs': 5196, 'Dessert': 5197, 'Panna': 5198, 'Cotta': 5199, 'Wo': 5200, 'However-the': 5201, 'riingtones': 5202, 'contains': 5203, 'cheesiness': 5204, 'unethical': 5205, 'normally': 5206, 'NC-17': 5207, 'colleague': 5208, 'reception.A': 5209, 'allot': 5210, 'clearer': 5211, 'Were': 5212, 'JERKS': 5213, 'sent': 5214, 'personable': 5215, 'antena': 5216, 'EXTREMELY': 5217, 'HOT': 5218, 'Overpriced': 5219, 'Full': 5220, 'blandly': 5221, 'Edward': 5222, 'Chodorov': 5223, 'Jean': 5224, 'Negulesco': 5225, 'Bouchon': 5226, 'Frozen': 5227, 'pucks': 5228, 'disgust': 5229, 'register': 5230, 'Cheap': 5231, 'hey': 5232, 'pleasantly': 5233, 'suprised': 5234, 'PS3': 5235, 'louder': 5236, '[': 5237, ']': 5238, 'snap': 5239, 'WAAAAAAyyyyyyyyyy': 5240, 'Appetite': 5241, 'instantly': 5242, 'Technically': 5243, 'Riz': 5244, 'Ortolani': 5245, 'recurring': 5246, 'unaccompanied': 5247, 'vocal': 5248, 'distant': 5249, 'hill': 5250, 'ensued': 5251, 'High': 5252, 'open': 5253, 'postinos': 5254, 'Displeased': 5255, 'Trying': 5256, 'exercise': 5257, 'excrutiatingly': 5258, 'Lassie': 5259, 'Martin': 5260, 'Wall': 5261, 'Street': 5262, 'Charlie': 5263, 'cashew': 5264, 'flavourful': 5265, 'yellowtail': 5266, 'carpaccio': 5267, 'crayon/pencil': 5268, 'drawings': 5269, 'colorful': 5270, 'fanciful': 5271, 'gratuity': 5272, 'larger': 5273, 'tip': 5274, 'Reaching': 5275, 'keys': 5276, 'be.3': 5277, 'opens': 5278, 'Ryans': 5279, 'portrayed': 5280, 'schizophrenic': 5281, 'affected': 5282, 'earth': 5283, 'Irons': 5284, 'returned': 5285, 'terms': 5286, 'screenplay': 5287, 'post-production': 5288, 'meh': 5289, 'Cool': 5290, 'n': 5291, 'mouse': 5292, 'delight': 5293, 'consolations': 5294, 'sisters': 5295, 'crêpe': 5296, 'delicate': 5297, 'unrecommended': 5298, 'disliked': 5299, 'USB': 5300, 'trips': 5301, 'Well': 5302, 'intended': 5303, 'Having': 5304, 'humour': 5305, 'apt': 5306, 'professionals': 5307, 'Debbie': 5308, 'Rochon': 5309, 'contributory': 5310, 'former': 5311, 'chimp-like': 5312, 'tolerable': 5313, 'Time': 5314, 'rge': 5315, 'fillet': 5316, 'relleno': 5317, 'plate': 5318, 'Thumbs': 5319, 'Bloody': 5320, 'Mary': 5321, 'Lame': 5322, 'barking': 5323, 'Sat': 5324, 'Sun': 5325, 'THey': 5326, 'Steiners': 5327, 'sensitivities': 5328, 'treatments': 5329, 'balanced': 5330, 'underacting': 5331, 'essentially': 5332, 'communications': 5333, 'communicate': 5334, 'usefulness': 5335, 'Philadelphia': 5336, 'familiar': 5337, 'horrified': 5338, 'sympathetic': 5339, 'thirty': 5340, 'vacant': 5341, '1.2': 5342, 'mega': 5343, 'pixel': 5344, 'good7': 5345, 'flavors': 5346, 'slaw': 5347, 'drenched': 5348, 'mayo': 5349, 'concept': 5350, 'Linksys': 5351, 'refurb': 5352, 'northern': 5353, 'community': 5354, 'represents': 5355, 'standout': 5356, 'Fans': 5357, 'genre': 5358, 'heaven': 5359, 'fella': 5360, 'huevos': 5361, 'rancheros': 5362, 'blanket': 5363, 'moz': 5364, 'subpar': 5365, 'ideal': 5366, 'whose': 5367, 'sensitive': 5368, 'garlic': 5369, 'bone': 5370, 'marrow': 5371, 'prompted': 5372, 'goat': 5373, 'taco': 5374, 'skimp': 5375, 'wow': 5376, 'FLAVOR': 5377, 'officially': 5378, 'Earbud': 5379, 'products': 5380, 'sensor': 5381, 'exemplars': 5382, 'designer': 5383, 'Authentic': 5384, 'shine': 5385, '.I': 5386, 'Hayao': 5387, 'eighth': 5388, 'Studio': 5389, 'Ghibili': 5390, 'Gake': 5391, 'Ue': 5392, 'Ponyo': 5393, 'Cliff': 5394, 'Sea': 5395, 'compliments': 5396, 'understatement': 5397, 'drained': 5398, 'sequel': 5399, 'Earpiece': 5400, 'Emily': 5401, 'Watson': 5402, 'Forgeries': 5403, 'Abound': 5404, 'mains': 5405, 'uninspired': 5406, 'Turkey': 5407, 'Straw': 5408, 'cruel': 5409, 'CONCLUSION': 5410, 'rich': 5411, 'accordingly': 5412, 'murky': 5413, 'related': 5414, 'saving': 5415, 'Sour': 5416, 'Egg': 5417, 'Soups': 5418, 'Stars': 5419, 'peculiarity': 5420, 'charisma-free': 5421, '<unk>': 5422, '<pad>': 5423}\n",
      "Vocabulary size: 5424\n",
      "2198\n",
      "[0, 1, 2, 3, 4, 5, 6, 7, 8, 9, 10, 11, 12, 13, 2, 14, 15]\n"
     ]
    }
   ],
   "source": [
    "from nltk import word_tokenize\n",
    "from collections import Counter\n",
    "\n",
    "# Tokenize and build vocabulary\n",
    "train_tokens = [word_tokenize(sentence) for sentence in sentences_train]\n",
    "flattened_tokens = [token for sentence in train_tokens for token in sentence]\n",
    "token_counts = Counter(flattened_tokens)\n",
    "\n",
    "special_tokens = [\"<unk>\", \"<pad>\"]\n",
    "vocab = {token: i for i, token in enumerate(list(token_counts.keys()) + special_tokens)}\n",
    "vocab_size = len(vocab)\n",
    "print (vocab)\n",
    "print (\"Vocabulary size:\", vocab_size)\n",
    "\n",
    "# Set a default index for unknown tokens\n",
    "unk_index = vocab[\"<unk>\"]\n",
    "\n",
    "# Numericalize sentences\n",
    "def numericalize_sentence(sentence):\n",
    "    return [vocab[token] if token in vocab else unk_index for token in word_tokenize(sentence)]\n",
    "\n",
    "X_train = [numericalize_sentence(sentence) for sentence in sentences_train]\n",
    "X_val = [numericalize_sentence(sentence) for sentence in sentences_val]\n",
    "X_test = [numericalize_sentence(sentence) for sentence in sentences_test]\n",
    "\n",
    "print (len(X_train))\n",
    "print (X_train[0])"
   ]
  },
  {
   "cell_type": "code",
   "execution_count": 13,
   "metadata": {
    "id": "XeFo_P5G4-OM"
   },
   "outputs": [
    {
     "name": "stdout",
     "output_type": "stream",
     "text": [
      "One of the most boring,pointless movies I have ever seen.  \n",
      "[80, 13, 11, 81, 82, 4, 83, 84, 5, 36, 85, 86, 15]\n",
      "I went on Motorola's website and followed all directions, but could not get it to pair again.\n",
      "[5, 54, 42, 55, 19, 56, 35, 57, 58, 59, 4, 26, 60, 61, 62, 18, 7, 63, 64, 15]\n"
     ]
    }
   ],
   "source": [
    "print(sentences_train[6])\n",
    "print(X_train[6])\n",
    "print(sentences_train[3])\n",
    "print(X_train[3])"
   ]
  },
  {
   "cell_type": "code",
   "execution_count": 14,
   "metadata": {
    "id": "A2eDtj_d5Bl9"
   },
   "outputs": [
    {
     "name": "stdout",
     "output_type": "stream",
     "text": [
      "the: 11\n",
      "all: 58\n",
      "happy: 1371\n",
      "sad: 680\n"
     ]
    }
   ],
   "source": [
    "for word in ['the', 'all', 'happy', 'sad']:\n",
    "    print('{}: {}'.format(word, vocab[word]))"
   ]
  },
  {
   "cell_type": "code",
   "execution_count": 15,
   "metadata": {
    "id": "amzRSMSx5SZw"
   },
   "outputs": [
    {
     "name": "stdout",
     "output_type": "stream",
     "text": [
      "tensor([ 0.,  1.,  2.,  3.,  4.,  5.,  6.,  7.,  8.,  9., 10., 11., 12., 13.,\n",
      "         2., 14., 15.,  0.,  0.,  0.,  0.,  0.,  0.,  0.,  0.,  0.,  0.,  0.,\n",
      "         0.,  0.,  0.,  0.,  0.,  0.,  0.,  0.,  0.,  0.,  0.,  0.,  0.,  0.,\n",
      "         0.,  0.,  0.,  0.,  0.,  0.,  0.,  0.,  0.,  0.,  0.,  0.,  0.,  0.,\n",
      "         0.,  0.,  0.,  0.,  0.,  0.,  0.,  0.,  0.,  0.,  0.,  0.,  0.,  0.,\n",
      "         0.,  0.,  0.,  0.,  0.,  0.,  0.,  0.,  0.,  0.,  0.,  0.,  0.,  0.,\n",
      "         0.,  0.,  0.,  0.,  0.,  0.,  0.,  0.,  0.,  0.,  0.,  0.,  0.,  0.,\n",
      "         0.,  0.])\n"
     ]
    },
    {
     "data": {
      "text/plain": [
       "torch.Size([2198, 100])"
      ]
     },
     "execution_count": 15,
     "metadata": {},
     "output_type": "execute_result"
    }
   ],
   "source": [
    "def pad_sequences(sequences, maxlen=None, dtype=torch.float32, padding_value=0):\n",
    "    # If maxlen is not provided, determine it dynamically from the longest sequence\n",
    "    if maxlen is None:\n",
    "        maxlen = max(len(seq) for seq in sequences)\n",
    "\n",
    "    # Create a tensor to store the padded sequences\n",
    "    padded_sequences = torch.full((len(sequences), maxlen), padding_value, dtype=dtype)\n",
    "\n",
    "    # Iterate over the sequences and pad them\n",
    "    for i, seq in enumerate(sequences):\n",
    "        end = min(len(seq), maxlen)\n",
    "        padded_sequences[i, :end] = torch.tensor(seq[:end], dtype=dtype)\n",
    "    \n",
    "    return padded_sequences\n",
    "\n",
    "# Pad sequences\n",
    "X_train_padded = pad_sequences(X_train, maxlen=100)\n",
    "X_val_padded = pad_sequences(X_val, maxlen=100)\n",
    "X_test_padded = pad_sequences(X_test, maxlen=100)\n",
    "\n",
    "print (X_train_padded[0])\n",
    "X_train_padded.shape"
   ]
  },
  {
   "cell_type": "markdown",
   "metadata": {
    "id": "PK57u5g46WQS"
   },
   "source": [
    "## Pytorch Embedding Layer"
   ]
  },
  {
   "cell_type": "code",
   "execution_count": 16,
   "metadata": {
    "id": "67oddu1q5Y55"
   },
   "outputs": [
    {
     "name": "stdout",
     "output_type": "stream",
     "text": [
      "feedforward_deep_average_network(\n",
      "  (embedding): Embedding(5424, 50)\n",
      "  (fc1): Linear(in_features=50, out_features=10, bias=True)\n",
      "  (fc2): Linear(in_features=10, out_features=1, bias=True)\n",
      "  (relu): ReLU()\n",
      "  (sigmoid): Sigmoid()\n",
      ")\n",
      "Layer: embedding.weight, Number of parameters: 271200\n",
      "Layer: fc1.weight, Number of parameters: 500\n",
      "Layer: fc1.bias, Number of parameters: 10\n",
      "Layer: fc2.weight, Number of parameters: 10\n",
      "Layer: fc2.bias, Number of parameters: 1\n"
     ]
    }
   ],
   "source": [
    "class feedforward_deep_average_network(nn.Module):\n",
    "    def __init__(self, word_embeddings: nn.Embedding, hidden_dim, output_dim):\n",
    "        super(feedforward_deep_average_network, self).__init__()\n",
    "        self.embedding = word_embeddings\n",
    "        self.embedding_dim = word_embeddings.embedding_dim\n",
    "        self.fc1 = nn.Linear(self.embedding_dim, hidden_dim)\n",
    "        self.fc2 = nn.Linear(hidden_dim, output_dim)\n",
    "        self.relu = nn.ReLU()\n",
    "        self.sigmoid = nn.Sigmoid()\n",
    "\n",
    "    def forward(self, x):\n",
    "        embedded = self.embedding(x)\n",
    "        pooled = torch.mean(embedded, dim=1)  # Take average over the vocab_size dimension\n",
    "        out = self.fc1(pooled)\n",
    "        out = self.relu(out)\n",
    "        out = self.fc2(out)\n",
    "        out = self.sigmoid(out)\n",
    "        return out\n",
    "\n",
    "embedding_dim = 50\n",
    "\n",
    "# Instantiate the model\n",
    "ffnn_dan_model = feedforward_deep_average_network(\n",
    "    word_embeddings = nn.Embedding(vocab_size, embedding_dim),\n",
    "    hidden_dim = 10, output_dim = 1)\n",
    "print(ffnn_dan_model)\n",
    "\n",
    "for name, param in ffnn_dan_model.named_parameters():\n",
    "    print(f\"Layer: {name}, Number of parameters: {param.numel()}\")"
   ]
  },
  {
   "cell_type": "code",
   "execution_count": 17,
   "metadata": {},
   "outputs": [],
   "source": [
    "def train_model(model, epochs, batch_size, train_input_tensor, train_labels_tensor, eval_input_tensor, eval_labels_tensor):\n",
    "\n",
    "    criterion = nn.BCELoss()\n",
    "    optimizer = optim.Adam(model.parameters(), lr=0.001)\n",
    "\n",
    "    train_dataset = TensorDataset(train_input_tensor, train_labels_tensor)\n",
    "    train_loader = DataLoader(train_dataset, batch_size=batch_size, shuffle=True)\n",
    "\n",
    "    # Training loop\n",
    "    for epoch in range(epochs):\n",
    "        model.train()\n",
    "        for inputs, labels in train_loader:\n",
    "            optimizer.zero_grad()\n",
    "            outputs = model(inputs)\n",
    "            outputs = torch.squeeze(outputs, dim=1) # Squeeze the output tensor to match the shape of labels\n",
    "            loss = criterion(outputs, labels)\n",
    "            loss.backward()\n",
    "            optimizer.step()\n",
    "\n",
    "        # Validation\n",
    "        val_loss, val_accuracy = evaluate_model(model, batch_size, eval_input_tensor, eval_labels_tensor)\n",
    "\n",
    "        # Print the loss and accuracy\n",
    "        print(f'Epoch {epoch+1}/{epochs}, Loss: {loss.item():.3f}, Val Loss: {val_loss:.3f}, Val Accuracy: {val_accuracy:.3f}')\n",
    "\n",
    "\n",
    "def evaluate_model(model, batch_size, eval_input_tensor, eval_labels_tensor):\n",
    "    val_dataset = TensorDataset(eval_input_tensor, eval_labels_tensor)\n",
    "    val_loader = DataLoader(val_dataset, batch_size=batch_size)\n",
    "\n",
    "    model.eval()  # Set the model to evaluation mode\n",
    "    with torch.no_grad():\n",
    "        val_loss = 0.0\n",
    "        correct = 0\n",
    "        total = 0\n",
    "        for inputs, labels in val_loader:\n",
    "            outputs = model(inputs)\n",
    "            outputs = torch.squeeze(outputs, dim=1)  # Squeeze the output tensor\n",
    "            val_loss += criterion(outputs, labels).item()\n",
    "            predicted = (outputs > 0.5).float()\n",
    "            total += labels.size(0)\n",
    "            correct += (predicted == labels).sum().item()\n",
    "\n",
    "        val_loss /= len(val_loader)\n",
    "        val_accuracy = correct / total\n",
    "    return val_loss, val_accuracy"
   ]
  },
  {
   "cell_type": "code",
   "execution_count": 18,
   "metadata": {},
   "outputs": [
    {
     "data": {
      "text/plain": [
       "(torch.float32, torch.float32)"
      ]
     },
     "execution_count": 18,
     "metadata": {},
     "output_type": "execute_result"
    }
   ],
   "source": [
    "X_train_padded.dtype, y_train_tensor.dtype"
   ]
  },
  {
   "cell_type": "code",
   "execution_count": 19,
   "metadata": {},
   "outputs": [
    {
     "name": "stdout",
     "output_type": "stream",
     "text": [
      "Epoch 1/10, Loss: 0.694, Val Loss: 0.694, Val Accuracy: 0.487\n",
      "Epoch 2/10, Loss: 0.711, Val Loss: 0.694, Val Accuracy: 0.487\n",
      "Epoch 3/10, Loss: 0.697, Val Loss: 0.693, Val Accuracy: 0.487\n",
      "Epoch 4/10, Loss: 0.693, Val Loss: 0.693, Val Accuracy: 0.491\n",
      "Epoch 5/10, Loss: 0.675, Val Loss: 0.697, Val Accuracy: 0.487\n",
      "Epoch 6/10, Loss: 0.689, Val Loss: 0.688, Val Accuracy: 0.538\n",
      "Epoch 7/10, Loss: 0.729, Val Loss: 0.689, Val Accuracy: 0.487\n",
      "Epoch 8/10, Loss: 0.654, Val Loss: 0.674, Val Accuracy: 0.698\n",
      "Epoch 9/10, Loss: 0.626, Val Loss: 0.661, Val Accuracy: 0.705\n",
      "Epoch 10/10, Loss: 0.540, Val Loss: 0.640, Val Accuracy: 0.651\n"
     ]
    }
   ],
   "source": [
    "X_train_padded, X_val_padded = X_train_padded.type(torch.LongTensor), X_val_padded.type(torch.LongTensor)  # Casting to LongTensor tensor type\n",
    "\n",
    "train_model(\n",
    "    ffnn_dan_model, epochs=10, batch_size=20,\n",
    "    train_input_tensor=X_train_padded, train_labels_tensor=y_train_tensor,\n",
    "    eval_input_tensor=X_val_padded, eval_labels_tensor=y_val_tensor)"
   ]
  },
  {
   "cell_type": "code",
   "execution_count": 20,
   "metadata": {},
   "outputs": [
    {
     "data": {
      "text/plain": [
       "0.6472727272727272"
      ]
     },
     "execution_count": 20,
     "metadata": {},
     "output_type": "execute_result"
    }
   ],
   "source": [
    "X_test_padded = X_test_padded.type(torch.LongTensor)\n",
    "test_loss, test_accuracy = evaluate_model(ffnn_dan_model, batch_size=20, eval_input_tensor=X_test_padded, eval_labels_tensor=y_test_tensor)\n",
    "test_accuracy"
   ]
  },
  {
   "cell_type": "markdown",
   "metadata": {},
   "source": [
    "## Using Pretrained Word Embeddings"
   ]
  },
  {
   "cell_type": "code",
   "execution_count": 21,
   "metadata": {},
   "outputs": [],
   "source": [
    "def create_embedding_matrix(filepath, word_index, embedding_dim):\n",
    "    vocab_size = len(word_index) + 1  # Adding again 1 because of reserved 0 index\n",
    "    embedding_matrix = np.zeros((vocab_size, embedding_dim))\n",
    "\n",
    "    with open(filepath) as f:\n",
    "        for line in f:\n",
    "            word, *vector = line.split()\n",
    "            if word in word_index:\n",
    "                idx = word_index[word]\n",
    "                embedding_matrix[idx] = np.array(\n",
    "                    vector, dtype=np.float32)[:embedding_dim]\n",
    "\n",
    "    return embedding_matrix\n",
    "\n",
    "embedding_dim = 50\n",
    "glove_embedding_matrix = create_embedding_matrix(\n",
    "    'glove.6B.50d.txt',\n",
    "    vocab,\n",
    "    embedding_dim\n",
    ")"
   ]
  },
  {
   "cell_type": "code",
   "execution_count": 22,
   "metadata": {},
   "outputs": [
    {
     "data": {
      "text/plain": [
       "array([[ 0.        ,  0.        ,  0.        , ...,  0.        ,\n",
       "         0.        ,  0.        ],\n",
       "       [-0.0049087 ,  0.12611   ,  0.14056   , ..., -0.58464003,\n",
       "        -0.31830999,  0.31564   ],\n",
       "       [ 0.53074002,  0.40116999, -0.40785   , ...,  0.28762001,\n",
       "         0.1444    ,  0.23611   ],\n",
       "       ...,\n",
       "       [ 0.        ,  0.        ,  0.        , ...,  0.        ,\n",
       "         0.        ,  0.        ],\n",
       "       [ 0.        ,  0.        ,  0.        , ...,  0.        ,\n",
       "         0.        ,  0.        ],\n",
       "       [ 0.        ,  0.        ,  0.        , ...,  0.        ,\n",
       "         0.        ,  0.        ]])"
      ]
     },
     "execution_count": 22,
     "metadata": {},
     "output_type": "execute_result"
    }
   ],
   "source": [
    "glove_embedding_matrix"
   ]
  },
  {
   "cell_type": "code",
   "execution_count": 23,
   "metadata": {},
   "outputs": [
    {
     "name": "stdout",
     "output_type": "stream",
     "text": [
      "0.7230825958702065\n"
     ]
    }
   ],
   "source": [
    "# We can check how many of the words we have in training are in Glove\n",
    "nonzero_elements = np.count_nonzero(np.count_nonzero(glove_embedding_matrix, axis=1))\n",
    "print(nonzero_elements / vocab_size)"
   ]
  },
  {
   "cell_type": "code",
   "execution_count": 24,
   "metadata": {},
   "outputs": [
    {
     "name": "stdout",
     "output_type": "stream",
     "text": [
      "Embedding(5425, 50)\n",
      "feedforward_deep_average_network(\n",
      "  (embedding): Embedding(5425, 50)\n",
      "  (fc1): Linear(in_features=50, out_features=10, bias=True)\n",
      "  (fc2): Linear(in_features=10, out_features=1, bias=True)\n",
      "  (relu): ReLU()\n",
      "  (sigmoid): Sigmoid()\n",
      ")\n",
      "Layer: embedding.weight, Number of parameters: 271250\n",
      "Layer: fc1.weight, Number of parameters: 500\n",
      "Layer: fc1.bias, Number of parameters: 10\n",
      "Layer: fc2.weight, Number of parameters: 10\n",
      "Layer: fc2.bias, Number of parameters: 1\n"
     ]
    }
   ],
   "source": [
    "# load pre-trained embeddings into the embedding layer\n",
    "glove_embedding_layer = nn.Embedding.from_pretrained(torch.tensor(glove_embedding_matrix, dtype=torch.float32), freeze=True)\n",
    "print (glove_embedding_layer)\n",
    "\n",
    "ffnn_dan_glove_model = feedforward_deep_average_network(\n",
    "    word_embeddings = glove_embedding_layer,\n",
    "    hidden_dim = 10, output_dim = 1)\n",
    "\n",
    "print(ffnn_dan_glove_model)\n",
    "\n",
    "for name, param in ffnn_dan_glove_model.named_parameters():\n",
    "    print(f\"Layer: {name}, Number of parameters: {param.numel()}\")"
   ]
  },
  {
   "cell_type": "code",
   "execution_count": 25,
   "metadata": {},
   "outputs": [
    {
     "name": "stdout",
     "output_type": "stream",
     "text": [
      "Epoch 1/10, Loss: 0.685, Val Loss: 0.697, Val Accuracy: 0.487\n",
      "Epoch 2/10, Loss: 0.699, Val Loss: 0.692, Val Accuracy: 0.491\n",
      "Epoch 3/10, Loss: 0.689, Val Loss: 0.686, Val Accuracy: 0.538\n",
      "Epoch 4/10, Loss: 0.692, Val Loss: 0.681, Val Accuracy: 0.604\n",
      "Epoch 5/10, Loss: 0.664, Val Loss: 0.675, Val Accuracy: 0.625\n",
      "Epoch 6/10, Loss: 0.644, Val Loss: 0.667, Val Accuracy: 0.636\n",
      "Epoch 7/10, Loss: 0.649, Val Loss: 0.661, Val Accuracy: 0.640\n",
      "Epoch 8/10, Loss: 0.693, Val Loss: 0.653, Val Accuracy: 0.636\n",
      "Epoch 9/10, Loss: 0.596, Val Loss: 0.649, Val Accuracy: 0.622\n",
      "Epoch 10/10, Loss: 0.588, Val Loss: 0.643, Val Accuracy: 0.658\n"
     ]
    }
   ],
   "source": [
    "train_model(\n",
    "    ffnn_dan_glove_model, epochs=10, batch_size=20,\n",
    "    train_input_tensor=X_train_padded, train_labels_tensor=y_train_tensor,\n",
    "    eval_input_tensor=X_val_padded, eval_labels_tensor=y_val_tensor)"
   ]
  },
  {
   "cell_type": "code",
   "execution_count": 26,
   "metadata": {},
   "outputs": [
    {
     "data": {
      "text/plain": [
       "0.7454545454545455"
      ]
     },
     "execution_count": 26,
     "metadata": {},
     "output_type": "execute_result"
    }
   ],
   "source": [
    "test_loss, test_accuracy = evaluate_model(ffnn_dan_glove_model, batch_size=20, eval_input_tensor=X_test_padded, eval_labels_tensor=y_test_tensor)\n",
    "test_accuracy"
   ]
  },
  {
   "cell_type": "markdown",
   "metadata": {},
   "source": [
    "## LSTMs with pytorch\n",
    "\n",
    "Recall that we were \"averaging\" the word embeddings in order to get a sentence representation... but can we do better? In class, we discussed the use of RNNs (e.g., LSTM) as a way of \"summarizing\" sentence meaning in its hidden vectors. As it turns out, it is very easy to use an LSTM instead of doing an average pooling; you only need to specify an output dimension for the LSTM, i.e., the size of your \"sentence summary vector\":"
   ]
  },
  {
   "cell_type": "code",
   "execution_count": 27,
   "metadata": {},
   "outputs": [],
   "source": [
    "class feedforward_deep_average_lstm_network(nn.Module):\n",
    "    def __init__(self, word_embeddings: nn.Embedding, dropout, lstm_dim, hidden_dim, output_dim):\n",
    "        super(feedforward_deep_average_lstm_network, self).__init__()\n",
    "        self.embedding = word_embeddings\n",
    "        self.embedding_dim = word_embeddings.embedding_dim\n",
    "        self.lstm = nn.LSTM(self.embedding_dim, lstm_dim)\n",
    "        self.dropout = nn.Dropout(dropout)\n",
    "        self.fc1 = nn.Linear(lstm_dim, hidden_dim)\n",
    "        self.fc2 = nn.Linear(hidden_dim, output_dim)\n",
    "        self.sigmoid = nn.Sigmoid()\n",
    "\n",
    "    def forward(self, x):\n",
    "        embedded = self.embedding(x)\n",
    "        lstm_out, _ = self.lstm(embedded)\n",
    "        # [:] in the first dimension means selecting all batches.\n",
    "        # [-1] in the second dimension means selecting the last time step.\n",
    "        # [:] in the third dimension means selecting all features.\n",
    "        lstm_out = self.dropout(lstm_out[:, -1, :])  # Using the last output only\n",
    "        out = torch.relu(self.fc1(lstm_out))\n",
    "        out = self.sigmoid(self.fc2(out))\n",
    "        return out"
   ]
  },
  {
   "cell_type": "code",
   "execution_count": 28,
   "metadata": {},
   "outputs": [
    {
     "name": "stdout",
     "output_type": "stream",
     "text": [
      "feedforward_deep_average_lstm_network(\n",
      "  (embedding): Embedding(5425, 50)\n",
      "  (lstm): LSTM(50, 16)\n",
      "  (dropout): Dropout(p=0.5, inplace=False)\n",
      "  (fc1): Linear(in_features=16, out_features=10, bias=True)\n",
      "  (fc2): Linear(in_features=10, out_features=1, bias=True)\n",
      "  (sigmoid): Sigmoid()\n",
      ")\n",
      "Layer: embedding.weight, Number of parameters: 271250\n",
      "Layer: lstm.weight_ih_l0, Number of parameters: 3200\n",
      "Layer: lstm.weight_hh_l0, Number of parameters: 1024\n",
      "Layer: lstm.bias_ih_l0, Number of parameters: 64\n",
      "Layer: lstm.bias_hh_l0, Number of parameters: 64\n",
      "Layer: fc1.weight, Number of parameters: 160\n",
      "Layer: fc1.bias, Number of parameters: 10\n",
      "Layer: fc2.weight, Number of parameters: 10\n",
      "Layer: fc2.bias, Number of parameters: 1\n"
     ]
    }
   ],
   "source": [
    "ffnn_dan_glove_lstm_model = feedforward_deep_average_lstm_network(\n",
    "    word_embeddings = glove_embedding_layer,\n",
    "    dropout = 0.5,\n",
    "    lstm_dim = 16, hidden_dim = 10, output_dim = 1)\n",
    "\n",
    "print(ffnn_dan_glove_lstm_model)\n",
    "\n",
    "for name, param in ffnn_dan_glove_lstm_model.named_parameters():\n",
    "    print(f\"Layer: {name}, Number of parameters: {param.numel()}\")"
   ]
  },
  {
   "cell_type": "code",
   "execution_count": 29,
   "metadata": {},
   "outputs": [
    {
     "name": "stdout",
     "output_type": "stream",
     "text": [
      "Epoch 1/10, Loss: 0.693, Val Loss: 0.693, Val Accuracy: 0.513\n",
      "Epoch 2/10, Loss: 0.692, Val Loss: 0.693, Val Accuracy: 0.498\n",
      "Epoch 3/10, Loss: 0.693, Val Loss: 0.693, Val Accuracy: 0.505\n",
      "Epoch 4/10, Loss: 0.694, Val Loss: 0.693, Val Accuracy: 0.505\n",
      "Epoch 5/10, Loss: 0.694, Val Loss: 0.693, Val Accuracy: 0.513\n",
      "Epoch 6/10, Loss: 0.695, Val Loss: 0.693, Val Accuracy: 0.513\n",
      "Epoch 7/10, Loss: 0.694, Val Loss: 0.693, Val Accuracy: 0.505\n",
      "Epoch 8/10, Loss: 0.694, Val Loss: 0.693, Val Accuracy: 0.487\n",
      "Epoch 9/10, Loss: 0.695, Val Loss: 0.693, Val Accuracy: 0.487\n",
      "Epoch 10/10, Loss: 0.698, Val Loss: 0.693, Val Accuracy: 0.487\n"
     ]
    }
   ],
   "source": [
    "train_model(\n",
    "    ffnn_dan_glove_lstm_model, epochs=10, batch_size=20,\n",
    "    train_input_tensor=X_train_padded, train_labels_tensor=y_train_tensor,\n",
    "    eval_input_tensor=X_val_padded, eval_labels_tensor=y_val_tensor)"
   ]
  },
  {
   "cell_type": "code",
   "execution_count": 30,
   "metadata": {},
   "outputs": [
    {
     "data": {
      "text/plain": [
       "0.4618181818181818"
      ]
     },
     "execution_count": 30,
     "metadata": {},
     "output_type": "execute_result"
    }
   ],
   "source": [
    "test_loss, test_accuracy = evaluate_model(ffnn_dan_glove_lstm_model, batch_size=20, eval_input_tensor=X_test_padded, eval_labels_tensor=y_test_tensor)\n",
    "test_accuracy"
   ]
  }
 ],
 "metadata": {
  "colab": {
   "provenance": []
  },
  "kernelspec": {
   "display_name": "base",
   "language": "python",
   "name": "python3"
  },
  "language_info": {
   "codemirror_mode": {
    "name": "ipython",
    "version": 3
   },
   "file_extension": ".py",
   "mimetype": "text/x-python",
   "name": "python",
   "nbconvert_exporter": "python",
   "pygments_lexer": "ipython3",
   "version": "3.8.8"
  }
 },
 "nbformat": 4,
 "nbformat_minor": 0
}
