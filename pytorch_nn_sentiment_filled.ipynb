{
  "cells": [
    {
      "cell_type": "code",
      "execution_count": 44,
      "metadata": {
        "colab": {
          "base_uri": "https://localhost:8080/",
          "height": 304
        },
        "id": "tu2vFBdErUkT",
        "outputId": "8e5366dc-dc89-4aa6-aeee-5f8bde51a1bf"
      },
      "outputs": [],
      "source": [
        "#from google.colab import drive\n",
        "#drive.mount('/content/drive')"
      ]
    },
    {
      "cell_type": "code",
      "execution_count": 45,
      "metadata": {
        "id": "yz44egbQrXor"
      },
      "outputs": [
        {
          "name": "stdout",
          "output_type": "stream",
          "text": [
            "                                            sentence  label source\n",
            "0                           Wow... Loved this place.      1   yelp\n",
            "1                                 Crust is not good.      0   yelp\n",
            "2          Not tasty and the texture was just nasty.      0   yelp\n",
            "3  Stopped by during the late May bank holiday of...      1   yelp\n",
            "4  The selection on the menu was great and so wer...      1   yelp\n"
          ]
        }
      ],
      "source": [
        "import pandas as pd\n",
        "\n",
        "filepath_dict = {'yelp':   'sentiment-labelled-sentences/yelp_labelled.txt',\n",
        "                 'amazon': 'sentiment-labelled-sentences/amazon_cells_labelled.txt',\n",
        "                 'imdb':   'sentiment-labelled-sentences/imdb_labelled.txt'}\n",
        "\n",
        "df_list = []\n",
        "for source, filepath in filepath_dict.items():\n",
        "    df = pd.read_csv(filepath, names=['sentence', 'label'], sep='\\t')\n",
        "    df['source'] = source  # Add another column filled with the source name\n",
        "    df_list.append(df)\n",
        "\n",
        "df = pd.concat(df_list)\n",
        "print(df.head())"
      ]
    },
    {
      "cell_type": "code",
      "execution_count": 46,
      "metadata": {
        "id": "OLxoQbpmrrkv"
      },
      "outputs": [
        {
          "name": "stdout",
          "output_type": "stream",
          "text": [
            "(2198,)\n",
            "(275,)\n",
            "(275,)\n"
          ]
        }
      ],
      "source": [
        "from sklearn.model_selection import train_test_split\n",
        "\n",
        "sentences = df['sentence'].values\n",
        "y = df['label'].values\n",
        "# First split 20% of the data into testing and validation\n",
        "sentences_train, sentences_test_val, y_train, y_test_val = train_test_split(sentences, y, test_size=0.2, random_state=1000)\n",
        "# Then split 50% of the test+val data as validation\n",
        "sentences_test, sentences_val, y_test, y_val = train_test_split(sentences_test_val, y_test_val, test_size=0.5, random_state=1000)\n",
        "\n",
        "print(y_train.shape)\n",
        "print(y_val.shape)\n",
        "print(y_test.shape)"
      ]
    },
    {
      "cell_type": "markdown",
      "metadata": {
        "id": "ool1_JdirwGx"
      },
      "source": [
        "## Transform our sentences into one-hot representations using CountVectorizer"
      ]
    },
    {
      "cell_type": "code",
      "execution_count": 47,
      "metadata": {
        "id": "m_nx8OLzrtil"
      },
      "outputs": [],
      "source": [
        "from sklearn.feature_extraction.text import CountVectorizer\n",
        "\n",
        "vectorizer = CountVectorizer()\n",
        "vectorizer.fit(sentences_train)\n",
        "X_train = vectorizer.transform(sentences_train)\n",
        "X_test  = vectorizer.transform(sentences_test)\n",
        "X_val = vectorizer.transform(sentences_val)"
      ]
    },
    {
      "cell_type": "markdown",
      "metadata": {
        "id": "sWp-8Vnor7iv"
      },
      "source": [
        "## Building a logistic regression benchmark"
      ]
    },
    {
      "cell_type": "code",
      "execution_count": 48,
      "metadata": {
        "id": "Aa-W5bMKr8K8"
      },
      "outputs": [
        {
          "name": "stdout",
          "output_type": "stream",
          "text": [
            "Accuracy: 0.8472727272727273\n"
          ]
        }
      ],
      "source": [
        "from sklearn.linear_model import LogisticRegression\n",
        "\n",
        "classifier = LogisticRegression()\n",
        "classifier.fit(X_train, y_train)\n",
        "score = classifier.score(X_test, y_test)\n",
        "print(\"Accuracy:\", score)"
      ]
    },
    {
      "cell_type": "markdown",
      "metadata": {
        "id": "WFLUSFUTsKSU"
      },
      "source": [
        "## Pytorch basics"
      ]
    },
    {
      "cell_type": "code",
      "execution_count": 49,
      "metadata": {
        "id": "gARdwBxIs0kO"
      },
      "outputs": [
        {
          "name": "stdout",
          "output_type": "stream",
          "text": [
            "4642\n"
          ]
        }
      ],
      "source": [
        "input_dim = X_train.shape[1]\n",
        "print (input_dim)"
      ]
    },
    {
      "cell_type": "code",
      "execution_count": 50,
      "metadata": {
        "id": "ltmXvufFtBss"
      },
      "outputs": [
        {
          "name": "stdout",
          "output_type": "stream",
          "text": [
            "feedforward_nn(\n",
            "  (fc1): Linear(in_features=4642, out_features=10, bias=True)\n",
            "  (fc2): Linear(in_features=10, out_features=1, bias=True)\n",
            "  (relu): ReLU()\n",
            "  (sigmoid): Sigmoid()\n",
            ")\n"
          ]
        }
      ],
      "source": [
        "import torch\n",
        "import torch.nn as nn\n",
        "\n",
        "class feedforward_nn(nn.Module):\n",
        "    def __init__(self, input_dim):\n",
        "        super(feedforward_nn, self).__init__()\n",
        "        self.fc1 = nn.Linear(input_dim, 10)\n",
        "        self.fc2 = nn.Linear(10, 1)\n",
        "        self.relu = nn.ReLU()\n",
        "        self.sigmoid = nn.Sigmoid()\n",
        "\n",
        "    def forward(self, x):\n",
        "        x = self.relu(self.fc1(x))\n",
        "        x = self.sigmoid(self.fc2(x))\n",
        "        return x\n",
        "\n",
        "model = feedforward_nn(input_dim)\n",
        "# Print model summary\n",
        "print (model)"
      ]
    },
    {
      "cell_type": "code",
      "execution_count": 51,
      "metadata": {},
      "outputs": [],
      "source": [
        "import numpy as np\n",
        "import random\n",
        "\n",
        "def set_seed(seed):\n",
        "    torch.backends.cudnn.deterministic = True\n",
        "    torch.backends.cudnn.benchmark = False\n",
        "    torch.manual_seed(seed)\n",
        "    torch.cuda.manual_seed_all(seed)\n",
        "    np.random.seed(seed)\n",
        "    random.seed(seed)"
      ]
    },
    {
      "cell_type": "code",
      "execution_count": 52,
      "metadata": {
        "id": "a0gprK1itwsK"
      },
      "outputs": [
        {
          "name": "stdout",
          "output_type": "stream",
          "text": [
            "Epoch 1/10, Loss: 0.613, Val Loss: 0.660, Val Accuracy: 0.695\n",
            "Epoch 2/10, Loss: 0.563, Val Loss: 0.587, Val Accuracy: 0.793\n",
            "Epoch 3/10, Loss: 0.389, Val Loss: 0.514, Val Accuracy: 0.807\n",
            "Epoch 4/10, Loss: 0.451, Val Loss: 0.465, Val Accuracy: 0.807\n",
            "Epoch 5/10, Loss: 0.223, Val Loss: 0.435, Val Accuracy: 0.825\n",
            "Epoch 6/10, Loss: 0.101, Val Loss: 0.423, Val Accuracy: 0.825\n",
            "Epoch 7/10, Loss: 0.092, Val Loss: 0.417, Val Accuracy: 0.822\n",
            "Epoch 8/10, Loss: 0.086, Val Loss: 0.412, Val Accuracy: 0.815\n",
            "Epoch 9/10, Loss: 0.043, Val Loss: 0.414, Val Accuracy: 0.822\n",
            "Epoch 10/10, Loss: 0.057, Val Loss: 0.418, Val Accuracy: 0.818\n"
          ]
        }
      ],
      "source": [
        "set_seed(3)\n",
        "\n",
        "import torch.optim as optim\n",
        "import torch.nn.functional as F\n",
        "from torch.utils.data import DataLoader, TensorDataset\n",
        "\n",
        "criterion = nn.BCELoss()\n",
        "optimizer = optim.Adam(model.parameters(), lr=0.001)\n",
        "\n",
        "# Convert numpy arrays to PyTorch tensors\n",
        "X_train_tensor = torch.tensor(X_train.toarray(), dtype=torch.float32)\n",
        "y_train_tensor = torch.tensor(y_train, dtype=torch.float32)\n",
        "\n",
        "X_val_tensor = torch.tensor(X_val.toarray(), dtype=torch.float32)\n",
        "y_val_tensor = torch.tensor(y_val, dtype=torch.float32)\n",
        "\n",
        "# Create a PyTorch dataset\n",
        "train_dataset = TensorDataset(X_train_tensor, y_train_tensor)\n",
        "val_dataset = TensorDataset(X_val_tensor, y_val_tensor)\n",
        "\n",
        "# Define batch size\n",
        "batch_size = 20\n",
        "epochs = 10\n",
        "\n",
        "# Create DataLoader\n",
        "train_loader = DataLoader(train_dataset, batch_size=batch_size, shuffle=True)\n",
        "val_loader = DataLoader(val_dataset, batch_size=batch_size)\n",
        "\n",
        "# Training loop\n",
        "for epoch in range(epochs):\n",
        "    model.train()  # Set the model to training mode\n",
        "    for inputs, labels in train_loader:\n",
        "        # Zero the gradients\n",
        "        optimizer.zero_grad()\n",
        "\n",
        "        # Forward pass\n",
        "        outputs = model(inputs)\n",
        "\n",
        "        # Squeeze the output tensor to match the shape of labels\n",
        "        outputs = torch.squeeze(outputs, dim=1)\n",
        "\n",
        "        # Compute the loss\n",
        "        loss = criterion(outputs, labels)\n",
        "\n",
        "        # Backward pass\n",
        "        loss.backward()\n",
        "\n",
        "        # Update the parameters\n",
        "        optimizer.step()\n",
        "\n",
        "    # Validation\n",
        "    model.eval()  # Set the model to evaluation mode\n",
        "    with torch.no_grad():\n",
        "        val_loss = 0.0\n",
        "        correct = 0\n",
        "        total = 0\n",
        "        for inputs, labels in val_loader:\n",
        "            outputs = model(inputs)\n",
        "            outputs = torch.squeeze(outputs, dim=1)  # Squeeze the output tensor\n",
        "            val_loss += criterion(outputs, labels).item()\n",
        "            predicted = (outputs > 0.5).float()\n",
        "            total += labels.size(0)\n",
        "            correct += (predicted == labels).sum().item()\n",
        "\n",
        "        val_loss /= len(val_loader)\n",
        "        val_accuracy = correct / total\n",
        "\n",
        "    # Print the loss and accuracy\n",
        "    print(f'Epoch {epoch+1}/{epochs}, Loss: {loss.item():.3f}, Val Loss: {val_loss:.3f}, Val Accuracy: {val_accuracy:.3f}')"
      ]
    },
    {
      "cell_type": "code",
      "execution_count": 53,
      "metadata": {
        "id": "ahMlbtK6vzTA"
      },
      "outputs": [
        {
          "name": "stdout",
          "output_type": "stream",
          "text": [
            "Testing Accuracy: 0.8364\n"
          ]
        }
      ],
      "source": [
        "set_seed(3)\n",
        "\n",
        "X_test_tensor = torch.tensor(X_test.toarray(), dtype=torch.float32)\n",
        "y_test_tensor = torch.tensor(y_test, dtype=torch.float32)\n",
        "\n",
        "# Create a PyTorch dataset for test data\n",
        "test_dataset = TensorDataset(X_test_tensor, y_test_tensor)\n",
        "\n",
        "# Define batch size for test data\n",
        "test_batch_size = 20\n",
        "\n",
        "# Create DataLoader for test data\n",
        "test_loader = DataLoader(test_dataset, batch_size=test_batch_size)\n",
        "\n",
        "model.eval()  # Set the model to evaluation mode\n",
        "test_loss = 0.0\n",
        "correct = 0\n",
        "total = 0\n",
        "with torch.no_grad():\n",
        "    for inputs, labels in test_loader:\n",
        "        outputs = model(inputs)\n",
        "        outputs = torch.squeeze(outputs, dim=1)  # Squeeze the output tensor\n",
        "        test_loss += criterion(outputs, labels).item()\n",
        "        predicted = (outputs > 0.5).float()\n",
        "        total += labels.size(0)\n",
        "        correct += (predicted == labels).sum().item()\n",
        "\n",
        "test_loss /= len(test_loader)\n",
        "test_accuracy = correct / total\n",
        "\n",
        "# Print the testing accuracy\n",
        "print(\"Testing Accuracy: {:.4f}\".format(test_accuracy))"
      ]
    },
    {
      "cell_type": "markdown",
      "metadata": {
        "id": "8u-Gtcr9wbp1"
      },
      "source": [
        "## Using word embeddings"
      ]
    },
    {
      "cell_type": "code",
      "execution_count": 54,
      "metadata": {
        "id": "3R0XhjTm31dJ"
      },
      "outputs": [
        {
          "name": "stderr",
          "output_type": "stream",
          "text": [
            "[nltk_data] Downloading package punkt to /home/hz6974/nltk_data...\n",
            "[nltk_data]   Package punkt is already up-to-date!\n"
          ]
        },
        {
          "data": {
            "text/plain": [
              "True"
            ]
          },
          "execution_count": 54,
          "metadata": {},
          "output_type": "execute_result"
        }
      ],
      "source": [
        "import nltk\n",
        "nltk.download('punkt')"
      ]
    },
    {
      "cell_type": "code",
      "execution_count": 56,
      "metadata": {
        "id": "Hc1ctGA0wbH7"
      },
      "outputs": [
        {
          "name": "stdout",
          "output_type": "stream",
          "text": [
            "Vocabulary size: 5424\n",
            "2198\n",
            "[387, 285, 14, 34, 4, 6, 516, 9, 1184, 84, 62, 3, 131, 10, 14, 1506, 2]\n"
          ]
        }
      ],
      "source": [
        "from nltk import word_tokenize\n",
        "from torchtext.vocab import build_vocab_from_iterator\n",
        "\n",
        "# Tokenize and build vocabulary\n",
        "train_tokens = [word_tokenize(sentence) for sentence in sentences_train]\n",
        "vocab = build_vocab_from_iterator(train_tokens, specials=[\"<unk>\", \"<pad>\"])\n",
        "vocab_size = len(vocab)\n",
        "print (\"Vocabulary size:\", vocab_size)\n",
        "\n",
        "# Set a default index for unknown tokens\n",
        "unk_index = vocab[\"<unk>\"]\n",
        "\n",
        "# Numericalize sentences\n",
        "def numericalize_sentence(sentence):\n",
        "    return [vocab[token] if token in vocab else unk_index for token in word_tokenize(sentence)]\n",
        "\n",
        "X_train = [numericalize_sentence(sentence) for sentence in sentences_train]\n",
        "X_val = [numericalize_sentence(sentence) for sentence in sentences_val]\n",
        "X_test = [numericalize_sentence(sentence) for sentence in sentences_test]\n",
        "\n",
        "print (len(X_train))\n",
        "print (X_train[0])"
      ]
    },
    {
      "cell_type": "code",
      "execution_count": 57,
      "metadata": {
        "id": "XeFo_P5G4-OM"
      },
      "outputs": [
        {
          "name": "stdout",
          "output_type": "stream",
          "text": [
            "One of the most boring,pointless movies I have ever seen.  \n",
            "[389, 10, 3, 119, 438, 4, 1220, 161, 6, 28, 70, 192, 2]\n",
            "I went on Motorola's website and followed all directions, but could not get it to pair again.\n",
            "[6, 286, 24, 352, 22, 985, 5, 3910, 44, 3674, 4, 37, 87, 21, 88, 12, 9, 927, 114, 2]\n"
          ]
        }
      ],
      "source": [
        "print(sentences_train[6])\n",
        "print(X_train[6])\n",
        "print(sentences_train[3])\n",
        "print(X_train[3])"
      ]
    },
    {
      "cell_type": "code",
      "execution_count": 58,
      "metadata": {
        "id": "A2eDtj_d5Bl9"
      },
      "outputs": [
        {
          "name": "stdout",
          "output_type": "stream",
          "text": [
            "the: 3\n",
            "all: 44\n",
            "happy: 223\n",
            "sad: 767\n"
          ]
        }
      ],
      "source": [
        "for word in ['the', 'all', 'happy', 'sad']:\n",
        "    print('{}: {}'.format(word, vocab[word]))"
      ]
    },
    {
      "cell_type": "code",
      "execution_count": 59,
      "metadata": {
        "id": "amzRSMSx5SZw"
      },
      "outputs": [
        {
          "name": "stdout",
          "output_type": "stream",
          "text": [
            "tensor([ 387.,  285.,   14.,   34.,    4.,    6.,  516.,    9., 1184.,   84.,\n",
            "          62.,    3.,  131.,   10.,   14., 1506.,    2.,    0.,    0.,    0.,\n",
            "           0.,    0.,    0.,    0.,    0.,    0.,    0.,    0.,    0.,    0.,\n",
            "           0.,    0.,    0.,    0.,    0.,    0.,    0.,    0.,    0.,    0.,\n",
            "           0.,    0.,    0.,    0.,    0.,    0.,    0.,    0.,    0.,    0.,\n",
            "           0.,    0.,    0.,    0.,    0.,    0.,    0.,    0.,    0.,    0.,\n",
            "           0.,    0.,    0.,    0.,    0.,    0.,    0.,    0.,    0.,    0.,\n",
            "           0.,    0.,    0.,    0.,    0.,    0.,    0.,    0.,    0.,    0.,\n",
            "           0.,    0.,    0.,    0.,    0.,    0.,    0.,    0.,    0.,    0.,\n",
            "           0.,    0.,    0.,    0.,    0.,    0.,    0.,    0.,    0.,    0.])\n"
          ]
        },
        {
          "data": {
            "text/plain": [
              "torch.Size([2198, 100])"
            ]
          },
          "execution_count": 59,
          "metadata": {},
          "output_type": "execute_result"
        }
      ],
      "source": [
        "def pad_sequences(sequences, maxlen=None, dtype=torch.float32, padding_value=0):\n",
        "    # If maxlen is not provided, determine it dynamically from the longest sequence\n",
        "    if maxlen is None:\n",
        "        maxlen = max(len(seq) for seq in sequences)\n",
        "\n",
        "    # Create a tensor to store the padded sequences\n",
        "    padded_sequences = torch.full((len(sequences), maxlen), padding_value, dtype=dtype)\n",
        "\n",
        "    # Iterate over the sequences and pad them\n",
        "    for i, seq in enumerate(sequences):\n",
        "        end = min(len(seq), maxlen)\n",
        "        padded_sequences[i, :end] = torch.tensor(seq[:end], dtype=dtype)\n",
        "    \n",
        "    return padded_sequences\n",
        "\n",
        "# Pad sequences\n",
        "X_train_padded = pad_sequences(X_train, maxlen=100)\n",
        "X_val_padded = pad_sequences(X_val, maxlen=100)\n",
        "X_test_padded = pad_sequences(X_test, maxlen=100)\n",
        "\n",
        "print (X_train_padded[0])\n",
        "X_train_padded.shape"
      ]
    },
    {
      "cell_type": "markdown",
      "metadata": {
        "id": "PK57u5g46WQS"
      },
      "source": [
        "## Pytorch Embedding Layer"
      ]
    },
    {
      "cell_type": "code",
      "execution_count": 60,
      "metadata": {
        "id": "67oddu1q5Y55"
      },
      "outputs": [
        {
          "name": "stdout",
          "output_type": "stream",
          "text": [
            "feedforward_deep_average_network(\n",
            "  (embedding): Embedding(5424, 50)\n",
            "  (fc1): Linear(in_features=50, out_features=10, bias=True)\n",
            "  (fc2): Linear(in_features=10, out_features=1, bias=True)\n",
            "  (relu): ReLU()\n",
            "  (sigmoid): Sigmoid()\n",
            ")\n",
            "Layer: embedding.weight, Number of parameters: 271200\n",
            "Layer: fc1.weight, Number of parameters: 500\n",
            "Layer: fc1.bias, Number of parameters: 10\n",
            "Layer: fc2.weight, Number of parameters: 10\n",
            "Layer: fc2.bias, Number of parameters: 1\n"
          ]
        }
      ],
      "source": [
        "class feedforward_deep_average_network(nn.Module):\n",
        "    def __init__(self, word_embeddings: nn.Embedding, hidden_dim, output_dim):\n",
        "        super(feedforward_deep_average_network, self).__init__()\n",
        "        self.embedding = word_embeddings\n",
        "        self.embedding_dim = word_embeddings.embedding_dim\n",
        "        self.fc1 = nn.Linear(self.embedding_dim, hidden_dim)\n",
        "        self.fc2 = nn.Linear(hidden_dim, output_dim)\n",
        "        self.relu = nn.ReLU()\n",
        "        self.sigmoid = nn.Sigmoid()\n",
        "\n",
        "    def forward(self, x):\n",
        "        embedded = self.embedding(x)\n",
        "        pooled = torch.mean(embedded, dim=1)  # Take average over the vocab_size dimension\n",
        "        out = self.fc1(pooled)\n",
        "        out = self.relu(out)\n",
        "        out = self.fc2(out)\n",
        "        out = self.sigmoid(out)\n",
        "        return out\n",
        "\n",
        "embedding_dim = 50\n",
        "\n",
        "# Instantiate the model\n",
        "ffnn_dan_model = feedforward_deep_average_network(\n",
        "    word_embeddings = nn.Embedding(vocab_size, embedding_dim),\n",
        "    hidden_dim = 10, output_dim = 1)\n",
        "print(ffnn_dan_model)\n",
        "\n",
        "for name, param in ffnn_dan_model.named_parameters():\n",
        "    print(f\"Layer: {name}, Number of parameters: {param.numel()}\")"
      ]
    },
    {
      "cell_type": "code",
      "execution_count": 61,
      "metadata": {},
      "outputs": [],
      "source": [
        "def train_model(model, epochs, batch_size, train_input_tensor, train_labels_tensor, eval_input_tensor, eval_labels_tensor):\n",
        "\n",
        "    criterion = nn.BCELoss()\n",
        "    optimizer = optim.Adam(model.parameters(), lr=0.001)\n",
        "\n",
        "    train_dataset = TensorDataset(train_input_tensor, train_labels_tensor)\n",
        "    train_loader = DataLoader(train_dataset, batch_size=batch_size, shuffle=True)\n",
        "\n",
        "    # Training loop\n",
        "    for epoch in range(epochs):\n",
        "        model.train()\n",
        "        for inputs, labels in train_loader:\n",
        "            optimizer.zero_grad()\n",
        "            outputs = model(inputs)\n",
        "            outputs = torch.squeeze(outputs, dim=1) # Squeeze the output tensor to match the shape of labels\n",
        "            loss = criterion(outputs, labels)\n",
        "            loss.backward()\n",
        "            optimizer.step()\n",
        "\n",
        "        # Validation\n",
        "        val_loss, val_accuracy = evaluate_model(model, batch_size, eval_input_tensor, eval_labels_tensor)\n",
        "\n",
        "        # Print the loss and accuracy\n",
        "        print(f'Epoch {epoch+1}/{epochs}, Loss: {loss.item():.3f}, Val Loss: {val_loss:.3f}, Val Accuracy: {val_accuracy:.3f}')\n",
        "\n",
        "\n",
        "def evaluate_model(model, batch_size, eval_input_tensor, eval_labels_tensor):\n",
        "    val_dataset = TensorDataset(eval_input_tensor, eval_labels_tensor)\n",
        "    val_loader = DataLoader(val_dataset, batch_size=batch_size)\n",
        "\n",
        "    model.eval()  # Set the model to evaluation mode\n",
        "    with torch.no_grad():\n",
        "        val_loss = 0.0\n",
        "        correct = 0\n",
        "        total = 0\n",
        "        for inputs, labels in val_loader:\n",
        "            outputs = model(inputs)\n",
        "            outputs = torch.squeeze(outputs, dim=1)  # Squeeze the output tensor\n",
        "            val_loss += criterion(outputs, labels).item()\n",
        "            predicted = (outputs > 0.5).float()\n",
        "            total += labels.size(0)\n",
        "            correct += (predicted == labels).sum().item()\n",
        "\n",
        "        val_loss /= len(val_loader)\n",
        "        val_accuracy = correct / total\n",
        "    return val_loss, val_accuracy"
      ]
    },
    {
      "cell_type": "code",
      "execution_count": 62,
      "metadata": {},
      "outputs": [
        {
          "data": {
            "text/plain": [
              "(torch.float32, torch.float32)"
            ]
          },
          "execution_count": 62,
          "metadata": {},
          "output_type": "execute_result"
        }
      ],
      "source": [
        "X_train_padded.dtype, y_train_tensor.dtype"
      ]
    },
    {
      "cell_type": "code",
      "execution_count": 63,
      "metadata": {},
      "outputs": [
        {
          "name": "stdout",
          "output_type": "stream",
          "text": [
            "Epoch 1/10, Loss: 0.693, Val Loss: 0.694, Val Accuracy: 0.480\n",
            "Epoch 2/10, Loss: 0.716, Val Loss: 0.694, Val Accuracy: 0.487\n",
            "Epoch 3/10, Loss: 0.697, Val Loss: 0.693, Val Accuracy: 0.491\n",
            "Epoch 4/10, Loss: 0.695, Val Loss: 0.692, Val Accuracy: 0.487\n",
            "Epoch 5/10, Loss: 0.682, Val Loss: 0.694, Val Accuracy: 0.487\n",
            "Epoch 6/10, Loss: 0.681, Val Loss: 0.691, Val Accuracy: 0.491\n",
            "Epoch 7/10, Loss: 0.723, Val Loss: 0.690, Val Accuracy: 0.491\n",
            "Epoch 8/10, Loss: 0.691, Val Loss: 0.683, Val Accuracy: 0.509\n",
            "Epoch 9/10, Loss: 0.633, Val Loss: 0.672, Val Accuracy: 0.589\n",
            "Epoch 10/10, Loss: 0.599, Val Loss: 0.661, Val Accuracy: 0.567\n"
          ]
        }
      ],
      "source": [
        "X_train_padded, X_val_padded = X_train_padded.type(torch.LongTensor), X_val_padded.type(torch.LongTensor)  # Casting to LongTensor tensor type\n",
        "\n",
        "train_model(\n",
        "    ffnn_dan_model, epochs=10, batch_size=20,\n",
        "    train_input_tensor=X_train_padded, train_labels_tensor=y_train_tensor,\n",
        "    eval_input_tensor=X_val_padded, eval_labels_tensor=y_val_tensor)"
      ]
    },
    {
      "cell_type": "code",
      "execution_count": 64,
      "metadata": {},
      "outputs": [
        {
          "data": {
            "text/plain": [
              "0.6072727272727273"
            ]
          },
          "execution_count": 64,
          "metadata": {},
          "output_type": "execute_result"
        }
      ],
      "source": [
        "X_test_padded = X_test_padded.type(torch.LongTensor)\n",
        "test_loss, test_accuracy = evaluate_model(ffnn_dan_model, batch_size=20, eval_input_tensor=X_test_padded, eval_labels_tensor=y_test_tensor)\n",
        "test_accuracy"
      ]
    },
    {
      "cell_type": "markdown",
      "metadata": {},
      "source": [
        "## Using Pretrained Word Embeddings"
      ]
    },
    {
      "cell_type": "code",
      "execution_count": 65,
      "metadata": {},
      "outputs": [],
      "source": [
        "def create_embedding_matrix(filepath, word_index, embedding_dim):\n",
        "    vocab_size = len(word_index) + 1  # Adding again 1 because of reserved 0 index\n",
        "    embedding_matrix = np.zeros((vocab_size, embedding_dim))\n",
        "\n",
        "    with open(filepath) as f:\n",
        "        for line in f:\n",
        "            word, *vector = line.split()\n",
        "            if word in word_index:\n",
        "                idx = word_index[word]\n",
        "                embedding_matrix[idx] = np.array(\n",
        "                    vector, dtype=np.float32)[:embedding_dim]\n",
        "\n",
        "    return embedding_matrix\n",
        "\n",
        "embedding_dim = 50\n",
        "glove_embedding_matrix = create_embedding_matrix('glove.6B.50d.txt',\n",
        "    vocab.get_stoi(), # torchtext vocab instance, get_stoi() returns the mapping from token to index\n",
        "    embedding_dim)"
      ]
    },
    {
      "cell_type": "code",
      "execution_count": 66,
      "metadata": {},
      "outputs": [
        {
          "data": {
            "text/plain": [
              "array([[ 0.        ,  0.        ,  0.        , ...,  0.        ,\n",
              "         0.        ,  0.        ],\n",
              "       [ 0.        ,  0.        ,  0.        , ...,  0.        ,\n",
              "         0.        ,  0.        ],\n",
              "       [ 0.15164   ,  0.30177   , -0.16763   , ..., -0.35652   ,\n",
              "         0.016413  ,  0.10216   ],\n",
              "       ...,\n",
              "       [ 0.69479001, -1.15900004,  0.070302  , ..., -1.21819997,\n",
              "         0.23513   ,  0.33118999],\n",
              "       [ 0.        ,  0.        ,  0.        , ...,  0.        ,\n",
              "         0.        ,  0.        ],\n",
              "       [ 0.        ,  0.        ,  0.        , ...,  0.        ,\n",
              "         0.        ,  0.        ]])"
            ]
          },
          "execution_count": 66,
          "metadata": {},
          "output_type": "execute_result"
        }
      ],
      "source": [
        "glove_embedding_matrix"
      ]
    },
    {
      "cell_type": "code",
      "execution_count": 67,
      "metadata": {},
      "outputs": [
        {
          "name": "stdout",
          "output_type": "stream",
          "text": [
            "0.7230825958702065\n"
          ]
        }
      ],
      "source": [
        "# We can check how many of the words we have in training are in Glove\n",
        "nonzero_elements = np.count_nonzero(np.count_nonzero(glove_embedding_matrix, axis=1))\n",
        "print(nonzero_elements / vocab_size)"
      ]
    },
    {
      "cell_type": "code",
      "execution_count": 68,
      "metadata": {},
      "outputs": [
        {
          "name": "stdout",
          "output_type": "stream",
          "text": [
            "Embedding(5425, 50)\n",
            "feedforward_deep_average_network(\n",
            "  (embedding): Embedding(5425, 50)\n",
            "  (fc1): Linear(in_features=50, out_features=10, bias=True)\n",
            "  (fc2): Linear(in_features=10, out_features=1, bias=True)\n",
            "  (relu): ReLU()\n",
            "  (sigmoid): Sigmoid()\n",
            ")\n",
            "Layer: embedding.weight, Number of parameters: 271250\n",
            "Layer: fc1.weight, Number of parameters: 500\n",
            "Layer: fc1.bias, Number of parameters: 10\n",
            "Layer: fc2.weight, Number of parameters: 10\n",
            "Layer: fc2.bias, Number of parameters: 1\n"
          ]
        }
      ],
      "source": [
        "# load pre-trained embeddings into the embedding layer\n",
        "golve_embedding_layer = nn.Embedding.from_pretrained(torch.tensor(glove_embedding_matrix, dtype=torch.float32), freeze=True)\n",
        "print (golve_embedding_layer)\n",
        "\n",
        "ffnn_dan_glove_model = feedforward_deep_average_network(\n",
        "    word_embeddings = golve_embedding_layer,\n",
        "    hidden_dim = 10, output_dim = 1)\n",
        "\n",
        "print(ffnn_dan_glove_model)\n",
        "\n",
        "for name, param in ffnn_dan_glove_model.named_parameters():\n",
        "    print(f\"Layer: {name}, Number of parameters: {param.numel()}\")"
      ]
    },
    {
      "cell_type": "code",
      "execution_count": 69,
      "metadata": {},
      "outputs": [
        {
          "name": "stdout",
          "output_type": "stream",
          "text": [
            "Epoch 1/10, Loss: 0.685, Val Loss: 0.697, Val Accuracy: 0.487\n",
            "Epoch 2/10, Loss: 0.699, Val Loss: 0.692, Val Accuracy: 0.491\n",
            "Epoch 3/10, Loss: 0.689, Val Loss: 0.686, Val Accuracy: 0.538\n",
            "Epoch 4/10, Loss: 0.692, Val Loss: 0.681, Val Accuracy: 0.604\n",
            "Epoch 5/10, Loss: 0.664, Val Loss: 0.675, Val Accuracy: 0.625\n",
            "Epoch 6/10, Loss: 0.644, Val Loss: 0.667, Val Accuracy: 0.636\n",
            "Epoch 7/10, Loss: 0.649, Val Loss: 0.661, Val Accuracy: 0.640\n",
            "Epoch 8/10, Loss: 0.693, Val Loss: 0.653, Val Accuracy: 0.636\n",
            "Epoch 9/10, Loss: 0.596, Val Loss: 0.649, Val Accuracy: 0.622\n",
            "Epoch 10/10, Loss: 0.588, Val Loss: 0.643, Val Accuracy: 0.658\n"
          ]
        }
      ],
      "source": [
        "train_model(\n",
        "    ffnn_dan_glove_model, epochs=10, batch_size=20,\n",
        "    train_input_tensor=X_train_padded, train_labels_tensor=y_train_tensor,\n",
        "    eval_input_tensor=X_val_padded, eval_labels_tensor=y_val_tensor)"
      ]
    },
    {
      "cell_type": "code",
      "execution_count": 70,
      "metadata": {},
      "outputs": [
        {
          "data": {
            "text/plain": [
              "0.7454545454545455"
            ]
          },
          "execution_count": 70,
          "metadata": {},
          "output_type": "execute_result"
        }
      ],
      "source": [
        "test_loss, test_accuracy = evaluate_model(ffnn_dan_glove_model, batch_size=20, eval_input_tensor=X_test_padded, eval_labels_tensor=y_test_tensor)\n",
        "test_accuracy"
      ]
    },
    {
      "cell_type": "markdown",
      "metadata": {},
      "source": [
        "## LSTMs with pytorch\n",
        "\n",
        "Recall that we were \"averaging\" the word embeddings in order to get a sentence representation... but can we do better? In class, we discussed the use of RNNs (e.g., LSTM) as a way of \"summarizing\" sentence meaning in its hidden vectors. As it turns out, it is very easy to use an LSTM instead of doing an average pooling; you only need to specify an output dimension for the LSTM, i.e., the size of your \"sentence summary vector\":"
      ]
    },
    {
      "cell_type": "code",
      "execution_count": 71,
      "metadata": {},
      "outputs": [],
      "source": [
        "class feedforward_deep_average_lstm_network(nn.Module):\n",
        "    def __init__(self, word_embeddings: nn.Embedding, dropout, lstm_dim, hidden_dim, output_dim):\n",
        "        super(feedforward_deep_average_lstm_network, self).__init__()\n",
        "        self.embedding = word_embeddings\n",
        "        self.embedding_dim = word_embeddings.embedding_dim\n",
        "        self.lstm = nn.LSTM(self.embedding_dim, lstm_dim)\n",
        "        self.dropout = nn.Dropout(dropout)\n",
        "        self.fc1 = nn.Linear(lstm_dim, hidden_dim)\n",
        "        self.fc2 = nn.Linear(hidden_dim, output_dim)\n",
        "        self.sigmoid = nn.Sigmoid()\n",
        "\n",
        "    def forward(self, x):\n",
        "        embedded = self.embedding(x)\n",
        "        lstm_out, _ = self.lstm(embedded)\n",
        "        # [:] in the first dimension means selecting all batches.\n",
        "        # [-1] in the second dimension means selecting the last time step.\n",
        "        # [:] in the third dimension means selecting all features.\n",
        "        lstm_out = self.dropout(lstm_out[:, -1, :])  # Using the last output only\n",
        "        out = torch.relu(self.fc1(lstm_out))\n",
        "        out = self.sigmoid(self.fc2(out))\n",
        "        return out"
      ]
    },
    {
      "cell_type": "code",
      "execution_count": 72,
      "metadata": {},
      "outputs": [
        {
          "name": "stdout",
          "output_type": "stream",
          "text": [
            "feedforward_deep_average_lstm_network(\n",
            "  (embedding): Embedding(5425, 50)\n",
            "  (lstm): LSTM(50, 16)\n",
            "  (dropout): Dropout(p=0.5, inplace=False)\n",
            "  (fc1): Linear(in_features=16, out_features=10, bias=True)\n",
            "  (fc2): Linear(in_features=10, out_features=1, bias=True)\n",
            "  (sigmoid): Sigmoid()\n",
            ")\n",
            "Layer: embedding.weight, Number of parameters: 271250\n",
            "Layer: lstm.weight_ih_l0, Number of parameters: 3200\n",
            "Layer: lstm.weight_hh_l0, Number of parameters: 1024\n",
            "Layer: lstm.bias_ih_l0, Number of parameters: 64\n",
            "Layer: lstm.bias_hh_l0, Number of parameters: 64\n",
            "Layer: fc1.weight, Number of parameters: 160\n",
            "Layer: fc1.bias, Number of parameters: 10\n",
            "Layer: fc2.weight, Number of parameters: 10\n",
            "Layer: fc2.bias, Number of parameters: 1\n"
          ]
        }
      ],
      "source": [
        "ffnn_dan_glove_lstm_model = feedforward_deep_average_lstm_network(\n",
        "    word_embeddings = golve_embedding_layer,\n",
        "    dropout = 0.5,\n",
        "    lstm_dim = 16, hidden_dim = 10, output_dim = 1)\n",
        "\n",
        "print(ffnn_dan_glove_lstm_model)\n",
        "\n",
        "for name, param in ffnn_dan_glove_lstm_model.named_parameters():\n",
        "    print(f\"Layer: {name}, Number of parameters: {param.numel()}\")"
      ]
    },
    {
      "cell_type": "code",
      "execution_count": 73,
      "metadata": {},
      "outputs": [
        {
          "name": "stdout",
          "output_type": "stream",
          "text": [
            "Epoch 1/10, Loss: 0.693, Val Loss: 0.693, Val Accuracy: 0.513\n",
            "Epoch 2/10, Loss: 0.692, Val Loss: 0.693, Val Accuracy: 0.498\n",
            "Epoch 3/10, Loss: 0.693, Val Loss: 0.693, Val Accuracy: 0.505\n",
            "Epoch 4/10, Loss: 0.694, Val Loss: 0.693, Val Accuracy: 0.505\n",
            "Epoch 5/10, Loss: 0.694, Val Loss: 0.693, Val Accuracy: 0.513\n",
            "Epoch 6/10, Loss: 0.695, Val Loss: 0.693, Val Accuracy: 0.513\n",
            "Epoch 7/10, Loss: 0.694, Val Loss: 0.693, Val Accuracy: 0.505\n",
            "Epoch 8/10, Loss: 0.694, Val Loss: 0.693, Val Accuracy: 0.487\n",
            "Epoch 9/10, Loss: 0.695, Val Loss: 0.693, Val Accuracy: 0.487\n",
            "Epoch 10/10, Loss: 0.698, Val Loss: 0.693, Val Accuracy: 0.487\n"
          ]
        }
      ],
      "source": [
        "train_model(\n",
        "    ffnn_dan_glove_lstm_model, epochs=10, batch_size=20,\n",
        "    train_input_tensor=X_train_padded, train_labels_tensor=y_train_tensor,\n",
        "    eval_input_tensor=X_val_padded, eval_labels_tensor=y_val_tensor)"
      ]
    },
    {
      "cell_type": "code",
      "execution_count": 74,
      "metadata": {},
      "outputs": [
        {
          "data": {
            "text/plain": [
              "0.4618181818181818"
            ]
          },
          "execution_count": 74,
          "metadata": {},
          "output_type": "execute_result"
        }
      ],
      "source": [
        "test_loss, test_accuracy = evaluate_model(ffnn_dan_glove_lstm_model, batch_size=20, eval_input_tensor=X_test_padded, eval_labels_tensor=y_test_tensor)\n",
        "test_accuracy"
      ]
    }
  ],
  "metadata": {
    "colab": {
      "provenance": []
    },
    "kernelspec": {
      "display_name": "Python 3",
      "name": "python3"
    },
    "language_info": {
      "codemirror_mode": {
        "name": "ipython",
        "version": 3
      },
      "file_extension": ".py",
      "mimetype": "text/x-python",
      "name": "python",
      "nbconvert_exporter": "python",
      "pygments_lexer": "ipython3",
      "version": "3.11.5"
    }
  },
  "nbformat": 4,
  "nbformat_minor": 0
}
