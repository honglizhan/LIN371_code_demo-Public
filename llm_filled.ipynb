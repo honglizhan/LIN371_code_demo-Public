{
 "cells": [
  {
   "cell_type": "markdown",
   "metadata": {},
   "source": [
    "## Inferencing from LLMs"
   ]
  },
  {
   "cell_type": "code",
   "execution_count": 11,
   "metadata": {},
   "outputs": [],
   "source": [
    "#!pip install -q transformers accelerate\n",
    "#!pip install langchain==0.0.293"
   ]
  },
  {
   "cell_type": "code",
   "execution_count": 12,
   "metadata": {},
   "outputs": [],
   "source": [
    "#==========#\n",
    "# Set seed #\n",
    "#==========#\n",
    "import torch\n",
    "import random\n",
    "import numpy as np\n",
    "from transformers import set_seed\n",
    "\n",
    "seed = 42\n",
    "\n",
    "set_seed(seed)\n",
    "random.seed(seed)\n",
    "np.random.seed(seed)\n",
    "torch.manual_seed(seed)\n",
    "torch.cuda.manual_seed_all(seed)"
   ]
  },
  {
   "cell_type": "markdown",
   "metadata": {},
   "source": [
    "## Using Huggingface and langchain for inferencing Mistral"
   ]
  },
  {
   "cell_type": "code",
   "execution_count": 13,
   "metadata": {},
   "outputs": [],
   "source": [
    "huggingface_auth_key = open(\"./auth_keys/huggingface_auth_key.txt\", \"r\").read()"
   ]
  },
  {
   "cell_type": "code",
   "execution_count": 14,
   "metadata": {},
   "outputs": [],
   "source": [
    "import transformers\n",
    "from transformers import (AutoTokenizer, AutoModelForCausalLM)\n",
    "from langchain.llms import HuggingFacePipeline\n",
    "from langchain.memory import ConversationBufferMemory\n",
    "from langchain import PromptTemplate, LLMChain\n",
    "import textwrap\n",
    "from termcolor import colored\n",
    "\n",
    "class MistralChatAgent:\n",
    "    def __init__(\n",
    "        self,\n",
    "        tokenizer: AutoTokenizer,\n",
    "        model: AutoModelForCausalLM,\n",
    "        chat_history: ConversationBufferMemory = ConversationBufferMemory(memory_key=\"chat_history\"),\n",
    "        new_system_prompt: str = None,\n",
    "        max_tokens: int = 128,\n",
    "        temperature: float = 0.7,\n",
    "    ) -> None:\n",
    "        self.tokenizer = tokenizer\n",
    "        self.model = model\n",
    "        self.llm = HuggingFacePipeline(\n",
    "            pipeline = transformers.pipeline(\n",
    "                task=\"text-generation\",\n",
    "                model=self.model, tokenizer=self.tokenizer,\n",
    "                torch_dtype=torch.bfloat16,\n",
    "                device_map=\"auto\",\n",
    "                eos_token_id=self.tokenizer.eos_token_id,\n",
    "                pad_token_id=self.tokenizer.eos_token_id,\n",
    "                max_new_tokens=max_tokens,\n",
    "            ),\n",
    "            model_kwargs = {'temperature': temperature}\n",
    "        )\n",
    "        self.chat_history = chat_history\n",
    "        self.B_INST, self.E_INST = \"[INST]\", \"[/INST]\"\n",
    "        self.new_system_prompt = new_system_prompt\n",
    "        self.DEFAULT_SYSTEM_PROMPT = \"\"\"You are a helpful, respectful and honest assistant. Always answer as helpfully as possible, while being safe. Your answers should not include any harmful, unethical, racist, sexist, toxic, dangerous, or illegal content. Please ensure that your responses are socially unbiased and positive in nature.\n",
    "\n",
    "If a question does not make any sense, or is not factually coherent, explain why instead of answering something not correct. If you don't know the answer to a question, please don't share false information.\"\"\"\n",
    "\n",
    "    def reset(self) -> None:\n",
    "        self.chat_history.clear()\n",
    "\n",
    "    def get_prompt(self, instruction: str, new_system_prompt: str):\n",
    "        SYSTEM_PROMPT = new_system_prompt + \"\\n\\n\"\n",
    "        prompt_template = self.B_INST + SYSTEM_PROMPT + instruction + self.E_INST\n",
    "        return prompt_template\n",
    "\n",
    "    def chat(self, message: str) -> str:\n",
    "        template = self.get_prompt(\n",
    "            instruction=\"Chat History:\\n\\n{chat_history} \\n\\nUser: {user_input}\",\n",
    "            new_system_prompt=self.DEFAULT_SYSTEM_PROMPT if self.new_system_prompt is None else self.new_system_prompt\n",
    "        )\n",
    "        prompt = PromptTemplate(input_variables=[\"chat_history\", \"user_input\"], template=template)\n",
    "        llm_chain = LLMChain(\n",
    "            llm=self.llm,\n",
    "            prompt=prompt,\n",
    "            verbose=True,\n",
    "            memory=self.chat_history,\n",
    "        )\n",
    "        print (colored(textwrap.fill(llm_chain.predict(user_input=message).strip(), width=100), \"red\"))"
   ]
  },
  {
   "cell_type": "code",
   "execution_count": 15,
   "metadata": {},
   "outputs": [
    {
     "name": "stderr",
     "output_type": "stream",
     "text": [
      "Downloading shards: 100%|██████████| 3/3 [00:00<00:00, 6108.21it/s]"
     ]
    },
    {
     "name": "stderr",
     "output_type": "stream",
     "text": [
      "\n",
      "Loading checkpoint shards: 100%|██████████| 3/3 [00:04<00:00,  1.43s/it]\n"
     ]
    }
   ],
   "source": [
    "mistral_ChatAgent = MistralChatAgent(\n",
    "    tokenizer = AutoTokenizer.from_pretrained(\"mistralai/Mistral-7B-Instruct-v0.2\"),\n",
    "    model = AutoModelForCausalLM.from_pretrained(\"mistralai/Mistral-7B-Instruct-v0.2\", device_map='auto', torch_dtype=torch.float16),\n",
    "    new_system_prompt = \"\"\"Respond with a response in the format requested by the user. Do not acknowledge my request with \"sure\" or in any other way besides going straight to the answer.\"\"\",\n",
    ")"
   ]
  },
  {
   "cell_type": "code",
   "execution_count": 16,
   "metadata": {},
   "outputs": [
    {
     "name": "stdout",
     "output_type": "stream",
     "text": [
      "\n",
      "\n",
      "\u001b[1m> Entering new LLMChain chain...\u001b[0m\n",
      "Prompt after formatting:\n",
      "\u001b[32;1m\u001b[1;3m[INST]Respond with a response in the format requested by the user. Do not acknowledge my request with \"sure\" or in any other way besides going straight to the answer.\n",
      "\n",
      "Chat History:\n",
      "\n",
      " \n",
      "\n",
      "User: My name is Hongli, who are you?[/INST]\u001b[0m\n",
      "\n",
      "\u001b[1m> Finished chain.\u001b[0m\n",
      "\u001b[31mI am a helpful AI designed to assist with information and answer questions to the best of my\n",
      "ability. How can I help you today, Hongli?\u001b[0m\n"
     ]
    }
   ],
   "source": [
    "mistral_ChatAgent.chat(\"My name is Hongli, who are you?\")"
   ]
  },
  {
   "cell_type": "code",
   "execution_count": 17,
   "metadata": {},
   "outputs": [
    {
     "name": "stdout",
     "output_type": "stream",
     "text": [
      "\n",
      "\n",
      "\u001b[1m> Entering new LLMChain chain...\u001b[0m\n",
      "Prompt after formatting:\n",
      "\u001b[32;1m\u001b[1;3m[INST]Respond with a response in the format requested by the user. Do not acknowledge my request with \"sure\" or in any other way besides going straight to the answer.\n",
      "\n",
      "Chat History:\n",
      "\n",
      "Human: My name is Hongli, who are you?\n",
      "AI:  I am a helpful AI designed to assist with information and answer questions to the best of my ability. How can I help you today, Hongli? \n",
      "\n",
      "User: What's my name?[/INST]\u001b[0m\n"
     ]
    },
    {
     "name": "stdout",
     "output_type": "stream",
     "text": [
      "\n",
      "\u001b[1m> Finished chain.\u001b[0m\n",
      "\u001b[31mHongli, I was just introduced to you as your name in our previous interaction. If you have a\n",
      "different name or question, please let me know.\u001b[0m\n"
     ]
    }
   ],
   "source": [
    "mistral_ChatAgent.chat(\"What's my name?\")"
   ]
  },
  {
   "cell_type": "markdown",
   "metadata": {},
   "source": [
    "## Llama-2 (7B)"
   ]
  },
  {
   "cell_type": "code",
   "execution_count": 18,
   "metadata": {},
   "outputs": [],
   "source": [
    "class LLaMA2ChatAgent:\n",
    "    def __init__(\n",
    "        self,\n",
    "        tokenizer: AutoTokenizer,\n",
    "        model: AutoModelForCausalLM,\n",
    "        chat_history: ConversationBufferMemory = ConversationBufferMemory(memory_key=\"chat_history\"),\n",
    "        new_system_prompt: str = None,\n",
    "        max_tokens: int = 128,\n",
    "        temperature: float = 0.7,\n",
    "    ) -> None:\n",
    "        self.tokenizer = tokenizer\n",
    "        self.model = model\n",
    "        self.llm = HuggingFacePipeline(\n",
    "            pipeline = transformers.pipeline(\n",
    "                task=\"text-generation\",\n",
    "                model=self.model, tokenizer=self.tokenizer,\n",
    "                torch_dtype=torch.bfloat16,\n",
    "                device_map=\"auto\",\n",
    "                eos_token_id=self.tokenizer.eos_token_id,\n",
    "                max_new_tokens=max_tokens,\n",
    "            ),\n",
    "            model_kwargs = {'temperature': temperature}\n",
    "        )\n",
    "        self.chat_history = chat_history\n",
    "        self.B_INST, self.E_INST = \"[INST]\", \"[/INST]\"\n",
    "        self.B_SYS, self.E_SYS = \"<<SYS>>\\n\", \"\\n<</SYS>>\\n\\n\"\n",
    "        self.new_system_prompt = new_system_prompt\n",
    "        self.DEFAULT_SYSTEM_PROMPT = \"\"\"You are a helpful, respectful and honest assistant. Always answer as helpfully as possible, while being safe. Your answers should not include any harmful, unethical, racist, sexist, toxic, dangerous, or illegal content. Please ensure that your responses are socially unbiased and positive in nature.\n",
    "\n",
    "If a question does not make any sense, or is not factually coherent, explain why instead of answering something not correct. If you don't know the answer to a question, please don't share false information.\"\"\"\n",
    "\n",
    "    def reset(self) -> None:\n",
    "        self.chat_history.clear()\n",
    "\n",
    "    def get_prompt(self, instruction: str, new_system_prompt: str):\n",
    "        SYSTEM_PROMPT = self.B_SYS + new_system_prompt + self.E_SYS\n",
    "        prompt_template =  self.B_INST + SYSTEM_PROMPT + instruction + self.E_INST\n",
    "        return prompt_template\n",
    "\n",
    "    def chat(self, message: str) -> str:\n",
    "        template = self.get_prompt(\n",
    "            instruction=\"Chat History:\\n\\n{chat_history} \\n\\nUser: {user_input}\",\n",
    "            new_system_prompt=self.DEFAULT_SYSTEM_PROMPT if self.new_system_prompt is None else self.new_system_prompt\n",
    "        )\n",
    "        prompt = PromptTemplate(input_variables=[\"chat_history\", \"user_input\"], template=template)\n",
    "        llm_chain = LLMChain(\n",
    "            llm=self.llm,\n",
    "            prompt=prompt,\n",
    "            verbose=True,\n",
    "            memory=self.chat_history,\n",
    "        )\n",
    "        print (colored(textwrap.fill(llm_chain.predict(user_input=message).strip(), width=100), \"red\"))"
   ]
  },
  {
   "cell_type": "code",
   "execution_count": 19,
   "metadata": {},
   "outputs": [
    {
     "name": "stderr",
     "output_type": "stream",
     "text": [
      "Downloading shards: 100%|██████████| 2/2 [00:00<00:00, 5603.61it/s]\n",
      "Loading checkpoint shards: 100%|██████████| 2/2 [00:04<00:00,  2.39s/it]\n"
     ]
    }
   ],
   "source": [
    "llama_ChatAgent = LLaMA2ChatAgent(\n",
    "    tokenizer = AutoTokenizer.from_pretrained(\n",
    "        \"meta-llama/Llama-2-7b-chat-hf\", token=huggingface_auth_key),\n",
    "    model = AutoModelForCausalLM.from_pretrained(\n",
    "        \"meta-llama/Llama-2-7b-chat-hf\", device_map='auto', torch_dtype=torch.float16, token=huggingface_auth_key),\n",
    "    new_system_prompt = \"\"\"Respond with a response in the format requested by the user. Do not acknowledge my request with \"sure\" or in any other way besides going straight to the answer.\"\"\",\n",
    ")"
   ]
  },
  {
   "cell_type": "code",
   "execution_count": 20,
   "metadata": {},
   "outputs": [
    {
     "name": "stdout",
     "output_type": "stream",
     "text": [
      "\n",
      "\n",
      "\u001b[1m> Entering new LLMChain chain...\u001b[0m\n",
      "Prompt after formatting:\n",
      "\u001b[32;1m\u001b[1;3m[INST]<<SYS>>\n",
      "Respond with a response in the format requested by the user. Do not acknowledge my request with \"sure\" or in any other way besides going straight to the answer.\n",
      "<</SYS>>\n",
      "\n",
      "Chat History:\n",
      "\n",
      " \n",
      "\n",
      "User: My name is Hongli, who are you?[/INST]\u001b[0m\n",
      "\n",
      "\u001b[1m> Finished chain.\u001b[0m\n",
      "\u001b[31mHello Hongli! I am LLaMA, an AI assistant developed by Meta AI that can understand and respond to\n",
      "human input in a conversational manner. How can I assist you today?\u001b[0m\n"
     ]
    }
   ],
   "source": [
    "llama_ChatAgent.chat(\"My name is Hongli, who are you?\")"
   ]
  },
  {
   "cell_type": "code",
   "execution_count": 21,
   "metadata": {},
   "outputs": [
    {
     "name": "stdout",
     "output_type": "stream",
     "text": [
      "\n",
      "\n",
      "\u001b[1m> Entering new LLMChain chain...\u001b[0m\n",
      "Prompt after formatting:\n",
      "\u001b[32;1m\u001b[1;3m[INST]<<SYS>>\n",
      "Respond with a response in the format requested by the user. Do not acknowledge my request with \"sure\" or in any other way besides going straight to the answer.\n",
      "<</SYS>>\n",
      "\n",
      "Chat History:\n",
      "\n",
      "Human: My name is Hongli, who are you?\n",
      "AI:   Hello Hongli! I am LLaMA, an AI assistant developed by Meta AI that can understand and respond to human input in a conversational manner. How can I assist you today? \n",
      "\n",
      "User: What's my name?[/INST]\u001b[0m\n",
      "\n",
      "\u001b[1m> Finished chain.\u001b[0m\n",
      "\u001b[31mYour name is Hongli.\u001b[0m\n"
     ]
    }
   ],
   "source": [
    "llama_ChatAgent.chat(\"What's my name?\")"
   ]
  },
  {
   "cell_type": "markdown",
   "metadata": {},
   "source": [
    "## Try to do some summarization task?"
   ]
  },
  {
   "cell_type": "code",
   "execution_count": 22,
   "metadata": {},
   "outputs": [],
   "source": [
    "text = \"\"\"LONDON, England (Reuters) -- Harry Potter star Daniel Radcliffe gains access to a reported £20 million ($41.1 million) fortune as he turns 18 on Monday, but he insists the money won't cast a spell on him. Daniel Radcliffe as Harry Potter in \"Harry Potter and the Order of the Phoenix\" To the disappointment of gossip columnists around the world, the young actor says he has no plans to fritter his cash away on fast cars, drink and celebrity parties. \"I don't plan to be one of those people who, as soon as they turn 18, suddenly buy themselves a massive sports car collection or something similar,\" he told an Australian interviewer earlier this month. \"I don't think I'll be particularly extravagant. \"The things I like buying are things that cost about 10 pounds -- books and CDs and DVDs.\" At 18, Radcliffe will be able to gamble in a casino, buy a drink in a pub or see the horror film \"Hostel: Part II,\" currently six places below his number one movie on the UK box office chart. Details of how he'll mark his landmark birthday are under wraps. His agent and publicist had no comment on his plans. \"I'll definitely have some sort of party,\" he said in an interview. \"Hopefully none of you will be reading about it.\" Radcliffe's earnings from the first five Potter films have been held in a trust fund which he has not been able to touch. Despite his growing fame and riches, the actor says he is keeping his feet firmly on the ground. \"People are always looking to say 'kid star goes off the rails,'\" he told reporters last month. \"But I try very hard not to go that way because it would be too easy for them.\" His latest outing as the boy wizard in \"Harry Potter and the Order of the Phoenix\" is breaking records on both sides of the Atlantic and he will reprise the role in the last two films. Watch I-Reporter give her review of Potter's latest » . There is life beyond Potter, however. The Londoner has filmed a TV movie called \"My Boy Jack,\" about author Rudyard Kipling and his son, due for release later this year. He will also appear in \"December Boys,\" an Australian film about four boys who escape an orphanage. Earlier this year, he made his stage debut playing a tortured teenager in Peter Shaffer's \"Equus.\" Meanwhile, he is braced for even closer media scrutiny now that he's legally an adult: \"I just think I'm going to be more sort of fair game,\" he told Reuters. E-mail to a friend . Copyright 2007 Reuters. All rights reserved.This material may not be published, broadcast, rewritten, or redistributed.\"\"\""
   ]
  },
  {
   "cell_type": "code",
   "execution_count": 23,
   "metadata": {},
   "outputs": [
    {
     "name": "stdout",
     "output_type": "stream",
     "text": [
      "\n",
      "\n",
      "\u001b[1m> Entering new LLMChain chain...\u001b[0m\n",
      "Prompt after formatting:\n",
      "\u001b[32;1m\u001b[1;3m[INST]Respond with a response in the format requested by the user. Do not acknowledge my request with \"sure\" or in any other way besides going straight to the answer.\n",
      "\n",
      "Chat History:\n",
      "\n",
      " \n",
      "\n",
      "User: Please summarize the following article: \n",
      "LONDON, England (Reuters) -- Harry Potter star Daniel Radcliffe gains access to a reported £20 million ($41.1 million) fortune as he turns 18 on Monday, but he insists the money won't cast a spell on him. Daniel Radcliffe as Harry Potter in \"Harry Potter and the Order of the Phoenix\" To the disappointment of gossip columnists around the world, the young actor says he has no plans to fritter his cash away on fast cars, drink and celebrity parties. \"I don't plan to be one of those people who, as soon as they turn 18, suddenly buy themselves a massive sports car collection or something similar,\" he told an Australian interviewer earlier this month. \"I don't think I'll be particularly extravagant. \"The things I like buying are things that cost about 10 pounds -- books and CDs and DVDs.\" At 18, Radcliffe will be able to gamble in a casino, buy a drink in a pub or see the horror film \"Hostel: Part II,\" currently six places below his number one movie on the UK box office chart. Details of how he'll mark his landmark birthday are under wraps. His agent and publicist had no comment on his plans. \"I'll definitely have some sort of party,\" he said in an interview. \"Hopefully none of you will be reading about it.\" Radcliffe's earnings from the first five Potter films have been held in a trust fund which he has not been able to touch. Despite his growing fame and riches, the actor says he is keeping his feet firmly on the ground. \"People are always looking to say 'kid star goes off the rails,'\" he told reporters last month. \"But I try very hard not to go that way because it would be too easy for them.\" His latest outing as the boy wizard in \"Harry Potter and the Order of the Phoenix\" is breaking records on both sides of the Atlantic and he will reprise the role in the last two films. Watch I-Reporter give her review of Potter's latest » . There is life beyond Potter, however. The Londoner has filmed a TV movie called \"My Boy Jack,\" about author Rudyard Kipling and his son, due for release later this year. He will also appear in \"December Boys,\" an Australian film about four boys who escape an orphanage. Earlier this year, he made his stage debut playing a tortured teenager in Peter Shaffer's \"Equus.\" Meanwhile, he is braced for even closer media scrutiny now that he's legally an adult: \"I just think I'm going to be more sort of fair game,\" he told Reuters. E-mail to a friend . Copyright 2007 Reuters. All rights reserved.This material may not be published, broadcast, rewritten, or redistributed.[/INST]\u001b[0m\n",
      "\n",
      "\u001b[1m> Finished chain.\u001b[0m\n",
      "\u001b[31mDaniel Radcliffe, the Harry Potter star, turns 18 on Monday and gains access to a reported £20\n",
      "million fortune. Despite the newfound wealth, Radcliffe has no plans to spend it on extravagant\n",
      "items or parties. He prefers buying books, CDs, and DVDs. Radcliffe will be able to gamble, buy\n",
      "alcohol, and watch R-rated movies now that he's an adult. He plans to have a party but wants to keep\n",
      "the details private. Radcliffe's earnings from the first five Potter films have been held in a trust\n",
      "fund.\u001b[0m\n"
     ]
    }
   ],
   "source": [
    "mistral_ChatAgent.reset()\n",
    "mistral_ChatAgent.chat(f\"Please summarize the following article: \\n{text}\")"
   ]
  },
  {
   "cell_type": "code",
   "execution_count": 24,
   "metadata": {},
   "outputs": [
    {
     "name": "stdout",
     "output_type": "stream",
     "text": [
      "\n",
      "\n",
      "\u001b[1m> Entering new LLMChain chain...\u001b[0m\n",
      "Prompt after formatting:\n",
      "\u001b[32;1m\u001b[1;3m[INST]<<SYS>>\n",
      "Respond with a response in the format requested by the user. Do not acknowledge my request with \"sure\" or in any other way besides going straight to the answer.\n",
      "<</SYS>>\n",
      "\n",
      "Chat History:\n",
      "\n",
      " \n",
      "\n",
      "User: Please summarize the following article: \n",
      "LONDON, England (Reuters) -- Harry Potter star Daniel Radcliffe gains access to a reported £20 million ($41.1 million) fortune as he turns 18 on Monday, but he insists the money won't cast a spell on him. Daniel Radcliffe as Harry Potter in \"Harry Potter and the Order of the Phoenix\" To the disappointment of gossip columnists around the world, the young actor says he has no plans to fritter his cash away on fast cars, drink and celebrity parties. \"I don't plan to be one of those people who, as soon as they turn 18, suddenly buy themselves a massive sports car collection or something similar,\" he told an Australian interviewer earlier this month. \"I don't think I'll be particularly extravagant. \"The things I like buying are things that cost about 10 pounds -- books and CDs and DVDs.\" At 18, Radcliffe will be able to gamble in a casino, buy a drink in a pub or see the horror film \"Hostel: Part II,\" currently six places below his number one movie on the UK box office chart. Details of how he'll mark his landmark birthday are under wraps. His agent and publicist had no comment on his plans. \"I'll definitely have some sort of party,\" he said in an interview. \"Hopefully none of you will be reading about it.\" Radcliffe's earnings from the first five Potter films have been held in a trust fund which he has not been able to touch. Despite his growing fame and riches, the actor says he is keeping his feet firmly on the ground. \"People are always looking to say 'kid star goes off the rails,'\" he told reporters last month. \"But I try very hard not to go that way because it would be too easy for them.\" His latest outing as the boy wizard in \"Harry Potter and the Order of the Phoenix\" is breaking records on both sides of the Atlantic and he will reprise the role in the last two films. Watch I-Reporter give her review of Potter's latest » . There is life beyond Potter, however. The Londoner has filmed a TV movie called \"My Boy Jack,\" about author Rudyard Kipling and his son, due for release later this year. He will also appear in \"December Boys,\" an Australian film about four boys who escape an orphanage. Earlier this year, he made his stage debut playing a tortured teenager in Peter Shaffer's \"Equus.\" Meanwhile, he is braced for even closer media scrutiny now that he's legally an adult: \"I just think I'm going to be more sort of fair game,\" he told Reuters. E-mail to a friend . Copyright 2007 Reuters. All rights reserved.This material may not be published, broadcast, rewritten, or redistributed.[/INST]\u001b[0m\n",
      "\n",
      "\u001b[1m> Finished chain.\u001b[0m\n",
      "\u001b[31mHere is a summary of the article in the format requested:  Daniel Radcliffe, star of the Harry\n",
      "Potter franchise, turns 18 on Monday and gains access to a reported £20 million fortune. However, he\n",
      "insists that he will not spend his money extravagantly, preferring to buy books, CDs, and DVDs\n",
      "rather than fast cars or celebrity party favors. Despite his growing fame and wealth, Radcliffe is\n",
      "determined to keep his feet firmly on the ground and avoid the \"kid star goes off the rails\" label.\n",
      "He has filmed several\u001b[0m\n"
     ]
    }
   ],
   "source": [
    "llama_ChatAgent.reset()\n",
    "llama_ChatAgent.chat(f\"Please summarize the following article: \\n{text}\")"
   ]
  },
  {
   "cell_type": "markdown",
   "metadata": {},
   "source": [
    "## OpenAI models"
   ]
  },
  {
   "cell_type": "code",
   "execution_count": 25,
   "metadata": {},
   "outputs": [],
   "source": [
    "import os\n",
    "openai_api_key = open(\"./auth_keys/openai_key.txt\", \"r\").read()\n",
    "os.environ[\"OPENAI_API_KEY\"] = openai_api_key"
   ]
  },
  {
   "cell_type": "code",
   "execution_count": 26,
   "metadata": {},
   "outputs": [],
   "source": [
    "from openai import OpenAI\n",
    "\n",
    "class OpenAIAgent:\n",
    "    def __init__(\n",
    "        self,\n",
    "        model_name: str = \"gpt-3.5-turbo\",\n",
    "        new_system_prompt: str = None,\n",
    "        max_tokens: int = 128,\n",
    "        temperature: float = 0.7,\n",
    "        seed: int = 42,\n",
    "    ) -> None:\n",
    "        self.client = OpenAI()\n",
    "        self.model_name = model_name\n",
    "        self.max_tokens = max_tokens\n",
    "        self.temperature = temperature\n",
    "        self.seed = seed\n",
    "        self.DEFAULT_SYSTEM_PROMPT = \"\"\"You are a helpful, respectful and honest assistant. Always answer as helpfully as possible, while being safe. Your answers should not include any harmful, unethical, racist, sexist, toxic, dangerous, or illegal content. Please ensure that your responses are socially unbiased and positive in nature.\n",
    "\n",
    "If a question does not make any sense, or is not factually coherent, explain why instead of answering something not correct. If you don't know the answer to a question, please don't share false information.\"\"\"\n",
    "        self.system_prompt = new_system_prompt if new_system_prompt is not None else self.DEFAULT_SYSTEM_PROMPT\n",
    "        self.chat_history = [{\"role\": \"system\", \"content\": self.system_prompt}]\n",
    "\n",
    "    def reset(self) -> None:\n",
    "        self.chat_history = [{\"role\": \"system\", \"content\": self.system_prompt}]\n",
    "\n",
    "    def chat(self, message: str) -> str:\n",
    "        self.chat_history.append({\"role\": \"user\", \"content\": message})\n",
    "        for role in self.chat_history:\n",
    "            for key, value in role.items():\n",
    "                print (colored(f'{key}:', \"yellow\"), colored(f'{value}', \"green\"))\n",
    "        ai_message = self.client.chat.completions.create(\n",
    "            model = self.model_name,\n",
    "            messages = self.chat_history,\n",
    "            temperature = self.temperature,\n",
    "            max_tokens = self.max_tokens,\n",
    "            seed = self.seed,\n",
    "        ).choices[0].message.content\n",
    "\n",
    "        self.chat_history.append({\"role\": \"assistant\", \"content\": ai_message})\n",
    "        print (textwrap.fill(colored(ai_message, \"red\"), width=100))"
   ]
  },
  {
   "cell_type": "code",
   "execution_count": 27,
   "metadata": {},
   "outputs": [],
   "source": [
    "gpt_ChatAgent = OpenAIAgent(\n",
    "    model_name = \"gpt-3.5-turbo\",\n",
    "    new_system_prompt = \"\"\"Respond with a response in the format requested by the user. Do not acknowledge my request with \"sure\" or in any other way besides going straight to the answer.\"\"\",\n",
    ")"
   ]
  },
  {
   "cell_type": "code",
   "execution_count": 28,
   "metadata": {},
   "outputs": [
    {
     "name": "stdout",
     "output_type": "stream",
     "text": [
      "\u001b[33mrole:\u001b[0m \u001b[32msystem\u001b[0m\n",
      "\u001b[33mcontent:\u001b[0m \u001b[32mRespond with a response in the format requested by the user. Do not acknowledge my request with \"sure\" or in any other way besides going straight to the answer.\u001b[0m\n",
      "\u001b[33mrole:\u001b[0m \u001b[32muser\u001b[0m\n",
      "\u001b[33mcontent:\u001b[0m \u001b[32mMy name is Hongli, who are you?\u001b[0m\n",
      "\u001b[31mYou can call me Assistant.\u001b[0m\n"
     ]
    }
   ],
   "source": [
    "gpt_ChatAgent.chat(\"My name is Hongli, who are you?\")"
   ]
  },
  {
   "cell_type": "code",
   "execution_count": 29,
   "metadata": {},
   "outputs": [
    {
     "name": "stdout",
     "output_type": "stream",
     "text": [
      "\u001b[33mrole:\u001b[0m \u001b[32msystem\u001b[0m\n",
      "\u001b[33mcontent:\u001b[0m \u001b[32mRespond with a response in the format requested by the user. Do not acknowledge my request with \"sure\" or in any other way besides going straight to the answer.\u001b[0m\n",
      "\u001b[33mrole:\u001b[0m \u001b[32muser\u001b[0m\n",
      "\u001b[33mcontent:\u001b[0m \u001b[32mMy name is Hongli, who are you?\u001b[0m\n",
      "\u001b[33mrole:\u001b[0m \u001b[32massistant\u001b[0m\n",
      "\u001b[33mcontent:\u001b[0m \u001b[32mYou can call me Assistant.\u001b[0m\n",
      "\u001b[33mrole:\u001b[0m \u001b[32muser\u001b[0m\n",
      "\u001b[33mcontent:\u001b[0m \u001b[32mWho am I?\u001b[0m\n",
      "\u001b[31mYou are Hongli.\u001b[0m\n"
     ]
    }
   ],
   "source": [
    "gpt_ChatAgent.chat(\"Who am I?\")"
   ]
  },
  {
   "cell_type": "code",
   "execution_count": 30,
   "metadata": {},
   "outputs": [
    {
     "name": "stdout",
     "output_type": "stream",
     "text": [
      "\u001b[33mrole:\u001b[0m \u001b[32msystem\u001b[0m\n",
      "\u001b[33mcontent:\u001b[0m \u001b[32mRespond with a response in the format requested by the user. Do not acknowledge my request with \"sure\" or in any other way besides going straight to the answer.\u001b[0m\n",
      "\u001b[33mrole:\u001b[0m \u001b[32muser\u001b[0m\n",
      "\u001b[33mcontent:\u001b[0m \u001b[32mPlease summarize the following article: \n",
      "LONDON, England (Reuters) -- Harry Potter star Daniel Radcliffe gains access to a reported £20 million ($41.1 million) fortune as he turns 18 on Monday, but he insists the money won't cast a spell on him. Daniel Radcliffe as Harry Potter in \"Harry Potter and the Order of the Phoenix\" To the disappointment of gossip columnists around the world, the young actor says he has no plans to fritter his cash away on fast cars, drink and celebrity parties. \"I don't plan to be one of those people who, as soon as they turn 18, suddenly buy themselves a massive sports car collection or something similar,\" he told an Australian interviewer earlier this month. \"I don't think I'll be particularly extravagant. \"The things I like buying are things that cost about 10 pounds -- books and CDs and DVDs.\" At 18, Radcliffe will be able to gamble in a casino, buy a drink in a pub or see the horror film \"Hostel: Part II,\" currently six places below his number one movie on the UK box office chart. Details of how he'll mark his landmark birthday are under wraps. His agent and publicist had no comment on his plans. \"I'll definitely have some sort of party,\" he said in an interview. \"Hopefully none of you will be reading about it.\" Radcliffe's earnings from the first five Potter films have been held in a trust fund which he has not been able to touch. Despite his growing fame and riches, the actor says he is keeping his feet firmly on the ground. \"People are always looking to say 'kid star goes off the rails,'\" he told reporters last month. \"But I try very hard not to go that way because it would be too easy for them.\" His latest outing as the boy wizard in \"Harry Potter and the Order of the Phoenix\" is breaking records on both sides of the Atlantic and he will reprise the role in the last two films. Watch I-Reporter give her review of Potter's latest » . There is life beyond Potter, however. The Londoner has filmed a TV movie called \"My Boy Jack,\" about author Rudyard Kipling and his son, due for release later this year. He will also appear in \"December Boys,\" an Australian film about four boys who escape an orphanage. Earlier this year, he made his stage debut playing a tortured teenager in Peter Shaffer's \"Equus.\" Meanwhile, he is braced for even closer media scrutiny now that he's legally an adult: \"I just think I'm going to be more sort of fair game,\" he told Reuters. E-mail to a friend . Copyright 2007 Reuters. All rights reserved.This material may not be published, broadcast, rewritten, or redistributed.\u001b[0m\n",
      "\u001b[31mDaniel Radcliffe, famous for his role as Harry Potter, celebrates his 18th birthday with access\n",
      "to a £20 million fortune. Despite his newfound wealth, Radcliffe plans to remain grounded and avoid\n",
      "extravagant spending, preferring to buy books, CDs, and DVDs. He plans to celebrate his birthday\n",
      "with a party, but details are kept secret. Radcliffe's earnings from the Potter films have been held\n",
      "in a trust fund, and he aims to steer clear of the pitfalls often associated with child stars.\n",
      "Alongside his Potter role, Radcliffe has worked on other projects like the TV movie \"My Boy Jack\"\n",
      "and the Australian film \"December\u001b[0m\n"
     ]
    }
   ],
   "source": [
    "gpt_ChatAgent.reset()\n",
    "gpt_ChatAgent.chat(f\"Please summarize the following article: \\n{text}\")"
   ]
  }
 ],
 "metadata": {
  "kernelspec": {
   "display_name": "base",
   "language": "python",
   "name": "python3"
  },
  "language_info": {
   "codemirror_mode": {
    "name": "ipython",
    "version": 3
   },
   "file_extension": ".py",
   "mimetype": "text/x-python",
   "name": "python",
   "nbconvert_exporter": "python",
   "pygments_lexer": "ipython3",
   "version": "3.11.5"
  }
 },
 "nbformat": 4,
 "nbformat_minor": 2
}
